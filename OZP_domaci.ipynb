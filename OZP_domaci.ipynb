{
 "cells": [
  {
   "cell_type": "code",
   "execution_count": 34,
   "metadata": {},
   "outputs": [],
   "source": [
    "#ucitavanje biblioteka\n",
    "import pandas as pd\n",
    "import numpy as np\n",
    "from sklearn.preprocessing import MinMaxScaler\n",
    "from sklearn.cluster import KMeans\n",
    "from sklearn.tree import DecisionTreeRegressor\n",
    "from sklearn.model_selection import train_test_split\n",
    "from sklearn import decomposition\n",
    "import matplotlib.pyplot as plt\n",
    "%matplotlib inline\n",
    "import seaborn as sns\n",
    "sns.set(rc={'figure.figsize':(11.7,8.27)})\n",
    "from sklearn.metrics import silhouette_score\n",
    "from scipy import stats\n",
    "from sklearn.pipeline import Pipeline\n",
    "from sklearn.neighbors import KNeighborsClassifier\n",
    "from sklearn.model_selection import StratifiedKFold\n",
    "from sklearn.metrics import accuracy_score\n",
    "from sklearn.feature_selection import SelectFromModel\n",
    "from sklearn.model_selection import cross_val_score\n",
    "from sklearn import datasets, linear_model \n",
    "from sklearn.metrics import mean_squared_error, r2_score\n",
    "from sklearn import neighbors\n",
    "from math import sqrt"
   ]
  },
  {
   "cell_type": "code",
   "execution_count": 35,
   "metadata": {},
   "outputs": [],
   "source": [
    "#ucitavanje dataset-a\n",
    "df = pd.read_csv('Bike Sharing.csv')"
   ]
  },
  {
   "cell_type": "code",
   "execution_count": 36,
   "metadata": {
    "scrolled": true
   },
   "outputs": [
    {
     "data": {
      "text/html": [
       "<div>\n",
       "<style scoped>\n",
       "    .dataframe tbody tr th:only-of-type {\n",
       "        vertical-align: middle;\n",
       "    }\n",
       "\n",
       "    .dataframe tbody tr th {\n",
       "        vertical-align: top;\n",
       "    }\n",
       "\n",
       "    .dataframe thead th {\n",
       "        text-align: right;\n",
       "    }\n",
       "</style>\n",
       "<table border=\"1\" class=\"dataframe\">\n",
       "  <thead>\n",
       "    <tr style=\"text-align: right;\">\n",
       "      <th></th>\n",
       "      <th>instant</th>\n",
       "      <th>dteday</th>\n",
       "      <th>season</th>\n",
       "      <th>yr</th>\n",
       "      <th>mnth</th>\n",
       "      <th>holiday</th>\n",
       "      <th>weekday</th>\n",
       "      <th>workingday</th>\n",
       "      <th>weathersit</th>\n",
       "      <th>temp</th>\n",
       "      <th>atemp</th>\n",
       "      <th>hum</th>\n",
       "      <th>windspeed</th>\n",
       "      <th>casual</th>\n",
       "      <th>registered</th>\n",
       "      <th>cnt</th>\n",
       "    </tr>\n",
       "  </thead>\n",
       "  <tbody>\n",
       "    <tr>\n",
       "      <th>0</th>\n",
       "      <td>1</td>\n",
       "      <td>2011-01-01</td>\n",
       "      <td>1</td>\n",
       "      <td>0</td>\n",
       "      <td>1</td>\n",
       "      <td>0</td>\n",
       "      <td>6</td>\n",
       "      <td>0</td>\n",
       "      <td>2</td>\n",
       "      <td>0.344167</td>\n",
       "      <td>0.363625</td>\n",
       "      <td>0.805833</td>\n",
       "      <td>0.160446</td>\n",
       "      <td>331.0</td>\n",
       "      <td>654.0</td>\n",
       "      <td>985</td>\n",
       "    </tr>\n",
       "    <tr>\n",
       "      <th>1</th>\n",
       "      <td>2</td>\n",
       "      <td>2011-01-02</td>\n",
       "      <td>1</td>\n",
       "      <td>0</td>\n",
       "      <td>1</td>\n",
       "      <td>0</td>\n",
       "      <td>0</td>\n",
       "      <td>0</td>\n",
       "      <td>2</td>\n",
       "      <td>0.363478</td>\n",
       "      <td>0.353739</td>\n",
       "      <td>0.696087</td>\n",
       "      <td>0.248539</td>\n",
       "      <td>131.0</td>\n",
       "      <td>670.0</td>\n",
       "      <td>801</td>\n",
       "    </tr>\n",
       "    <tr>\n",
       "      <th>2</th>\n",
       "      <td>3</td>\n",
       "      <td>2011-01-03</td>\n",
       "      <td>1</td>\n",
       "      <td>0</td>\n",
       "      <td>1</td>\n",
       "      <td>0</td>\n",
       "      <td>1</td>\n",
       "      <td>1</td>\n",
       "      <td>1</td>\n",
       "      <td>0.196364</td>\n",
       "      <td>0.189405</td>\n",
       "      <td>0.437273</td>\n",
       "      <td>0.248309</td>\n",
       "      <td>120.0</td>\n",
       "      <td>1229.0</td>\n",
       "      <td>1349</td>\n",
       "    </tr>\n",
       "    <tr>\n",
       "      <th>3</th>\n",
       "      <td>4</td>\n",
       "      <td>2011-01-04</td>\n",
       "      <td>1</td>\n",
       "      <td>0</td>\n",
       "      <td>1</td>\n",
       "      <td>0</td>\n",
       "      <td>2</td>\n",
       "      <td>1</td>\n",
       "      <td>1</td>\n",
       "      <td>0.200000</td>\n",
       "      <td>0.212122</td>\n",
       "      <td>0.590435</td>\n",
       "      <td>NaN</td>\n",
       "      <td>108.0</td>\n",
       "      <td>1454.0</td>\n",
       "      <td>1562</td>\n",
       "    </tr>\n",
       "    <tr>\n",
       "      <th>4</th>\n",
       "      <td>5</td>\n",
       "      <td>2011-01-05</td>\n",
       "      <td>1</td>\n",
       "      <td>0</td>\n",
       "      <td>1</td>\n",
       "      <td>0</td>\n",
       "      <td>3</td>\n",
       "      <td>1</td>\n",
       "      <td>1</td>\n",
       "      <td>0.226957</td>\n",
       "      <td>0.229270</td>\n",
       "      <td>0.436957</td>\n",
       "      <td>0.186900</td>\n",
       "      <td>82.0</td>\n",
       "      <td>1518.0</td>\n",
       "      <td>1600</td>\n",
       "    </tr>\n",
       "  </tbody>\n",
       "</table>\n",
       "</div>"
      ],
      "text/plain": [
       "   instant      dteday  season  yr  mnth  holiday  weekday  workingday  \\\n",
       "0        1  2011-01-01       1   0     1        0        6           0   \n",
       "1        2  2011-01-02       1   0     1        0        0           0   \n",
       "2        3  2011-01-03       1   0     1        0        1           1   \n",
       "3        4  2011-01-04       1   0     1        0        2           1   \n",
       "4        5  2011-01-05       1   0     1        0        3           1   \n",
       "\n",
       "   weathersit      temp     atemp       hum  windspeed  casual  registered  \\\n",
       "0           2  0.344167  0.363625  0.805833   0.160446   331.0       654.0   \n",
       "1           2  0.363478  0.353739  0.696087   0.248539   131.0       670.0   \n",
       "2           1  0.196364  0.189405  0.437273   0.248309   120.0      1229.0   \n",
       "3           1  0.200000  0.212122  0.590435        NaN   108.0      1454.0   \n",
       "4           1  0.226957  0.229270  0.436957   0.186900    82.0      1518.0   \n",
       "\n",
       "    cnt  \n",
       "0   985  \n",
       "1   801  \n",
       "2  1349  \n",
       "3  1562  \n",
       "4  1600  "
      ]
     },
     "execution_count": 36,
     "metadata": {},
     "output_type": "execute_result"
    }
   ],
   "source": [
    "df.head()"
   ]
  },
  {
   "cell_type": "code",
   "execution_count": 37,
   "metadata": {},
   "outputs": [
    {
     "data": {
      "text/plain": [
       "instant         int64\n",
       "dteday         object\n",
       "season          int64\n",
       "yr              int64\n",
       "mnth            int64\n",
       "holiday         int64\n",
       "weekday         int64\n",
       "workingday      int64\n",
       "weathersit      int64\n",
       "temp          float64\n",
       "atemp         float64\n",
       "hum           float64\n",
       "windspeed     float64\n",
       "casual        float64\n",
       "registered    float64\n",
       "cnt             int64\n",
       "dtype: object"
      ]
     },
     "execution_count": 37,
     "metadata": {},
     "output_type": "execute_result"
    }
   ],
   "source": [
    "#tipovi podataka\n",
    "df.dtypes"
   ]
  },
  {
   "cell_type": "code",
   "execution_count": 38,
   "metadata": {},
   "outputs": [
    {
     "data": {
      "text/html": [
       "<div>\n",
       "<style scoped>\n",
       "    .dataframe tbody tr th:only-of-type {\n",
       "        vertical-align: middle;\n",
       "    }\n",
       "\n",
       "    .dataframe tbody tr th {\n",
       "        vertical-align: top;\n",
       "    }\n",
       "\n",
       "    .dataframe thead th {\n",
       "        text-align: right;\n",
       "    }\n",
       "</style>\n",
       "<table border=\"1\" class=\"dataframe\">\n",
       "  <thead>\n",
       "    <tr style=\"text-align: right;\">\n",
       "      <th></th>\n",
       "      <th>instant</th>\n",
       "      <th>season</th>\n",
       "      <th>yr</th>\n",
       "      <th>mnth</th>\n",
       "      <th>holiday</th>\n",
       "      <th>weekday</th>\n",
       "      <th>workingday</th>\n",
       "      <th>weathersit</th>\n",
       "      <th>temp</th>\n",
       "      <th>atemp</th>\n",
       "      <th>hum</th>\n",
       "      <th>windspeed</th>\n",
       "      <th>casual</th>\n",
       "      <th>registered</th>\n",
       "      <th>cnt</th>\n",
       "    </tr>\n",
       "  </thead>\n",
       "  <tbody>\n",
       "    <tr>\n",
       "      <th>count</th>\n",
       "      <td>731.000000</td>\n",
       "      <td>731.000000</td>\n",
       "      <td>731.000000</td>\n",
       "      <td>731.000000</td>\n",
       "      <td>731.000000</td>\n",
       "      <td>731.000000</td>\n",
       "      <td>731.000000</td>\n",
       "      <td>731.000000</td>\n",
       "      <td>729.000000</td>\n",
       "      <td>728.000000</td>\n",
       "      <td>730.000000</td>\n",
       "      <td>728.000000</td>\n",
       "      <td>729.000000</td>\n",
       "      <td>730.000000</td>\n",
       "      <td>731.000000</td>\n",
       "    </tr>\n",
       "    <tr>\n",
       "      <th>mean</th>\n",
       "      <td>366.000000</td>\n",
       "      <td>2.496580</td>\n",
       "      <td>0.500684</td>\n",
       "      <td>6.519836</td>\n",
       "      <td>0.028728</td>\n",
       "      <td>2.997264</td>\n",
       "      <td>0.683995</td>\n",
       "      <td>1.395349</td>\n",
       "      <td>0.494953</td>\n",
       "      <td>0.474203</td>\n",
       "      <td>0.627809</td>\n",
       "      <td>0.190449</td>\n",
       "      <td>848.791495</td>\n",
       "      <td>3654.549315</td>\n",
       "      <td>4504.348837</td>\n",
       "    </tr>\n",
       "    <tr>\n",
       "      <th>std</th>\n",
       "      <td>211.165812</td>\n",
       "      <td>1.110807</td>\n",
       "      <td>0.500342</td>\n",
       "      <td>3.451913</td>\n",
       "      <td>0.167155</td>\n",
       "      <td>2.004787</td>\n",
       "      <td>0.465233</td>\n",
       "      <td>0.544894</td>\n",
       "      <td>0.182968</td>\n",
       "      <td>0.162960</td>\n",
       "      <td>0.142508</td>\n",
       "      <td>0.077456</td>\n",
       "      <td>687.415068</td>\n",
       "      <td>1560.708499</td>\n",
       "      <td>1937.211452</td>\n",
       "    </tr>\n",
       "    <tr>\n",
       "      <th>min</th>\n",
       "      <td>1.000000</td>\n",
       "      <td>1.000000</td>\n",
       "      <td>0.000000</td>\n",
       "      <td>1.000000</td>\n",
       "      <td>0.000000</td>\n",
       "      <td>0.000000</td>\n",
       "      <td>0.000000</td>\n",
       "      <td>1.000000</td>\n",
       "      <td>0.059130</td>\n",
       "      <td>0.079070</td>\n",
       "      <td>0.000000</td>\n",
       "      <td>0.022392</td>\n",
       "      <td>2.000000</td>\n",
       "      <td>20.000000</td>\n",
       "      <td>22.000000</td>\n",
       "    </tr>\n",
       "    <tr>\n",
       "      <th>25%</th>\n",
       "      <td>183.500000</td>\n",
       "      <td>2.000000</td>\n",
       "      <td>0.000000</td>\n",
       "      <td>4.000000</td>\n",
       "      <td>0.000000</td>\n",
       "      <td>1.000000</td>\n",
       "      <td>0.000000</td>\n",
       "      <td>1.000000</td>\n",
       "      <td>0.336667</td>\n",
       "      <td>0.337891</td>\n",
       "      <td>0.520000</td>\n",
       "      <td>0.134950</td>\n",
       "      <td>315.000000</td>\n",
       "      <td>2495.000000</td>\n",
       "      <td>3152.000000</td>\n",
       "    </tr>\n",
       "    <tr>\n",
       "      <th>50%</th>\n",
       "      <td>366.000000</td>\n",
       "      <td>3.000000</td>\n",
       "      <td>1.000000</td>\n",
       "      <td>7.000000</td>\n",
       "      <td>0.000000</td>\n",
       "      <td>3.000000</td>\n",
       "      <td>1.000000</td>\n",
       "      <td>1.000000</td>\n",
       "      <td>0.498333</td>\n",
       "      <td>0.485158</td>\n",
       "      <td>0.626250</td>\n",
       "      <td>0.180975</td>\n",
       "      <td>713.000000</td>\n",
       "      <td>3660.000000</td>\n",
       "      <td>4548.000000</td>\n",
       "    </tr>\n",
       "    <tr>\n",
       "      <th>75%</th>\n",
       "      <td>548.500000</td>\n",
       "      <td>3.000000</td>\n",
       "      <td>1.000000</td>\n",
       "      <td>10.000000</td>\n",
       "      <td>0.000000</td>\n",
       "      <td>5.000000</td>\n",
       "      <td>1.000000</td>\n",
       "      <td>2.000000</td>\n",
       "      <td>0.655000</td>\n",
       "      <td>0.608289</td>\n",
       "      <td>0.730313</td>\n",
       "      <td>0.233211</td>\n",
       "      <td>1097.000000</td>\n",
       "      <td>4759.750000</td>\n",
       "      <td>5956.000000</td>\n",
       "    </tr>\n",
       "    <tr>\n",
       "      <th>max</th>\n",
       "      <td>731.000000</td>\n",
       "      <td>4.000000</td>\n",
       "      <td>1.000000</td>\n",
       "      <td>12.000000</td>\n",
       "      <td>1.000000</td>\n",
       "      <td>6.000000</td>\n",
       "      <td>1.000000</td>\n",
       "      <td>3.000000</td>\n",
       "      <td>0.861667</td>\n",
       "      <td>0.840896</td>\n",
       "      <td>0.972500</td>\n",
       "      <td>0.507463</td>\n",
       "      <td>3410.000000</td>\n",
       "      <td>6946.000000</td>\n",
       "      <td>8714.000000</td>\n",
       "    </tr>\n",
       "  </tbody>\n",
       "</table>\n",
       "</div>"
      ],
      "text/plain": [
       "          instant      season          yr        mnth     holiday     weekday  \\\n",
       "count  731.000000  731.000000  731.000000  731.000000  731.000000  731.000000   \n",
       "mean   366.000000    2.496580    0.500684    6.519836    0.028728    2.997264   \n",
       "std    211.165812    1.110807    0.500342    3.451913    0.167155    2.004787   \n",
       "min      1.000000    1.000000    0.000000    1.000000    0.000000    0.000000   \n",
       "25%    183.500000    2.000000    0.000000    4.000000    0.000000    1.000000   \n",
       "50%    366.000000    3.000000    1.000000    7.000000    0.000000    3.000000   \n",
       "75%    548.500000    3.000000    1.000000   10.000000    0.000000    5.000000   \n",
       "max    731.000000    4.000000    1.000000   12.000000    1.000000    6.000000   \n",
       "\n",
       "       workingday  weathersit        temp       atemp         hum   windspeed  \\\n",
       "count  731.000000  731.000000  729.000000  728.000000  730.000000  728.000000   \n",
       "mean     0.683995    1.395349    0.494953    0.474203    0.627809    0.190449   \n",
       "std      0.465233    0.544894    0.182968    0.162960    0.142508    0.077456   \n",
       "min      0.000000    1.000000    0.059130    0.079070    0.000000    0.022392   \n",
       "25%      0.000000    1.000000    0.336667    0.337891    0.520000    0.134950   \n",
       "50%      1.000000    1.000000    0.498333    0.485158    0.626250    0.180975   \n",
       "75%      1.000000    2.000000    0.655000    0.608289    0.730313    0.233211   \n",
       "max      1.000000    3.000000    0.861667    0.840896    0.972500    0.507463   \n",
       "\n",
       "            casual   registered          cnt  \n",
       "count   729.000000   730.000000   731.000000  \n",
       "mean    848.791495  3654.549315  4504.348837  \n",
       "std     687.415068  1560.708499  1937.211452  \n",
       "min       2.000000    20.000000    22.000000  \n",
       "25%     315.000000  2495.000000  3152.000000  \n",
       "50%     713.000000  3660.000000  4548.000000  \n",
       "75%    1097.000000  4759.750000  5956.000000  \n",
       "max    3410.000000  6946.000000  8714.000000  "
      ]
     },
     "execution_count": 38,
     "metadata": {},
     "output_type": "execute_result"
    }
   ],
   "source": [
    "#deskriptivna statistika\n",
    "df.describe()"
   ]
  },
  {
   "cell_type": "code",
   "execution_count": 39,
   "metadata": {
    "scrolled": true
   },
   "outputs": [
    {
     "data": {
      "text/plain": [
       "instant       0\n",
       "dteday        0\n",
       "season        0\n",
       "yr            0\n",
       "mnth          0\n",
       "holiday       0\n",
       "weekday       0\n",
       "workingday    0\n",
       "weathersit    0\n",
       "temp          2\n",
       "atemp         3\n",
       "hum           1\n",
       "windspeed     3\n",
       "casual        2\n",
       "registered    1\n",
       "cnt           0\n",
       "dtype: int64"
      ]
     },
     "execution_count": 39,
     "metadata": {},
     "output_type": "execute_result"
    }
   ],
   "source": [
    "#provera null vrednosti\n",
    "df.isnull().sum()"
   ]
  },
  {
   "cell_type": "code",
   "execution_count": 40,
   "metadata": {},
   "outputs": [
    {
     "data": {
      "text/plain": [
       "(731, 16)"
      ]
     },
     "execution_count": 40,
     "metadata": {},
     "output_type": "execute_result"
    }
   ],
   "source": [
    "#broj redova i kolona\n",
    "df.shape"
   ]
  },
  {
   "cell_type": "code",
   "execution_count": 41,
   "metadata": {},
   "outputs": [],
   "source": [
    "#izbacivanje redova u kojima bar jedna kolona ima null vrednost\n",
    "df = df.dropna(how='any')"
   ]
  },
  {
   "cell_type": "code",
   "execution_count": 42,
   "metadata": {},
   "outputs": [
    {
     "data": {
      "text/plain": [
       "(719, 16)"
      ]
     },
     "execution_count": 42,
     "metadata": {},
     "output_type": "execute_result"
    }
   ],
   "source": [
    "#broj redova i kolona nakon izbacivanja null vrednosti\n",
    "df.shape"
   ]
  },
  {
   "cell_type": "code",
   "execution_count": 43,
   "metadata": {},
   "outputs": [
    {
     "data": {
      "text/plain": [
       "Index(['instant', 'dteday', 'season', 'yr', 'mnth', 'holiday', 'weekday',\n",
       "       'workingday', 'weathersit', 'temp', 'atemp', 'hum', 'windspeed',\n",
       "       'casual', 'registered', 'cnt'],\n",
       "      dtype='object')"
      ]
     },
     "execution_count": 43,
     "metadata": {},
     "output_type": "execute_result"
    }
   ],
   "source": [
    "#nazivi kolona\n",
    "df.columns"
   ]
  },
  {
   "cell_type": "code",
   "execution_count": 44,
   "metadata": {},
   "outputs": [],
   "source": [
    "#uzimanje u obzir samo numerickih podataka (izbacivanje datuma)\n",
    "df_numeric = df.select_dtypes(include = ['int64', 'float64'])"
   ]
  },
  {
   "cell_type": "code",
   "execution_count": 45,
   "metadata": {
    "scrolled": true
   },
   "outputs": [
    {
     "data": {
      "text/plain": [
       "Index(['instant', 'season', 'yr', 'mnth', 'holiday', 'weekday', 'workingday',\n",
       "       'weathersit', 'temp', 'atemp', 'hum', 'windspeed', 'casual',\n",
       "       'registered', 'cnt'],\n",
       "      dtype='object')"
      ]
     },
     "execution_count": 45,
     "metadata": {},
     "output_type": "execute_result"
    }
   ],
   "source": [
    "df_numeric.columns"
   ]
  },
  {
   "cell_type": "code",
   "execution_count": 46,
   "metadata": {},
   "outputs": [],
   "source": [
    "#izbacivanje outlier-a\n",
    "z = np.abs(stats.zscore(df_numeric))\n",
    "\n",
    "threshold = 3\n",
    "df_numeric = df_numeric[(z < threshold).all(axis=1)]"
   ]
  },
  {
   "cell_type": "code",
   "execution_count": 47,
   "metadata": {},
   "outputs": [
    {
     "data": {
      "text/plain": [
       "(688, 15)"
      ]
     },
     "execution_count": 47,
     "metadata": {},
     "output_type": "execute_result"
    }
   ],
   "source": [
    "df_numeric.shape"
   ]
  },
  {
   "cell_type": "code",
   "execution_count": 48,
   "metadata": {},
   "outputs": [],
   "source": [
    "#izbacivanje kolone koja je id\n",
    "y=df_numeric[['cnt']]\n",
    "y\n",
    "df_numeric = df_numeric.drop(columns=['instant', 'cnt','casual','registered'])\n"
   ]
  },
  {
   "cell_type": "code",
   "execution_count": 49,
   "metadata": {},
   "outputs": [
    {
     "data": {
      "text/html": [
       "<div>\n",
       "<style scoped>\n",
       "    .dataframe tbody tr th:only-of-type {\n",
       "        vertical-align: middle;\n",
       "    }\n",
       "\n",
       "    .dataframe tbody tr th {\n",
       "        vertical-align: top;\n",
       "    }\n",
       "\n",
       "    .dataframe thead th {\n",
       "        text-align: right;\n",
       "    }\n",
       "</style>\n",
       "<table border=\"1\" class=\"dataframe\">\n",
       "  <thead>\n",
       "    <tr style=\"text-align: right;\">\n",
       "      <th></th>\n",
       "      <th>season</th>\n",
       "      <th>yr</th>\n",
       "      <th>mnth</th>\n",
       "      <th>holiday</th>\n",
       "      <th>weekday</th>\n",
       "      <th>workingday</th>\n",
       "      <th>weathersit</th>\n",
       "      <th>temp</th>\n",
       "      <th>atemp</th>\n",
       "      <th>hum</th>\n",
       "      <th>windspeed</th>\n",
       "    </tr>\n",
       "  </thead>\n",
       "  <tbody>\n",
       "    <tr>\n",
       "      <th>0</th>\n",
       "      <td>1</td>\n",
       "      <td>0</td>\n",
       "      <td>1</td>\n",
       "      <td>0</td>\n",
       "      <td>6</td>\n",
       "      <td>0</td>\n",
       "      <td>2</td>\n",
       "      <td>0.344167</td>\n",
       "      <td>0.363625</td>\n",
       "      <td>0.805833</td>\n",
       "      <td>0.160446</td>\n",
       "    </tr>\n",
       "    <tr>\n",
       "      <th>1</th>\n",
       "      <td>1</td>\n",
       "      <td>0</td>\n",
       "      <td>1</td>\n",
       "      <td>0</td>\n",
       "      <td>0</td>\n",
       "      <td>0</td>\n",
       "      <td>2</td>\n",
       "      <td>0.363478</td>\n",
       "      <td>0.353739</td>\n",
       "      <td>0.696087</td>\n",
       "      <td>0.248539</td>\n",
       "    </tr>\n",
       "    <tr>\n",
       "      <th>2</th>\n",
       "      <td>1</td>\n",
       "      <td>0</td>\n",
       "      <td>1</td>\n",
       "      <td>0</td>\n",
       "      <td>1</td>\n",
       "      <td>1</td>\n",
       "      <td>1</td>\n",
       "      <td>0.196364</td>\n",
       "      <td>0.189405</td>\n",
       "      <td>0.437273</td>\n",
       "      <td>0.248309</td>\n",
       "    </tr>\n",
       "    <tr>\n",
       "      <th>4</th>\n",
       "      <td>1</td>\n",
       "      <td>0</td>\n",
       "      <td>1</td>\n",
       "      <td>0</td>\n",
       "      <td>3</td>\n",
       "      <td>1</td>\n",
       "      <td>1</td>\n",
       "      <td>0.226957</td>\n",
       "      <td>0.229270</td>\n",
       "      <td>0.436957</td>\n",
       "      <td>0.186900</td>\n",
       "    </tr>\n",
       "    <tr>\n",
       "      <th>5</th>\n",
       "      <td>1</td>\n",
       "      <td>0</td>\n",
       "      <td>1</td>\n",
       "      <td>0</td>\n",
       "      <td>4</td>\n",
       "      <td>1</td>\n",
       "      <td>1</td>\n",
       "      <td>0.204348</td>\n",
       "      <td>0.233209</td>\n",
       "      <td>0.518261</td>\n",
       "      <td>0.089565</td>\n",
       "    </tr>\n",
       "  </tbody>\n",
       "</table>\n",
       "</div>"
      ],
      "text/plain": [
       "   season  yr  mnth  holiday  weekday  workingday  weathersit      temp  \\\n",
       "0       1   0     1        0        6           0           2  0.344167   \n",
       "1       1   0     1        0        0           0           2  0.363478   \n",
       "2       1   0     1        0        1           1           1  0.196364   \n",
       "4       1   0     1        0        3           1           1  0.226957   \n",
       "5       1   0     1        0        4           1           1  0.204348   \n",
       "\n",
       "      atemp       hum  windspeed  \n",
       "0  0.363625  0.805833   0.160446  \n",
       "1  0.353739  0.696087   0.248539  \n",
       "2  0.189405  0.437273   0.248309  \n",
       "4  0.229270  0.436957   0.186900  \n",
       "5  0.233209  0.518261   0.089565  "
      ]
     },
     "execution_count": 49,
     "metadata": {},
     "output_type": "execute_result"
    }
   ],
   "source": [
    "df_numeric.head()"
   ]
  },
  {
   "cell_type": "code",
   "execution_count": 50,
   "metadata": {},
   "outputs": [],
   "source": [
    "#normalizacija podataka\n",
    "scaler = MinMaxScaler()\n",
    "scaler.fit(df_numeric)\n",
    "df_normalized = scaler.transform(df_numeric)"
   ]
  },
  {
   "cell_type": "code",
   "execution_count": 51,
   "metadata": {},
   "outputs": [],
   "source": [
    "#kastovanje dobijenih normalizovanih podataka u dataframe\n",
    "df_normalized = pd.DataFrame(df_normalized)\n",
    "df_normalized.columns = ['season', 'yr', 'mnth', 'holiday', 'weekday', 'workingday',\n",
    "       'weathersit', 'temp', 'atemp', 'hum', 'windspeed']"
   ]
  },
  {
   "cell_type": "code",
   "execution_count": 52,
   "metadata": {
    "scrolled": true
   },
   "outputs": [
    {
     "data": {
      "text/html": [
       "<div>\n",
       "<style scoped>\n",
       "    .dataframe tbody tr th:only-of-type {\n",
       "        vertical-align: middle;\n",
       "    }\n",
       "\n",
       "    .dataframe tbody tr th {\n",
       "        vertical-align: top;\n",
       "    }\n",
       "\n",
       "    .dataframe thead th {\n",
       "        text-align: right;\n",
       "    }\n",
       "</style>\n",
       "<table border=\"1\" class=\"dataframe\">\n",
       "  <thead>\n",
       "    <tr style=\"text-align: right;\">\n",
       "      <th></th>\n",
       "      <th>season</th>\n",
       "      <th>yr</th>\n",
       "      <th>mnth</th>\n",
       "      <th>holiday</th>\n",
       "      <th>weekday</th>\n",
       "      <th>workingday</th>\n",
       "      <th>weathersit</th>\n",
       "      <th>temp</th>\n",
       "      <th>atemp</th>\n",
       "      <th>hum</th>\n",
       "      <th>windspeed</th>\n",
       "    </tr>\n",
       "  </thead>\n",
       "  <tbody>\n",
       "    <tr>\n",
       "      <th>0</th>\n",
       "      <td>0.0</td>\n",
       "      <td>0.0</td>\n",
       "      <td>0.0</td>\n",
       "      <td>0.0</td>\n",
       "      <td>1.000000</td>\n",
       "      <td>0.0</td>\n",
       "      <td>0.5</td>\n",
       "      <td>0.355170</td>\n",
       "      <td>0.373517</td>\n",
       "      <td>0.760765</td>\n",
       "      <td>0.345236</td>\n",
       "    </tr>\n",
       "    <tr>\n",
       "      <th>1</th>\n",
       "      <td>0.0</td>\n",
       "      <td>0.0</td>\n",
       "      <td>0.0</td>\n",
       "      <td>0.0</td>\n",
       "      <td>0.000000</td>\n",
       "      <td>0.0</td>\n",
       "      <td>0.5</td>\n",
       "      <td>0.379232</td>\n",
       "      <td>0.360541</td>\n",
       "      <td>0.603235</td>\n",
       "      <td>0.565533</td>\n",
       "    </tr>\n",
       "    <tr>\n",
       "      <th>2</th>\n",
       "      <td>0.0</td>\n",
       "      <td>0.0</td>\n",
       "      <td>0.0</td>\n",
       "      <td>0.0</td>\n",
       "      <td>0.166667</td>\n",
       "      <td>1.0</td>\n",
       "      <td>0.0</td>\n",
       "      <td>0.171000</td>\n",
       "      <td>0.144830</td>\n",
       "      <td>0.231732</td>\n",
       "      <td>0.564958</td>\n",
       "    </tr>\n",
       "    <tr>\n",
       "      <th>3</th>\n",
       "      <td>0.0</td>\n",
       "      <td>0.0</td>\n",
       "      <td>0.0</td>\n",
       "      <td>0.0</td>\n",
       "      <td>0.500000</td>\n",
       "      <td>1.0</td>\n",
       "      <td>0.0</td>\n",
       "      <td>0.209120</td>\n",
       "      <td>0.197158</td>\n",
       "      <td>0.231278</td>\n",
       "      <td>0.411391</td>\n",
       "    </tr>\n",
       "    <tr>\n",
       "      <th>4</th>\n",
       "      <td>0.0</td>\n",
       "      <td>0.0</td>\n",
       "      <td>0.0</td>\n",
       "      <td>0.0</td>\n",
       "      <td>0.666667</td>\n",
       "      <td>1.0</td>\n",
       "      <td>0.0</td>\n",
       "      <td>0.180948</td>\n",
       "      <td>0.202329</td>\n",
       "      <td>0.347983</td>\n",
       "      <td>0.167983</td>\n",
       "    </tr>\n",
       "  </tbody>\n",
       "</table>\n",
       "</div>"
      ],
      "text/plain": [
       "   season   yr  mnth  holiday   weekday  workingday  weathersit      temp  \\\n",
       "0     0.0  0.0   0.0      0.0  1.000000         0.0         0.5  0.355170   \n",
       "1     0.0  0.0   0.0      0.0  0.000000         0.0         0.5  0.379232   \n",
       "2     0.0  0.0   0.0      0.0  0.166667         1.0         0.0  0.171000   \n",
       "3     0.0  0.0   0.0      0.0  0.500000         1.0         0.0  0.209120   \n",
       "4     0.0  0.0   0.0      0.0  0.666667         1.0         0.0  0.180948   \n",
       "\n",
       "      atemp       hum  windspeed  \n",
       "0  0.373517  0.760765   0.345236  \n",
       "1  0.360541  0.603235   0.565533  \n",
       "2  0.144830  0.231732   0.564958  \n",
       "3  0.197158  0.231278   0.411391  \n",
       "4  0.202329  0.347983   0.167983  "
      ]
     },
     "execution_count": 52,
     "metadata": {},
     "output_type": "execute_result"
    }
   ],
   "source": [
    "#normalizovani dataframe\n",
    "df_normalized.head()"
   ]
  },
  {
   "cell_type": "code",
   "execution_count": 53,
   "metadata": {
    "scrolled": false
   },
   "outputs": [
    {
     "data": {
      "text/html": [
       "<div>\n",
       "<style scoped>\n",
       "    .dataframe tbody tr th:only-of-type {\n",
       "        vertical-align: middle;\n",
       "    }\n",
       "\n",
       "    .dataframe tbody tr th {\n",
       "        vertical-align: top;\n",
       "    }\n",
       "\n",
       "    .dataframe thead th {\n",
       "        text-align: right;\n",
       "    }\n",
       "</style>\n",
       "<table border=\"1\" class=\"dataframe\">\n",
       "  <thead>\n",
       "    <tr style=\"text-align: right;\">\n",
       "      <th></th>\n",
       "      <th>season</th>\n",
       "      <th>yr</th>\n",
       "      <th>mnth</th>\n",
       "      <th>holiday</th>\n",
       "      <th>weekday</th>\n",
       "      <th>workingday</th>\n",
       "      <th>weathersit</th>\n",
       "      <th>temp</th>\n",
       "      <th>atemp</th>\n",
       "      <th>hum</th>\n",
       "      <th>windspeed</th>\n",
       "    </tr>\n",
       "  </thead>\n",
       "  <tbody>\n",
       "    <tr>\n",
       "      <th>count</th>\n",
       "      <td>688.000000</td>\n",
       "      <td>688.000000</td>\n",
       "      <td>688.000000</td>\n",
       "      <td>688.0</td>\n",
       "      <td>688.000000</td>\n",
       "      <td>688.000000</td>\n",
       "      <td>688.000000</td>\n",
       "      <td>688.000000</td>\n",
       "      <td>688.000000</td>\n",
       "      <td>688.000000</td>\n",
       "      <td>688.000000</td>\n",
       "    </tr>\n",
       "    <tr>\n",
       "      <th>mean</th>\n",
       "      <td>0.502422</td>\n",
       "      <td>0.495640</td>\n",
       "      <td>0.503039</td>\n",
       "      <td>0.0</td>\n",
       "      <td>0.500242</td>\n",
       "      <td>0.710756</td>\n",
       "      <td>0.197674</td>\n",
       "      <td>0.544385</td>\n",
       "      <td>0.519527</td>\n",
       "      <td>0.507333</td>\n",
       "      <td>0.417477</td>\n",
       "    </tr>\n",
       "    <tr>\n",
       "      <th>std</th>\n",
       "      <td>0.369018</td>\n",
       "      <td>0.500345</td>\n",
       "      <td>0.312642</td>\n",
       "      <td>0.0</td>\n",
       "      <td>0.333030</td>\n",
       "      <td>0.453741</td>\n",
       "      <td>0.271436</td>\n",
       "      <td>0.228865</td>\n",
       "      <td>0.214518</td>\n",
       "      <td>0.200347</td>\n",
       "      <td>0.191220</td>\n",
       "    </tr>\n",
       "    <tr>\n",
       "      <th>min</th>\n",
       "      <td>0.000000</td>\n",
       "      <td>0.000000</td>\n",
       "      <td>0.000000</td>\n",
       "      <td>0.0</td>\n",
       "      <td>0.000000</td>\n",
       "      <td>0.000000</td>\n",
       "      <td>0.000000</td>\n",
       "      <td>0.000000</td>\n",
       "      <td>0.000000</td>\n",
       "      <td>0.000000</td>\n",
       "      <td>0.000000</td>\n",
       "    </tr>\n",
       "    <tr>\n",
       "      <th>25%</th>\n",
       "      <td>0.333333</td>\n",
       "      <td>0.000000</td>\n",
       "      <td>0.272727</td>\n",
       "      <td>0.0</td>\n",
       "      <td>0.166667</td>\n",
       "      <td>0.000000</td>\n",
       "      <td>0.000000</td>\n",
       "      <td>0.346603</td>\n",
       "      <td>0.339738</td>\n",
       "      <td>0.350479</td>\n",
       "      <td>0.279545</td>\n",
       "    </tr>\n",
       "    <tr>\n",
       "      <th>50%</th>\n",
       "      <td>0.666667</td>\n",
       "      <td>0.000000</td>\n",
       "      <td>0.545455</td>\n",
       "      <td>0.0</td>\n",
       "      <td>0.500000</td>\n",
       "      <td>1.000000</td>\n",
       "      <td>0.000000</td>\n",
       "      <td>0.550903</td>\n",
       "      <td>0.537599</td>\n",
       "      <td>0.504187</td>\n",
       "      <td>0.392683</td>\n",
       "    </tr>\n",
       "    <tr>\n",
       "      <th>75%</th>\n",
       "      <td>0.666667</td>\n",
       "      <td>1.000000</td>\n",
       "      <td>0.750000</td>\n",
       "      <td>0.0</td>\n",
       "      <td>0.833333</td>\n",
       "      <td>1.000000</td>\n",
       "      <td>0.500000</td>\n",
       "      <td>0.743521</td>\n",
       "      <td>0.696319</td>\n",
       "      <td>0.652064</td>\n",
       "      <td>0.525898</td>\n",
       "    </tr>\n",
       "    <tr>\n",
       "      <th>max</th>\n",
       "      <td>1.000000</td>\n",
       "      <td>1.000000</td>\n",
       "      <td>1.000000</td>\n",
       "      <td>0.0</td>\n",
       "      <td>1.000000</td>\n",
       "      <td>1.000000</td>\n",
       "      <td>1.000000</td>\n",
       "      <td>1.000000</td>\n",
       "      <td>1.000000</td>\n",
       "      <td>1.000000</td>\n",
       "      <td>1.000000</td>\n",
       "    </tr>\n",
       "  </tbody>\n",
       "</table>\n",
       "</div>"
      ],
      "text/plain": [
       "           season          yr        mnth  holiday     weekday  workingday  \\\n",
       "count  688.000000  688.000000  688.000000    688.0  688.000000  688.000000   \n",
       "mean     0.502422    0.495640    0.503039      0.0    0.500242    0.710756   \n",
       "std      0.369018    0.500345    0.312642      0.0    0.333030    0.453741   \n",
       "min      0.000000    0.000000    0.000000      0.0    0.000000    0.000000   \n",
       "25%      0.333333    0.000000    0.272727      0.0    0.166667    0.000000   \n",
       "50%      0.666667    0.000000    0.545455      0.0    0.500000    1.000000   \n",
       "75%      0.666667    1.000000    0.750000      0.0    0.833333    1.000000   \n",
       "max      1.000000    1.000000    1.000000      0.0    1.000000    1.000000   \n",
       "\n",
       "       weathersit        temp       atemp         hum   windspeed  \n",
       "count  688.000000  688.000000  688.000000  688.000000  688.000000  \n",
       "mean     0.197674    0.544385    0.519527    0.507333    0.417477  \n",
       "std      0.271436    0.228865    0.214518    0.200347    0.191220  \n",
       "min      0.000000    0.000000    0.000000    0.000000    0.000000  \n",
       "25%      0.000000    0.346603    0.339738    0.350479    0.279545  \n",
       "50%      0.000000    0.550903    0.537599    0.504187    0.392683  \n",
       "75%      0.500000    0.743521    0.696319    0.652064    0.525898  \n",
       "max      1.000000    1.000000    1.000000    1.000000    1.000000  "
      ]
     },
     "execution_count": 53,
     "metadata": {},
     "output_type": "execute_result"
    }
   ],
   "source": [
    "#deskriptivna statistika normalizovanih podataka\n",
    "df_normalized.describe()"
   ]
  },
  {
   "cell_type": "code",
   "execution_count": 54,
   "metadata": {},
   "outputs": [
    {
     "data": {
      "text/plain": [
       "(688, 11)"
      ]
     },
     "execution_count": 54,
     "metadata": {},
     "output_type": "execute_result"
    }
   ],
   "source": [
    "df_normalized.shape"
   ]
  },
  {
   "cell_type": "code",
   "execution_count": 55,
   "metadata": {},
   "outputs": [],
   "source": [
    "data=df_normalized\n",
    "y=y['cnt']"
   ]
  },
  {
   "cell_type": "code",
   "execution_count": 56,
   "metadata": {},
   "outputs": [],
   "source": [
    "#podela dataset-a na train i test\n",
    "X_train, X_holdout, y_train, y_holdout = train_test_split(data.values, y, test_size=0.3,random_state=2018)"
   ]
  },
  {
   "cell_type": "code",
   "execution_count": 57,
   "metadata": {},
   "outputs": [
    {
     "data": {
      "text/plain": [
       "PCA(copy=True, iterated_power='auto', n_components=None, random_state=None,\n",
       "  svd_solver='auto', tol=0.0, whiten=False)"
      ]
     },
     "execution_count": 57,
     "metadata": {},
     "output_type": "execute_result"
    }
   ],
   "source": [
    "#analiza glavnih komponenti\n",
    "pca = decomposition.PCA()\n",
    "pca.fit(X_train)"
   ]
  },
  {
   "cell_type": "code",
   "execution_count": 58,
   "metadata": {
    "scrolled": true
   },
   "outputs": [],
   "source": [
    "explained_var = pca.explained_variance_ratio_\n",
    "cum_var = np.cumsum(explained_var)"
   ]
  },
  {
   "cell_type": "code",
   "execution_count": 59,
   "metadata": {},
   "outputs": [
    {
     "data": {
      "image/png": "[encoded data removed]",
      "text/plain": [
       "<Figure size 842.4x595.44 with 1 Axes>"
      ]
     },
     "metadata": {},
     "output_type": "display_data"
    }
   ],
   "source": [
    "#kumulativna varijansa koju objasnjavaju komponente (od 0 do 1)\n",
    "plt.plot(cum_var)\n",
    "plt.show()"
   ]
  },
  {
   "cell_type": "code",
   "execution_count": 60,
   "metadata": {
    "scrolled": true
   },
   "outputs": [
    {
     "data": {
      "image/png": "[encoded data removed]",
      "text/plain": [
       "<Figure size 842.4x595.44 with 1 Axes>"
      ]
     },
     "metadata": {},
     "output_type": "display_data"
    }
   ],
   "source": [
    "#koliko koja komponenta objasnjava varijansu\n",
    "plt.plot(pca.explained_variance_, scalex=True)\n",
    "sns.despine(offset=10, trim=True)"
   ]
  },
  {
   "cell_type": "code",
   "execution_count": 61,
   "metadata": {
    "scrolled": true
   },
   "outputs": [
    {
     "data": {
      "text/plain": [
       "array([[-3.02277082e-01,  9.04244129e-01, -2.39786133e-01,\n",
       "        -0.00000000e+00,  1.97467240e-02, -1.03974786e-01,\n",
       "        -3.21626384e-02, -7.61658133e-02, -7.35718692e-02,\n",
       "        -8.94815487e-02,  4.49178013e-02],\n",
       "       [-6.39089805e-01, -4.21456785e-01, -5.08617949e-01,\n",
       "         0.00000000e+00,  3.49722934e-02, -1.63025237e-01,\n",
       "        -1.66416583e-02, -2.36221322e-01, -2.26376031e-01,\n",
       "        -9.30348693e-02,  1.07083335e-01],\n",
       "       [ 1.57384080e-01, -2.33065616e-02,  1.36259553e-01,\n",
       "         1.11022302e-16,  1.46896852e-02, -9.76897643e-01,\n",
       "        -1.65031928e-02, -9.92385177e-03, -9.55963636e-03,\n",
       "         1.28240748e-02, -3.08044875e-02],\n",
       "       [ 3.52516534e-02,  8.37695517e-03,  7.75740952e-02,\n",
       "        -2.08166817e-17,  9.76057375e-01,  3.00945672e-02,\n",
       "         1.47194432e-01, -8.85611718e-02, -8.56703837e-02,\n",
       "         4.19158961e-02,  2.16814687e-02],\n",
       "       [ 3.90924637e-02,  5.45458801e-02,  9.27907353e-02,\n",
       "         2.77555756e-17, -1.99877683e-01,  1.34161785e-02,\n",
       "         7.56425860e-01, -3.40686396e-01, -3.16645713e-01,\n",
       "         3.97461618e-01,  1.63638547e-02],\n",
       "       [ 2.00720168e-01,  1.49003905e-02,  2.98279456e-01,\n",
       "         0.00000000e+00, -6.36782091e-02,  8.21538377e-02,\n",
       "        -3.69247247e-01, -5.65778210e-01, -5.29727464e-01,\n",
       "        -3.34710038e-01,  1.03073196e-01]])"
      ]
     },
     "execution_count": 61,
     "metadata": {},
     "output_type": "execute_result"
    }
   ],
   "source": [
    "#vidimo da 6 komponenti objasnjavaju najveci deo varijanse, pa zato nadalje uzimamo samo tih 6 komponenti\n",
    "pca.n_components = 6\n",
    "pca.components_[0:6, :]"
   ]
  },
  {
   "cell_type": "code",
   "execution_count": 62,
   "metadata": {},
   "outputs": [],
   "source": [
    "#transformisemo i train i test set\n",
    "train_pca=pca.fit_transform(X_train)\n",
    "test_pca=pca.fit_transform(X_holdout)"
   ]
  },
  {
   "cell_type": "code",
   "execution_count": 66,
   "metadata": {},
   "outputs": [],
   "source": [
    "#prebacujemo ih u dataframe\n",
    "train_pca_frame=pd.DataFrame(train_pca, columns= range(1,7))\n",
    "test_pca_frame=pd.DataFrame(test_pca, columns= range(1,7))"
   ]
  },
  {
   "cell_type": "markdown",
   "metadata": {},
   "source": [
    "## Klasterovanje"
   ]
  },
  {
   "cell_type": "code",
   "execution_count": 67,
   "metadata": {},
   "outputs": [],
   "source": [
    "#isprobavanje razlicith k vrednosti\n",
    "sse = {}\n",
    "for k in range(1, 10):\n",
    "    kmeans = KMeans(n_clusters=k, max_iter=100).fit(X_train)\n",
    "    cluste_labels = kmeans.labels_\n",
    "    sse[k] = kmeans.inertia_ "
   ]
  },
  {
   "cell_type": "code",
   "execution_count": 68,
   "metadata": {
    "scrolled": true
   },
   "outputs": [
    {
     "data": {
      "image/png": "[encoded data removed]",
      "text/plain": [
       "<Figure size 842.4x595.44 with 1 Axes>"
      ]
     },
     "metadata": {},
     "output_type": "display_data"
    }
   ],
   "source": [
    "#gledamo koliko su klasteri udaljeni jedni od drugih\n",
    "plt.close()\n",
    "plt.plot(list(sse.keys()), list(sse.values()))\n",
    "plt.xlabel(\"Number of clusters\")\n",
    "plt.ylabel(\"Intra Cluster Distance\")\n",
    "plt.show()"
   ]
  },
  {
   "cell_type": "code",
   "execution_count": 69,
   "metadata": {},
   "outputs": [
    {
     "data": {
      "image/png": "[encoded data removed]",
      "text/plain": [
       "<Figure size 842.4x595.44 with 1 Axes>"
      ]
     },
     "metadata": {},
     "output_type": "display_data"
    }
   ],
   "source": [
    "#gledamo silhouette score (koliko su dobro elementi rasporedjeni po klasterima)\n",
    "sse = {}\n",
    "for k in range(2, 10):\n",
    "    kmeans = KMeans(n_clusters=k, max_iter=100).fit(X_train)\n",
    "    cluster_labels = kmeans.fit_predict(X_train)\n",
    "    sse[k] = silhouette_score(X_train, cluster_labels)\n",
    "\n",
    "plt.plot(list(sse.keys()), list(sse.values()))\n",
    "plt.xlabel(\"Number of cluster\")\n",
    "plt.ylabel(\"SSE\")\n",
    "plt.show()"
   ]
  },
  {
   "cell_type": "code",
   "execution_count": 70,
   "metadata": {},
   "outputs": [],
   "source": [
    "#vidimo da su elementi najbolje rasporedjeni kad imamo 4 klastera, tako da uzimamo da je k = 4 i kreiramo model\n",
    "\n",
    "kmeans_algorithm = KMeans(n_clusters = 4, max_iter = 100) \n",
    "\n",
    "cluster_model_normalized = kmeans_algorithm.fit(X_train)\n",
    "\n",
    "clusters_normalized_test = cluster_model_normalized.predict(X_holdout)\n",
    "clusters_normalized_train = cluster_model_normalized.predict(X_train)"
   ]
  },
  {
   "cell_type": "code",
   "execution_count": 71,
   "metadata": {},
   "outputs": [],
   "source": [
    "train_cluster_frame=pd.DataFrame(X_train, columns= range(1,12))\n",
    "test_cluster_frame=pd.DataFrame(X_holdout, columns= range(1,12))"
   ]
  },
  {
   "cell_type": "code",
   "execution_count": 72,
   "metadata": {},
   "outputs": [],
   "source": [
    "train_cluster_frame.columns=data.columns\n",
    "test_cluster_frame.columns=data.columns"
   ]
  },
  {
   "cell_type": "code",
   "execution_count": 73,
   "metadata": {},
   "outputs": [
    {
     "data": {
      "text/html": [
       "<div>\n",
       "<style scoped>\n",
       "    .dataframe tbody tr th:only-of-type {\n",
       "        vertical-align: middle;\n",
       "    }\n",
       "\n",
       "    .dataframe tbody tr th {\n",
       "        vertical-align: top;\n",
       "    }\n",
       "\n",
       "    .dataframe thead th {\n",
       "        text-align: right;\n",
       "    }\n",
       "</style>\n",
       "<table border=\"1\" class=\"dataframe\">\n",
       "  <thead>\n",
       "    <tr style=\"text-align: right;\">\n",
       "      <th></th>\n",
       "      <th>season</th>\n",
       "      <th>yr</th>\n",
       "      <th>mnth</th>\n",
       "      <th>holiday</th>\n",
       "      <th>weekday</th>\n",
       "      <th>workingday</th>\n",
       "      <th>weathersit</th>\n",
       "      <th>temp</th>\n",
       "      <th>atemp</th>\n",
       "      <th>hum</th>\n",
       "      <th>windspeed</th>\n",
       "    </tr>\n",
       "  </thead>\n",
       "  <tbody>\n",
       "    <tr>\n",
       "      <th>0</th>\n",
       "      <td>0.333333</td>\n",
       "      <td>1.0</td>\n",
       "      <td>0.272727</td>\n",
       "      <td>0.0</td>\n",
       "      <td>0.166667</td>\n",
       "      <td>1.0</td>\n",
       "      <td>0.5</td>\n",
       "      <td>0.504695</td>\n",
       "      <td>0.496998</td>\n",
       "      <td>0.422249</td>\n",
       "      <td>0.373225</td>\n",
       "    </tr>\n",
       "    <tr>\n",
       "      <th>1</th>\n",
       "      <td>0.000000</td>\n",
       "      <td>1.0</td>\n",
       "      <td>0.181818</td>\n",
       "      <td>0.0</td>\n",
       "      <td>0.833333</td>\n",
       "      <td>1.0</td>\n",
       "      <td>0.5</td>\n",
       "      <td>0.366591</td>\n",
       "      <td>0.368552</td>\n",
       "      <td>0.547249</td>\n",
       "      <td>0.306370</td>\n",
       "    </tr>\n",
       "    <tr>\n",
       "      <th>2</th>\n",
       "      <td>1.000000</td>\n",
       "      <td>1.0</td>\n",
       "      <td>0.727273</td>\n",
       "      <td>0.0</td>\n",
       "      <td>0.500000</td>\n",
       "      <td>1.0</td>\n",
       "      <td>0.0</td>\n",
       "      <td>0.717562</td>\n",
       "      <td>0.679346</td>\n",
       "      <td>0.509569</td>\n",
       "      <td>0.555183</td>\n",
       "    </tr>\n",
       "    <tr>\n",
       "      <th>3</th>\n",
       "      <td>1.000000</td>\n",
       "      <td>1.0</td>\n",
       "      <td>0.818182</td>\n",
       "      <td>0.0</td>\n",
       "      <td>1.000000</td>\n",
       "      <td>0.0</td>\n",
       "      <td>0.0</td>\n",
       "      <td>0.416433</td>\n",
       "      <td>0.409971</td>\n",
       "      <td>0.313995</td>\n",
       "      <td>0.309466</td>\n",
       "    </tr>\n",
       "    <tr>\n",
       "      <th>4</th>\n",
       "      <td>0.000000</td>\n",
       "      <td>1.0</td>\n",
       "      <td>0.000000</td>\n",
       "      <td>0.0</td>\n",
       "      <td>0.833333</td>\n",
       "      <td>1.0</td>\n",
       "      <td>0.5</td>\n",
       "      <td>0.455891</td>\n",
       "      <td>0.441457</td>\n",
       "      <td>0.668062</td>\n",
       "      <td>0.800922</td>\n",
       "    </tr>\n",
       "  </tbody>\n",
       "</table>\n",
       "</div>"
      ],
      "text/plain": [
       "     season   yr      mnth  holiday   weekday  workingday  weathersit  \\\n",
       "0  0.333333  1.0  0.272727      0.0  0.166667         1.0         0.5   \n",
       "1  0.000000  1.0  0.181818      0.0  0.833333         1.0         0.5   \n",
       "2  1.000000  1.0  0.727273      0.0  0.500000         1.0         0.0   \n",
       "3  1.000000  1.0  0.818182      0.0  1.000000         0.0         0.0   \n",
       "4  0.000000  1.0  0.000000      0.0  0.833333         1.0         0.5   \n",
       "\n",
       "       temp     atemp       hum  windspeed  \n",
       "0  0.504695  0.496998  0.422249   0.373225  \n",
       "1  0.366591  0.368552  0.547249   0.306370  \n",
       "2  0.717562  0.679346  0.509569   0.555183  \n",
       "3  0.416433  0.409971  0.313995   0.309466  \n",
       "4  0.455891  0.441457  0.668062   0.800922  "
      ]
     },
     "execution_count": 73,
     "metadata": {},
     "output_type": "execute_result"
    }
   ],
   "source": [
    "train_cluster_frame.head()"
   ]
  },
  {
   "cell_type": "code",
   "execution_count": 74,
   "metadata": {
    "scrolled": true
   },
   "outputs": [],
   "source": [
    "test_cluster_frame['Cluster'] = clusters_normalized_test\n",
    "train_cluster_frame['Cluster'] = clusters_normalized_train"
   ]
  },
  {
   "cell_type": "code",
   "execution_count": 75,
   "metadata": {
    "scrolled": false
   },
   "outputs": [
    {
     "data": {
      "text/html": [
       "<div>\n",
       "<style scoped>\n",
       "    .dataframe tbody tr th:only-of-type {\n",
       "        vertical-align: middle;\n",
       "    }\n",
       "\n",
       "    .dataframe tbody tr th {\n",
       "        vertical-align: top;\n",
       "    }\n",
       "\n",
       "    .dataframe thead th {\n",
       "        text-align: right;\n",
       "    }\n",
       "</style>\n",
       "<table border=\"1\" class=\"dataframe\">\n",
       "  <thead>\n",
       "    <tr style=\"text-align: right;\">\n",
       "      <th></th>\n",
       "      <th>season</th>\n",
       "      <th>yr</th>\n",
       "      <th>mnth</th>\n",
       "      <th>holiday</th>\n",
       "      <th>weekday</th>\n",
       "      <th>workingday</th>\n",
       "      <th>weathersit</th>\n",
       "      <th>temp</th>\n",
       "      <th>atemp</th>\n",
       "      <th>hum</th>\n",
       "      <th>windspeed</th>\n",
       "      <th>Cluster</th>\n",
       "    </tr>\n",
       "  </thead>\n",
       "  <tbody>\n",
       "    <tr>\n",
       "      <th>0</th>\n",
       "      <td>0.000000</td>\n",
       "      <td>0.0</td>\n",
       "      <td>0.181818</td>\n",
       "      <td>0.0</td>\n",
       "      <td>0.000000</td>\n",
       "      <td>0.0</td>\n",
       "      <td>0.5</td>\n",
       "      <td>0.395486</td>\n",
       "      <td>0.376966</td>\n",
       "      <td>0.965207</td>\n",
       "      <td>0.802472</td>\n",
       "      <td>2</td>\n",
       "    </tr>\n",
       "    <tr>\n",
       "      <th>1</th>\n",
       "      <td>1.000000</td>\n",
       "      <td>1.0</td>\n",
       "      <td>1.000000</td>\n",
       "      <td>0.0</td>\n",
       "      <td>0.000000</td>\n",
       "      <td>0.0</td>\n",
       "      <td>0.5</td>\n",
       "      <td>0.405012</td>\n",
       "      <td>0.408330</td>\n",
       "      <td>0.903709</td>\n",
       "      <td>0.339057</td>\n",
       "      <td>2</td>\n",
       "    </tr>\n",
       "    <tr>\n",
       "      <th>2</th>\n",
       "      <td>0.333333</td>\n",
       "      <td>1.0</td>\n",
       "      <td>0.272727</td>\n",
       "      <td>0.0</td>\n",
       "      <td>0.166667</td>\n",
       "      <td>1.0</td>\n",
       "      <td>0.0</td>\n",
       "      <td>0.535847</td>\n",
       "      <td>0.521862</td>\n",
       "      <td>0.059809</td>\n",
       "      <td>0.839756</td>\n",
       "      <td>3</td>\n",
       "    </tr>\n",
       "    <tr>\n",
       "      <th>3</th>\n",
       "      <td>0.333333</td>\n",
       "      <td>1.0</td>\n",
       "      <td>0.363636</td>\n",
       "      <td>0.0</td>\n",
       "      <td>0.833333</td>\n",
       "      <td>1.0</td>\n",
       "      <td>0.0</td>\n",
       "      <td>0.708216</td>\n",
       "      <td>0.671869</td>\n",
       "      <td>0.659690</td>\n",
       "      <td>0.351468</td>\n",
       "      <td>3</td>\n",
       "    </tr>\n",
       "    <tr>\n",
       "      <th>4</th>\n",
       "      <td>1.000000</td>\n",
       "      <td>1.0</td>\n",
       "      <td>0.818182</td>\n",
       "      <td>0.0</td>\n",
       "      <td>0.166667</td>\n",
       "      <td>1.0</td>\n",
       "      <td>0.5</td>\n",
       "      <td>0.575304</td>\n",
       "      <td>0.568280</td>\n",
       "      <td>0.535886</td>\n",
       "      <td>0.171081</td>\n",
       "      <td>3</td>\n",
       "    </tr>\n",
       "  </tbody>\n",
       "</table>\n",
       "</div>"
      ],
      "text/plain": [
       "     season   yr      mnth  holiday   weekday  workingday  weathersit  \\\n",
       "0  0.000000  0.0  0.181818      0.0  0.000000         0.0         0.5   \n",
       "1  1.000000  1.0  1.000000      0.0  0.000000         0.0         0.5   \n",
       "2  0.333333  1.0  0.272727      0.0  0.166667         1.0         0.0   \n",
       "3  0.333333  1.0  0.363636      0.0  0.833333         1.0         0.0   \n",
       "4  1.000000  1.0  0.818182      0.0  0.166667         1.0         0.5   \n",
       "\n",
       "       temp     atemp       hum  windspeed  Cluster  \n",
       "0  0.395486  0.376966  0.965207   0.802472        2  \n",
       "1  0.405012  0.408330  0.903709   0.339057        2  \n",
       "2  0.535847  0.521862  0.059809   0.839756        3  \n",
       "3  0.708216  0.671869  0.659690   0.351468        3  \n",
       "4  0.575304  0.568280  0.535886   0.171081        3  "
      ]
     },
     "execution_count": 75,
     "metadata": {},
     "output_type": "execute_result"
    }
   ],
   "source": [
    "test_cluster_frame.head()"
   ]
  },
  {
   "cell_type": "code",
   "execution_count": 76,
   "metadata": {},
   "outputs": [],
   "source": [
    "cluster0_test = test_cluster_frame[test_cluster_frame['Cluster']==0]\n",
    "cluster1_test = test_cluster_frame[test_cluster_frame['Cluster']==1]\n",
    "cluster2_test = test_cluster_frame[test_cluster_frame['Cluster']==2]\n",
    "cluster3_test = test_cluster_frame[test_cluster_frame['Cluster']==3]"
   ]
  },
  {
   "cell_type": "code",
   "execution_count": 77,
   "metadata": {},
   "outputs": [],
   "source": [
    "cluster0_train = train_cluster_frame[train_cluster_frame['Cluster']==0]\n",
    "cluster1_train = train_cluster_frame[train_cluster_frame['Cluster']==1]\n",
    "cluster2_train = train_cluster_frame[train_cluster_frame['Cluster']==2]\n",
    "cluster3_train = train_cluster_frame[train_cluster_frame['Cluster']==3]"
   ]
  },
  {
   "cell_type": "code",
   "execution_count": 78,
   "metadata": {
    "scrolled": true
   },
   "outputs": [
    {
     "data": {
      "text/html": [
       "<div>\n",
       "<style scoped>\n",
       "    .dataframe tbody tr th:only-of-type {\n",
       "        vertical-align: middle;\n",
       "    }\n",
       "\n",
       "    .dataframe tbody tr th {\n",
       "        vertical-align: top;\n",
       "    }\n",
       "\n",
       "    .dataframe thead th {\n",
       "        text-align: right;\n",
       "    }\n",
       "</style>\n",
       "<table border=\"1\" class=\"dataframe\">\n",
       "  <thead>\n",
       "    <tr style=\"text-align: right;\">\n",
       "      <th></th>\n",
       "      <th>season</th>\n",
       "      <th>yr</th>\n",
       "      <th>mnth</th>\n",
       "      <th>holiday</th>\n",
       "      <th>weekday</th>\n",
       "      <th>workingday</th>\n",
       "      <th>weathersit</th>\n",
       "      <th>temp</th>\n",
       "      <th>atemp</th>\n",
       "      <th>hum</th>\n",
       "      <th>windspeed</th>\n",
       "      <th>Cluster</th>\n",
       "    </tr>\n",
       "  </thead>\n",
       "  <tbody>\n",
       "    <tr>\n",
       "      <th>count</th>\n",
       "      <td>70.000000</td>\n",
       "      <td>70.0</td>\n",
       "      <td>70.000000</td>\n",
       "      <td>70.0</td>\n",
       "      <td>70.000000</td>\n",
       "      <td>70.0</td>\n",
       "      <td>70.000000</td>\n",
       "      <td>70.000000</td>\n",
       "      <td>70.000000</td>\n",
       "      <td>70.000000</td>\n",
       "      <td>70.000000</td>\n",
       "      <td>70.0</td>\n",
       "    </tr>\n",
       "    <tr>\n",
       "      <th>mean</th>\n",
       "      <td>0.490476</td>\n",
       "      <td>0.0</td>\n",
       "      <td>0.498701</td>\n",
       "      <td>0.0</td>\n",
       "      <td>0.502381</td>\n",
       "      <td>1.0</td>\n",
       "      <td>0.250000</td>\n",
       "      <td>0.532137</td>\n",
       "      <td>0.507342</td>\n",
       "      <td>0.551021</td>\n",
       "      <td>0.441116</td>\n",
       "      <td>0.0</td>\n",
       "    </tr>\n",
       "    <tr>\n",
       "      <th>std</th>\n",
       "      <td>0.383733</td>\n",
       "      <td>0.0</td>\n",
       "      <td>0.322340</td>\n",
       "      <td>0.0</td>\n",
       "      <td>0.211377</td>\n",
       "      <td>0.0</td>\n",
       "      <td>0.291796</td>\n",
       "      <td>0.240793</td>\n",
       "      <td>0.226133</td>\n",
       "      <td>0.209110</td>\n",
       "      <td>0.207865</td>\n",
       "      <td>0.0</td>\n",
       "    </tr>\n",
       "    <tr>\n",
       "      <th>min</th>\n",
       "      <td>0.000000</td>\n",
       "      <td>0.0</td>\n",
       "      <td>0.000000</td>\n",
       "      <td>0.0</td>\n",
       "      <td>0.166667</td>\n",
       "      <td>1.0</td>\n",
       "      <td>0.000000</td>\n",
       "      <td>0.094267</td>\n",
       "      <td>0.085601</td>\n",
       "      <td>0.041866</td>\n",
       "      <td>0.062226</td>\n",
       "      <td>0.0</td>\n",
       "    </tr>\n",
       "    <tr>\n",
       "      <th>25%</th>\n",
       "      <td>0.000000</td>\n",
       "      <td>0.0</td>\n",
       "      <td>0.204545</td>\n",
       "      <td>0.0</td>\n",
       "      <td>0.333333</td>\n",
       "      <td>1.0</td>\n",
       "      <td>0.000000</td>\n",
       "      <td>0.346862</td>\n",
       "      <td>0.344327</td>\n",
       "      <td>0.412531</td>\n",
       "      <td>0.281874</td>\n",
       "      <td>0.0</td>\n",
       "    </tr>\n",
       "    <tr>\n",
       "      <th>50%</th>\n",
       "      <td>0.666667</td>\n",
       "      <td>0.0</td>\n",
       "      <td>0.545455</td>\n",
       "      <td>0.0</td>\n",
       "      <td>0.500000</td>\n",
       "      <td>1.0</td>\n",
       "      <td>0.000000</td>\n",
       "      <td>0.526501</td>\n",
       "      <td>0.517727</td>\n",
       "      <td>0.576256</td>\n",
       "      <td>0.448365</td>\n",
       "      <td>0.0</td>\n",
       "    </tr>\n",
       "    <tr>\n",
       "      <th>75%</th>\n",
       "      <td>0.666667</td>\n",
       "      <td>0.0</td>\n",
       "      <td>0.795455</td>\n",
       "      <td>0.0</td>\n",
       "      <td>0.666667</td>\n",
       "      <td>1.0</td>\n",
       "      <td>0.500000</td>\n",
       "      <td>0.742483</td>\n",
       "      <td>0.686792</td>\n",
       "      <td>0.686200</td>\n",
       "      <td>0.565953</td>\n",
       "      <td>0.0</td>\n",
       "    </tr>\n",
       "    <tr>\n",
       "      <th>max</th>\n",
       "      <td>1.000000</td>\n",
       "      <td>0.0</td>\n",
       "      <td>1.000000</td>\n",
       "      <td>0.0</td>\n",
       "      <td>0.833333</td>\n",
       "      <td>1.0</td>\n",
       "      <td>1.000000</td>\n",
       "      <td>0.941851</td>\n",
       "      <td>0.980934</td>\n",
       "      <td>1.000000</td>\n",
       "      <td>1.000000</td>\n",
       "      <td>0.0</td>\n",
       "    </tr>\n",
       "  </tbody>\n",
       "</table>\n",
       "</div>"
      ],
      "text/plain": [
       "          season    yr       mnth  holiday    weekday  workingday  weathersit  \\\n",
       "count  70.000000  70.0  70.000000     70.0  70.000000        70.0   70.000000   \n",
       "mean    0.490476   0.0   0.498701      0.0   0.502381         1.0    0.250000   \n",
       "std     0.383733   0.0   0.322340      0.0   0.211377         0.0    0.291796   \n",
       "min     0.000000   0.0   0.000000      0.0   0.166667         1.0    0.000000   \n",
       "25%     0.000000   0.0   0.204545      0.0   0.333333         1.0    0.000000   \n",
       "50%     0.666667   0.0   0.545455      0.0   0.500000         1.0    0.000000   \n",
       "75%     0.666667   0.0   0.795455      0.0   0.666667         1.0    0.500000   \n",
       "max     1.000000   0.0   1.000000      0.0   0.833333         1.0    1.000000   \n",
       "\n",
       "            temp      atemp        hum  windspeed  Cluster  \n",
       "count  70.000000  70.000000  70.000000  70.000000     70.0  \n",
       "mean    0.532137   0.507342   0.551021   0.441116      0.0  \n",
       "std     0.240793   0.226133   0.209110   0.207865      0.0  \n",
       "min     0.094267   0.085601   0.041866   0.062226      0.0  \n",
       "25%     0.346862   0.344327   0.412531   0.281874      0.0  \n",
       "50%     0.526501   0.517727   0.576256   0.448365      0.0  \n",
       "75%     0.742483   0.686792   0.686200   0.565953      0.0  \n",
       "max     0.941851   0.980934   1.000000   1.000000      0.0  "
      ]
     },
     "execution_count": 78,
     "metadata": {},
     "output_type": "execute_result"
    }
   ],
   "source": [
    "test_cluster_frame[test_cluster_frame['Cluster']==0].describe()"
   ]
  },
  {
   "cell_type": "code",
   "execution_count": 79,
   "metadata": {
    "scrolled": true
   },
   "outputs": [
    {
     "data": {
      "text/html": [
       "<div>\n",
       "<style scoped>\n",
       "    .dataframe tbody tr th:only-of-type {\n",
       "        vertical-align: middle;\n",
       "    }\n",
       "\n",
       "    .dataframe tbody tr th {\n",
       "        vertical-align: top;\n",
       "    }\n",
       "\n",
       "    .dataframe thead th {\n",
       "        text-align: right;\n",
       "    }\n",
       "</style>\n",
       "<table border=\"1\" class=\"dataframe\">\n",
       "  <thead>\n",
       "    <tr style=\"text-align: right;\">\n",
       "      <th></th>\n",
       "      <th>season</th>\n",
       "      <th>yr</th>\n",
       "      <th>mnth</th>\n",
       "      <th>holiday</th>\n",
       "      <th>weekday</th>\n",
       "      <th>workingday</th>\n",
       "      <th>weathersit</th>\n",
       "      <th>temp</th>\n",
       "      <th>atemp</th>\n",
       "      <th>hum</th>\n",
       "      <th>windspeed</th>\n",
       "      <th>Cluster</th>\n",
       "    </tr>\n",
       "  </thead>\n",
       "  <tbody>\n",
       "    <tr>\n",
       "      <th>count</th>\n",
       "      <td>17.000000</td>\n",
       "      <td>17.000000</td>\n",
       "      <td>17.000000</td>\n",
       "      <td>17.0</td>\n",
       "      <td>17.0</td>\n",
       "      <td>17.0</td>\n",
       "      <td>17.000000</td>\n",
       "      <td>17.000000</td>\n",
       "      <td>17.000000</td>\n",
       "      <td>17.000000</td>\n",
       "      <td>17.000000</td>\n",
       "      <td>17.0</td>\n",
       "    </tr>\n",
       "    <tr>\n",
       "      <th>mean</th>\n",
       "      <td>0.509804</td>\n",
       "      <td>0.352941</td>\n",
       "      <td>0.486631</td>\n",
       "      <td>0.0</td>\n",
       "      <td>1.0</td>\n",
       "      <td>0.0</td>\n",
       "      <td>0.176471</td>\n",
       "      <td>0.540122</td>\n",
       "      <td>0.520739</td>\n",
       "      <td>0.514319</td>\n",
       "      <td>0.397575</td>\n",
       "      <td>1.0</td>\n",
       "    </tr>\n",
       "    <tr>\n",
       "      <th>std</th>\n",
       "      <td>0.355857</td>\n",
       "      <td>0.492592</td>\n",
       "      <td>0.283756</td>\n",
       "      <td>0.0</td>\n",
       "      <td>0.0</td>\n",
       "      <td>0.0</td>\n",
       "      <td>0.246296</td>\n",
       "      <td>0.209713</td>\n",
       "      <td>0.191487</td>\n",
       "      <td>0.215322</td>\n",
       "      <td>0.119718</td>\n",
       "      <td>0.0</td>\n",
       "    </tr>\n",
       "    <tr>\n",
       "      <th>min</th>\n",
       "      <td>0.000000</td>\n",
       "      <td>0.000000</td>\n",
       "      <td>0.090909</td>\n",
       "      <td>0.0</td>\n",
       "      <td>1.0</td>\n",
       "      <td>0.0</td>\n",
       "      <td>0.000000</td>\n",
       "      <td>0.203567</td>\n",
       "      <td>0.201994</td>\n",
       "      <td>0.258972</td>\n",
       "      <td>0.183533</td>\n",
       "      <td>1.0</td>\n",
       "    </tr>\n",
       "    <tr>\n",
       "      <th>25%</th>\n",
       "      <td>0.333333</td>\n",
       "      <td>0.000000</td>\n",
       "      <td>0.272727</td>\n",
       "      <td>0.0</td>\n",
       "      <td>1.0</td>\n",
       "      <td>0.0</td>\n",
       "      <td>0.000000</td>\n",
       "      <td>0.353092</td>\n",
       "      <td>0.344513</td>\n",
       "      <td>0.380981</td>\n",
       "      <td>0.337494</td>\n",
       "      <td>1.0</td>\n",
       "    </tr>\n",
       "    <tr>\n",
       "      <th>50%</th>\n",
       "      <td>0.333333</td>\n",
       "      <td>0.000000</td>\n",
       "      <td>0.454545</td>\n",
       "      <td>0.0</td>\n",
       "      <td>1.0</td>\n",
       "      <td>0.0</td>\n",
       "      <td>0.000000</td>\n",
       "      <td>0.552460</td>\n",
       "      <td>0.535113</td>\n",
       "      <td>0.457536</td>\n",
       "      <td>0.410546</td>\n",
       "      <td>1.0</td>\n",
       "    </tr>\n",
       "    <tr>\n",
       "      <th>75%</th>\n",
       "      <td>0.666667</td>\n",
       "      <td>1.000000</td>\n",
       "      <td>0.727273</td>\n",
       "      <td>0.0</td>\n",
       "      <td>1.0</td>\n",
       "      <td>0.0</td>\n",
       "      <td>0.500000</td>\n",
       "      <td>0.653182</td>\n",
       "      <td>0.639540</td>\n",
       "      <td>0.635167</td>\n",
       "      <td>0.496103</td>\n",
       "      <td>1.0</td>\n",
       "    </tr>\n",
       "    <tr>\n",
       "      <th>max</th>\n",
       "      <td>1.000000</td>\n",
       "      <td>1.000000</td>\n",
       "      <td>1.000000</td>\n",
       "      <td>0.0</td>\n",
       "      <td>1.0</td>\n",
       "      <td>0.0</td>\n",
       "      <td>0.500000</td>\n",
       "      <td>0.928352</td>\n",
       "      <td>0.852514</td>\n",
       "      <td>0.937800</td>\n",
       "      <td>0.589400</td>\n",
       "      <td>1.0</td>\n",
       "    </tr>\n",
       "  </tbody>\n",
       "</table>\n",
       "</div>"
      ],
      "text/plain": [
       "          season         yr       mnth  holiday  weekday  workingday  \\\n",
       "count  17.000000  17.000000  17.000000     17.0     17.0        17.0   \n",
       "mean    0.509804   0.352941   0.486631      0.0      1.0         0.0   \n",
       "std     0.355857   0.492592   0.283756      0.0      0.0         0.0   \n",
       "min     0.000000   0.000000   0.090909      0.0      1.0         0.0   \n",
       "25%     0.333333   0.000000   0.272727      0.0      1.0         0.0   \n",
       "50%     0.333333   0.000000   0.454545      0.0      1.0         0.0   \n",
       "75%     0.666667   1.000000   0.727273      0.0      1.0         0.0   \n",
       "max     1.000000   1.000000   1.000000      0.0      1.0         0.0   \n",
       "\n",
       "       weathersit       temp      atemp        hum  windspeed  Cluster  \n",
       "count   17.000000  17.000000  17.000000  17.000000  17.000000     17.0  \n",
       "mean     0.176471   0.540122   0.520739   0.514319   0.397575      1.0  \n",
       "std      0.246296   0.209713   0.191487   0.215322   0.119718      0.0  \n",
       "min      0.000000   0.203567   0.201994   0.258972   0.183533      1.0  \n",
       "25%      0.000000   0.353092   0.344513   0.380981   0.337494      1.0  \n",
       "50%      0.000000   0.552460   0.535113   0.457536   0.410546      1.0  \n",
       "75%      0.500000   0.653182   0.639540   0.635167   0.496103      1.0  \n",
       "max      0.500000   0.928352   0.852514   0.937800   0.589400      1.0  "
      ]
     },
     "execution_count": 79,
     "metadata": {},
     "output_type": "execute_result"
    }
   ],
   "source": [
    "test_cluster_frame[test_cluster_frame['Cluster']==1].describe()"
   ]
  },
  {
   "cell_type": "code",
   "execution_count": 80,
   "metadata": {
    "scrolled": true
   },
   "outputs": [
    {
     "data": {
      "text/html": [
       "<div>\n",
       "<style scoped>\n",
       "    .dataframe tbody tr th:only-of-type {\n",
       "        vertical-align: middle;\n",
       "    }\n",
       "\n",
       "    .dataframe tbody tr th {\n",
       "        vertical-align: top;\n",
       "    }\n",
       "\n",
       "    .dataframe thead th {\n",
       "        text-align: right;\n",
       "    }\n",
       "</style>\n",
       "<table border=\"1\" class=\"dataframe\">\n",
       "  <thead>\n",
       "    <tr style=\"text-align: right;\">\n",
       "      <th></th>\n",
       "      <th>season</th>\n",
       "      <th>yr</th>\n",
       "      <th>mnth</th>\n",
       "      <th>holiday</th>\n",
       "      <th>weekday</th>\n",
       "      <th>workingday</th>\n",
       "      <th>weathersit</th>\n",
       "      <th>temp</th>\n",
       "      <th>atemp</th>\n",
       "      <th>hum</th>\n",
       "      <th>windspeed</th>\n",
       "      <th>Cluster</th>\n",
       "    </tr>\n",
       "  </thead>\n",
       "  <tbody>\n",
       "    <tr>\n",
       "      <th>count</th>\n",
       "      <td>29.000000</td>\n",
       "      <td>29.000000</td>\n",
       "      <td>29.000000</td>\n",
       "      <td>29.0</td>\n",
       "      <td>29.0</td>\n",
       "      <td>29.0</td>\n",
       "      <td>29.000000</td>\n",
       "      <td>29.000000</td>\n",
       "      <td>29.000000</td>\n",
       "      <td>29.000000</td>\n",
       "      <td>29.000000</td>\n",
       "      <td>29.0</td>\n",
       "    </tr>\n",
       "    <tr>\n",
       "      <th>mean</th>\n",
       "      <td>0.482759</td>\n",
       "      <td>0.551724</td>\n",
       "      <td>0.520376</td>\n",
       "      <td>0.0</td>\n",
       "      <td>0.0</td>\n",
       "      <td>0.0</td>\n",
       "      <td>0.172414</td>\n",
       "      <td>0.535499</td>\n",
       "      <td>0.512299</td>\n",
       "      <td>0.525231</td>\n",
       "      <td>0.498521</td>\n",
       "      <td>2.0</td>\n",
       "    </tr>\n",
       "    <tr>\n",
       "      <th>std</th>\n",
       "      <td>0.394267</td>\n",
       "      <td>0.506120</td>\n",
       "      <td>0.329481</td>\n",
       "      <td>0.0</td>\n",
       "      <td>0.0</td>\n",
       "      <td>0.0</td>\n",
       "      <td>0.276324</td>\n",
       "      <td>0.211624</td>\n",
       "      <td>0.198910</td>\n",
       "      <td>0.208702</td>\n",
       "      <td>0.185830</td>\n",
       "      <td>0.0</td>\n",
       "    </tr>\n",
       "    <tr>\n",
       "      <th>min</th>\n",
       "      <td>0.000000</td>\n",
       "      <td>0.000000</td>\n",
       "      <td>0.000000</td>\n",
       "      <td>0.0</td>\n",
       "      <td>0.0</td>\n",
       "      <td>0.0</td>\n",
       "      <td>0.000000</td>\n",
       "      <td>0.223295</td>\n",
       "      <td>0.200348</td>\n",
       "      <td>0.192584</td>\n",
       "      <td>0.192858</td>\n",
       "      <td>2.0</td>\n",
       "    </tr>\n",
       "    <tr>\n",
       "      <th>25%</th>\n",
       "      <td>0.000000</td>\n",
       "      <td>0.000000</td>\n",
       "      <td>0.272727</td>\n",
       "      <td>0.0</td>\n",
       "      <td>0.0</td>\n",
       "      <td>0.0</td>\n",
       "      <td>0.000000</td>\n",
       "      <td>0.387359</td>\n",
       "      <td>0.376966</td>\n",
       "      <td>0.344497</td>\n",
       "      <td>0.368576</td>\n",
       "      <td>2.0</td>\n",
       "    </tr>\n",
       "    <tr>\n",
       "      <th>50%</th>\n",
       "      <td>0.333333</td>\n",
       "      <td>1.000000</td>\n",
       "      <td>0.454545</td>\n",
       "      <td>0.0</td>\n",
       "      <td>0.0</td>\n",
       "      <td>0.0</td>\n",
       "      <td>0.000000</td>\n",
       "      <td>0.503656</td>\n",
       "      <td>0.496161</td>\n",
       "      <td>0.471293</td>\n",
       "      <td>0.466542</td>\n",
       "      <td>2.0</td>\n",
       "    </tr>\n",
       "    <tr>\n",
       "      <th>75%</th>\n",
       "      <td>1.000000</td>\n",
       "      <td>1.000000</td>\n",
       "      <td>0.818182</td>\n",
       "      <td>0.0</td>\n",
       "      <td>0.0</td>\n",
       "      <td>0.0</td>\n",
       "      <td>0.500000</td>\n",
       "      <td>0.699909</td>\n",
       "      <td>0.664414</td>\n",
       "      <td>0.668062</td>\n",
       "      <td>0.580107</td>\n",
       "      <td>2.0</td>\n",
       "    </tr>\n",
       "    <tr>\n",
       "      <th>max</th>\n",
       "      <td>1.000000</td>\n",
       "      <td>1.000000</td>\n",
       "      <td>1.000000</td>\n",
       "      <td>0.0</td>\n",
       "      <td>0.0</td>\n",
       "      <td>0.0</td>\n",
       "      <td>1.000000</td>\n",
       "      <td>0.951196</td>\n",
       "      <td>0.933712</td>\n",
       "      <td>0.965207</td>\n",
       "      <td>0.939315</td>\n",
       "      <td>2.0</td>\n",
       "    </tr>\n",
       "  </tbody>\n",
       "</table>\n",
       "</div>"
      ],
      "text/plain": [
       "          season         yr       mnth  holiday  weekday  workingday  \\\n",
       "count  29.000000  29.000000  29.000000     29.0     29.0        29.0   \n",
       "mean    0.482759   0.551724   0.520376      0.0      0.0         0.0   \n",
       "std     0.394267   0.506120   0.329481      0.0      0.0         0.0   \n",
       "min     0.000000   0.000000   0.000000      0.0      0.0         0.0   \n",
       "25%     0.000000   0.000000   0.272727      0.0      0.0         0.0   \n",
       "50%     0.333333   1.000000   0.454545      0.0      0.0         0.0   \n",
       "75%     1.000000   1.000000   0.818182      0.0      0.0         0.0   \n",
       "max     1.000000   1.000000   1.000000      0.0      0.0         0.0   \n",
       "\n",
       "       weathersit       temp      atemp        hum  windspeed  Cluster  \n",
       "count   29.000000  29.000000  29.000000  29.000000  29.000000     29.0  \n",
       "mean     0.172414   0.535499   0.512299   0.525231   0.498521      2.0  \n",
       "std      0.276324   0.211624   0.198910   0.208702   0.185830      0.0  \n",
       "min      0.000000   0.223295   0.200348   0.192584   0.192858      2.0  \n",
       "25%      0.000000   0.387359   0.376966   0.344497   0.368576      2.0  \n",
       "50%      0.000000   0.503656   0.496161   0.471293   0.466542      2.0  \n",
       "75%      0.500000   0.699909   0.664414   0.668062   0.580107      2.0  \n",
       "max      1.000000   0.951196   0.933712   0.965207   0.939315      2.0  "
      ]
     },
     "execution_count": 80,
     "metadata": {},
     "output_type": "execute_result"
    }
   ],
   "source": [
    "test_cluster_frame[test_cluster_frame['Cluster']==2].describe()"
   ]
  },
  {
   "cell_type": "code",
   "execution_count": 81,
   "metadata": {},
   "outputs": [
    {
     "data": {
      "text/html": [
       "<div>\n",
       "<style scoped>\n",
       "    .dataframe tbody tr th:only-of-type {\n",
       "        vertical-align: middle;\n",
       "    }\n",
       "\n",
       "    .dataframe tbody tr th {\n",
       "        vertical-align: top;\n",
       "    }\n",
       "\n",
       "    .dataframe thead th {\n",
       "        text-align: right;\n",
       "    }\n",
       "</style>\n",
       "<table border=\"1\" class=\"dataframe\">\n",
       "  <thead>\n",
       "    <tr style=\"text-align: right;\">\n",
       "      <th></th>\n",
       "      <th>season</th>\n",
       "      <th>yr</th>\n",
       "      <th>mnth</th>\n",
       "      <th>holiday</th>\n",
       "      <th>weekday</th>\n",
       "      <th>workingday</th>\n",
       "      <th>weathersit</th>\n",
       "      <th>temp</th>\n",
       "      <th>atemp</th>\n",
       "      <th>hum</th>\n",
       "      <th>windspeed</th>\n",
       "      <th>Cluster</th>\n",
       "    </tr>\n",
       "  </thead>\n",
       "  <tbody>\n",
       "    <tr>\n",
       "      <th>count</th>\n",
       "      <td>91.000000</td>\n",
       "      <td>91.0</td>\n",
       "      <td>91.000000</td>\n",
       "      <td>91.0</td>\n",
       "      <td>91.000000</td>\n",
       "      <td>91.0</td>\n",
       "      <td>91.000000</td>\n",
       "      <td>91.000000</td>\n",
       "      <td>91.000000</td>\n",
       "      <td>91.000000</td>\n",
       "      <td>91.000000</td>\n",
       "      <td>91.0</td>\n",
       "    </tr>\n",
       "    <tr>\n",
       "      <th>mean</th>\n",
       "      <td>0.560440</td>\n",
       "      <td>1.0</td>\n",
       "      <td>0.537463</td>\n",
       "      <td>0.0</td>\n",
       "      <td>0.514652</td>\n",
       "      <td>1.0</td>\n",
       "      <td>0.181319</td>\n",
       "      <td>0.562920</td>\n",
       "      <td>0.532295</td>\n",
       "      <td>0.467636</td>\n",
       "      <td>0.398095</td>\n",
       "      <td>3.0</td>\n",
       "    </tr>\n",
       "    <tr>\n",
       "      <th>std</th>\n",
       "      <td>0.368109</td>\n",
       "      <td>0.0</td>\n",
       "      <td>0.313354</td>\n",
       "      <td>0.0</td>\n",
       "      <td>0.232602</td>\n",
       "      <td>0.0</td>\n",
       "      <td>0.252944</td>\n",
       "      <td>0.228384</td>\n",
       "      <td>0.212948</td>\n",
       "      <td>0.195062</td>\n",
       "      <td>0.189806</td>\n",
       "      <td>0.0</td>\n",
       "    </tr>\n",
       "    <tr>\n",
       "      <th>min</th>\n",
       "      <td>0.000000</td>\n",
       "      <td>1.0</td>\n",
       "      <td>0.000000</td>\n",
       "      <td>0.0</td>\n",
       "      <td>0.166667</td>\n",
       "      <td>1.0</td>\n",
       "      <td>0.000000</td>\n",
       "      <td>0.197336</td>\n",
       "      <td>0.185427</td>\n",
       "      <td>0.020335</td>\n",
       "      <td>0.060663</td>\n",
       "      <td>3.0</td>\n",
       "    </tr>\n",
       "    <tr>\n",
       "      <th>25%</th>\n",
       "      <td>0.333333</td>\n",
       "      <td>1.0</td>\n",
       "      <td>0.272727</td>\n",
       "      <td>0.0</td>\n",
       "      <td>0.333333</td>\n",
       "      <td>1.0</td>\n",
       "      <td>0.000000</td>\n",
       "      <td>0.347901</td>\n",
       "      <td>0.342028</td>\n",
       "      <td>0.333733</td>\n",
       "      <td>0.272944</td>\n",
       "      <td>3.0</td>\n",
       "    </tr>\n",
       "    <tr>\n",
       "      <th>50%</th>\n",
       "      <td>0.666667</td>\n",
       "      <td>1.0</td>\n",
       "      <td>0.636364</td>\n",
       "      <td>0.0</td>\n",
       "      <td>0.500000</td>\n",
       "      <td>1.0</td>\n",
       "      <td>0.000000</td>\n",
       "      <td>0.604379</td>\n",
       "      <td>0.568280</td>\n",
       "      <td>0.460527</td>\n",
       "      <td>0.360794</td>\n",
       "      <td>3.0</td>\n",
       "    </tr>\n",
       "    <tr>\n",
       "      <th>75%</th>\n",
       "      <td>1.000000</td>\n",
       "      <td>1.0</td>\n",
       "      <td>0.818182</td>\n",
       "      <td>0.0</td>\n",
       "      <td>0.666667</td>\n",
       "      <td>1.0</td>\n",
       "      <td>0.500000</td>\n",
       "      <td>0.793882</td>\n",
       "      <td>0.738993</td>\n",
       "      <td>0.595096</td>\n",
       "      <td>0.482099</td>\n",
       "      <td>3.0</td>\n",
       "    </tr>\n",
       "    <tr>\n",
       "      <th>max</th>\n",
       "      <td>1.000000</td>\n",
       "      <td>1.0</td>\n",
       "      <td>1.000000</td>\n",
       "      <td>0.0</td>\n",
       "      <td>0.833333</td>\n",
       "      <td>1.0</td>\n",
       "      <td>1.000000</td>\n",
       "      <td>0.958464</td>\n",
       "      <td>0.895607</td>\n",
       "      <td>0.912081</td>\n",
       "      <td>0.981307</td>\n",
       "      <td>3.0</td>\n",
       "    </tr>\n",
       "  </tbody>\n",
       "</table>\n",
       "</div>"
      ],
      "text/plain": [
       "          season    yr       mnth  holiday    weekday  workingday  weathersit  \\\n",
       "count  91.000000  91.0  91.000000     91.0  91.000000        91.0   91.000000   \n",
       "mean    0.560440   1.0   0.537463      0.0   0.514652         1.0    0.181319   \n",
       "std     0.368109   0.0   0.313354      0.0   0.232602         0.0    0.252944   \n",
       "min     0.000000   1.0   0.000000      0.0   0.166667         1.0    0.000000   \n",
       "25%     0.333333   1.0   0.272727      0.0   0.333333         1.0    0.000000   \n",
       "50%     0.666667   1.0   0.636364      0.0   0.500000         1.0    0.000000   \n",
       "75%     1.000000   1.0   0.818182      0.0   0.666667         1.0    0.500000   \n",
       "max     1.000000   1.0   1.000000      0.0   0.833333         1.0    1.000000   \n",
       "\n",
       "            temp      atemp        hum  windspeed  Cluster  \n",
       "count  91.000000  91.000000  91.000000  91.000000     91.0  \n",
       "mean    0.562920   0.532295   0.467636   0.398095      3.0  \n",
       "std     0.228384   0.212948   0.195062   0.189806      0.0  \n",
       "min     0.197336   0.185427   0.020335   0.060663      3.0  \n",
       "25%     0.347901   0.342028   0.333733   0.272944      3.0  \n",
       "50%     0.604379   0.568280   0.460527   0.360794      3.0  \n",
       "75%     0.793882   0.738993   0.595096   0.482099      3.0  \n",
       "max     0.958464   0.895607   0.912081   0.981307      3.0  "
      ]
     },
     "execution_count": 81,
     "metadata": {},
     "output_type": "execute_result"
    }
   ],
   "source": [
    "test_cluster_frame[test_cluster_frame['Cluster']==3].describe()"
   ]
  },
  {
   "cell_type": "code",
   "execution_count": 82,
   "metadata": {},
   "outputs": [
    {
     "data": {
      "text/plain": [
       "array([[ 5.11494253e-01,  3.33066907e-16,  5.06269592e-01,\n",
       "         0.00000000e+00,  5.08620690e-01,  1.00000000e+00,\n",
       "         2.12643678e-01,  5.47713071e-01,  5.23167161e-01,\n",
       "         5.25675528e-01,  4.18261580e-01],\n",
       "       [ 4.93670886e-01,  4.93670886e-01,  5.14384350e-01,\n",
       "         0.00000000e+00,  1.00000000e+00, -9.99200722e-16,\n",
       "         2.21518987e-01,  5.10146974e-01,  4.84920323e-01,\n",
       "         5.08026545e-01,  4.32542007e-01],\n",
       "       [ 4.95495495e-01,  4.72972973e-01,  4.86486486e-01,\n",
       "         0.00000000e+00, -5.55111512e-16, -8.88178420e-16,\n",
       "         1.41891892e-01,  5.24042246e-01,  5.02554581e-01,\n",
       "         4.94177819e-01,  3.83618776e-01],\n",
       "       [ 4.74025974e-01,  1.00000000e+00,  4.81700118e-01,\n",
       "         0.00000000e+00,  5.04329004e-01,  1.00000000e+00,\n",
       "         1.88311688e-01,  5.64720511e-01,  5.40543645e-01,\n",
       "         4.92031418e-01,  4.12774822e-01]])"
      ]
     },
     "execution_count": 82,
     "metadata": {},
     "output_type": "execute_result"
    }
   ],
   "source": [
    "centers_normalized = cluster_model_normalized.cluster_centers_\n",
    "centers_normalized"
   ]
  },
  {
   "cell_type": "code",
   "execution_count": 83,
   "metadata": {},
   "outputs": [],
   "source": [
    "#treba prokomentarisati svaki klaster"
   ]
  },
  {
   "cell_type": "code",
   "execution_count": 84,
   "metadata": {},
   "outputs": [],
   "source": [
    "#pitanja: sta se predvidja, ukupan broj bicikala? Da li taj broj treba da se normalizuje i udje u klasterovanje ili ne?\n",
    "# Da li broj klastera treba da bude atribut za klasifikaciju?\n"
   ]
  },
  {
   "cell_type": "markdown",
   "metadata": {},
   "source": [
    "## Prediktivni modeli"
   ]
  },
  {
   "cell_type": "markdown",
   "metadata": {},
   "source": [
    "### Linearna regresija"
   ]
  },
  {
   "cell_type": "code",
   "execution_count": 116,
   "metadata": {},
   "outputs": [
    {
     "name": "stdout",
     "output_type": "stream",
     "text": [
      "RMSE value is: 889.5149273647438\n"
     ]
    }
   ],
   "source": [
    "linear_regression = linear_model.LinearRegression() \n",
    "# Train the model using the training sets \n",
    "linear_regression.fit(X_train, y_train) \n",
    "# Make predictions using the testing set \n",
    "y_pred = linear_regression.predict(X_holdout)\n",
    "error = sqrt(mean_squared_error(y_holdout,y_pred)) #calculate rmse\n",
    "rmse_val.append(error) #store rmse values\n",
    "print('RMSE value is:', error)"
   ]
  },
  {
   "cell_type": "code",
   "execution_count": 115,
   "metadata": {},
   "outputs": [
    {
     "name": "stdout",
     "output_type": "stream",
     "text": [
      "RMSE value is: 835.1165863335284\n"
     ]
    }
   ],
   "source": [
    "pred = linear_regression.predict(X_train)\n",
    "error = sqrt(mean_squared_error(y_train,pred)) #calculate rmse\n",
    "rmse_val.append(error) #store rmse values\n",
    "print('RMSE value is:', error)"
   ]
  },
  {
   "cell_type": "markdown",
   "metadata": {},
   "source": [
    "### Drvo odlucivanja"
   ]
  },
  {
   "cell_type": "code",
   "execution_count": 86,
   "metadata": {},
   "outputs": [
    {
     "data": {
      "image/png": "[encoded data removed]",
      "text/plain": [
       "<Figure size 842.4x595.44 with 1 Axes>"
      ]
     },
     "metadata": {},
     "output_type": "display_data"
    }
   ],
   "source": [
    "# Fit regression model\n",
    "dt_regression1 = DecisionTreeRegressor(max_depth=2)\n",
    "dt_regression2 = DecisionTreeRegressor(max_depth=5)\n",
    "dt_regression1.fit(X_train, y_train)\n",
    "dt_regression2.fit(X_train, y_train)\n",
    "\n",
    "# Predict\n",
    "y_1 = dt_regression1.predict(X_holdout)\n",
    "y_2 = dt_regression1.predict(X_holdout)\n",
    "\n",
    "# Plot the results\n",
    "plt.figure()\n",
    "plt.scatter(X_train[:,0], y_train, s=20, edgecolor=\"black\", c=\"darkorange\", label=\"data\")\n",
    "plt.plot(X_holdout, y_1, color=\"cornflowerblue\", label=\"max_depth=2\", linewidth=2)\n",
    "plt.plot(X_holdout, y_2, color=\"yellowgreen\", label=\"max_depth=5\", linewidth=2)\n",
    "plt.xlabel(\"data\")\n",
    "plt.ylabel(\"target\")\n",
    "plt.title(\"Decision Tree Regression\")\n",
    "plt.legend()\n",
    "plt.show()"
   ]
  },
  {
   "cell_type": "markdown",
   "metadata": {},
   "source": [
    "### KNN"
   ]
  },
  {
   "cell_type": "code",
   "execution_count": 87,
   "metadata": {},
   "outputs": [
    {
     "name": "stdout",
     "output_type": "stream",
     "text": [
      "RMSE value for k=  1 is: 966.5985233353141\n",
      "RMSE value for k=  2 is: 922.1880512847513\n",
      "RMSE value for k=  3 is: 903.1808824302842\n",
      "RMSE value for k=  4 is: 895.2687720539435\n",
      "RMSE value for k=  5 is: 915.614179024614\n",
      "RMSE value for k=  6 is: 884.9619381142312\n",
      "RMSE value for k=  7 is: 912.7764452494748\n",
      "RMSE value for k=  8 is: 914.8806935463842\n",
      "RMSE value for k=  9 is: 929.9466301651764\n",
      "RMSE value for k=  10 is: 930.2971618119461\n",
      "RMSE value for k=  11 is: 937.9606580190534\n",
      "RMSE value for k=  12 is: 948.817232629825\n",
      "RMSE value for k=  13 is: 957.9556284648772\n",
      "RMSE value for k=  14 is: 981.3300771023843\n",
      "RMSE value for k=  15 is: 977.237374499749\n",
      "RMSE value for k=  16 is: 984.2293674766274\n",
      "RMSE value for k=  17 is: 990.4482844089985\n",
      "RMSE value for k=  18 is: 976.1462825642053\n",
      "RMSE value for k=  19 is: 984.9460127941804\n",
      "RMSE value for k=  20 is: 994.1698270780822\n"
     ]
    }
   ],
   "source": [
    "#knn = neighbors.KNeighborsRegressor(n_neighbors = K)\n",
    "rmse_val = [] #to store rmse values for different k\n",
    "for K in range(20):\n",
    "    K = K+1\n",
    "    model = neighbors.KNeighborsRegressor(n_neighbors = K)\n",
    "\n",
    "    model.fit(X_train, y_train)  #fit the model\n",
    "    pred=model.predict(X_holdout) #make prediction on test set\n",
    "    error = sqrt(mean_squared_error(y_holdout,pred)) #calculate rmse\n",
    "    rmse_val.append(error) #store rmse values\n",
    "    print('RMSE value for k= ' , K , 'is:', error)\n",
    "#y = train['cnt']\n",
    "#train_new = train.drop(columns=['cnt'])\n",
    "#knn.fit(train_new, y)\n",
    "#y_holdout = test['cnt']\n",
    "#test_new = test.drop(columns=['cnt'])\n",
    "#knn_pred = knn.predict(test_new)\n",
    "#print(accuracy_score(y_holdout, knn_pred)) #preciznost predikcije na test setu\n"
   ]
  },
  {
   "cell_type": "code",
   "execution_count": 88,
   "metadata": {
    "scrolled": true
   },
   "outputs": [
    {
     "data": {
      "text/plain": [
       "<matplotlib.axes._subplots.AxesSubplot at 0x2c1f7a87240>"
      ]
     },
     "execution_count": 88,
     "metadata": {},
     "output_type": "execute_result"
    },
    {
     "data": {
      "image/png": "[encoded data removed]",
      "text/plain": [
       "<Figure size 842.4x595.44 with 1 Axes>"
      ]
     },
     "metadata": {},
     "output_type": "display_data"
    }
   ],
   "source": [
    "#plotting the rmse values against k values\n",
    "curve = pd.DataFrame(rmse_val) #elbow curve \n",
    "curve.plot()"
   ]
  },
  {
   "cell_type": "code",
   "execution_count": 89,
   "metadata": {},
   "outputs": [],
   "source": [
    "knn = neighbors.KNeighborsRegressor(n_neighbors = 5)"
   ]
  },
  {
   "cell_type": "code",
   "execution_count": 90,
   "metadata": {},
   "outputs": [],
   "source": [
    "pipe1 = Pipeline([('PCA', decomposition.PCA(.98)),\n",
    "                   ('regression', linear_model.LinearRegression())])\n",
    "\n",
    "pipe2 = Pipeline([('PCA', decomposition.PCA(.98)),\n",
    "                   ('knn', neighbors.KNeighborsRegressor(n_neighbors = 5))])\n",
    "\n",
    "pipe3 = Pipeline([('PCA', decomposition.PCA(.98)),\n",
    "                   ('decision_tree', DecisionTreeRegressor(max_depth=5))])\n",
    "#print(\"RF: \", cross_val_score(pipe1, X,y, scoring='recall').mean())\n",
    "#print(\"DT: \", cross_val_score(pipe2, X,y, scoring='recall').mean())"
   ]
  },
  {
   "cell_type": "code",
   "execution_count": 91,
   "metadata": {},
   "outputs": [
    {
     "name": "stdout",
     "output_type": "stream",
     "text": [
      "LR:  0.7821823759124126\n",
      "KNN:  0.7445661326569133\n",
      "DT:  0.6039740913416192\n"
     ]
    }
   ],
   "source": [
    "print(\"LR: \", cross_val_score(pipe1, X_train,y_train, scoring='r2').mean())\n",
    "print(\"KNN: \", cross_val_score(pipe2, X_train,y_train, scoring='r2').mean())\n",
    "print(\"DT: \", cross_val_score(pipe3, X_train,y_train, scoring='r2').mean())"
   ]
  },
  {
   "cell_type": "code",
   "execution_count": 92,
   "metadata": {},
   "outputs": [],
   "source": [
    "dict = {'regression':linear_model.LinearRegression(), 'knn':neighbors.KNeighborsRegressor(n_neighbors = 5),\n",
    "       'decision_tree':DecisionTreeRegressor(max_depth=5)}"
   ]
  },
  {
   "cell_type": "code",
   "execution_count": 100,
   "metadata": {},
   "outputs": [
    {
     "name": "stdout",
     "output_type": "stream",
     "text": [
      "regression\n",
      "R2: 0.7821823759124126\n",
      "\n",
      "MSE: -763693.9716887722\n",
      "\n",
      "knn\n",
      "R2: 0.7445661326569133\n",
      "\n",
      "MSE: -899025.6237365425\n",
      "\n",
      "decision_tree\n",
      "R2: 0.620376247221721\n",
      "\n",
      "MSE: -1283302.1612273713\n",
      "\n"
     ]
    }
   ],
   "source": [
    "for key, value in dict.items():\n",
    "    pipe = Pipeline([('PCA', decomposition.PCA(.98)),\n",
    "                    (key, value)])\n",
    "    print(key)\n",
    "    print(\"R2:\", cross_val_score(pipe, X_train,y_train, scoring='r2').mean())\n",
    "    print()\n",
    "    print(\"MSE:\", cross_val_score(pipe, X_train,y_train, scoring='neg_mean_squared_error').mean())\n",
    "    print()"
   ]
  },
  {
   "cell_type": "code",
   "execution_count": 110,
   "metadata": {},
   "outputs": [
    {
     "name": "stdout",
     "output_type": "stream",
     "text": [
      "RMSE value is: 994.1698270780822\n"
     ]
    }
   ],
   "source": [
    "dt_regression_better = DecisionTreeRegressor(max_depth=2, min_samples_split=4, random_state=2019)\n",
    "dt_regression_better.fit(X_train, y_train)  #fit the model\n",
    "pred=model.predict(X_holdout) #make prediction on test set\n",
    "error = sqrt(mean_squared_error(y_holdout,pred)) #calculate rmse\n",
    "rmse_val.append(error) #store rmse values\n",
    "print('RMSE value is:', error)"
   ]
  },
  {
   "cell_type": "code",
   "execution_count": 108,
   "metadata": {},
   "outputs": [
    {
     "name": "stdout",
     "output_type": "stream",
     "text": [
      "RMSE value is: 994.1698270780822\n"
     ]
    }
   ],
   "source": [
    "dt_regression_better = DecisionTreeRegressor(random_state=2019)\n",
    "dt_regression_better.fit(X_train, y_train)  #fit the model\n",
    "pred=model.predict(X_holdout) #make prediction on test set\n",
    "error = sqrt(mean_squared_error(y_holdout,pred)) #calculate rmse\n",
    "rmse_val.append(error) #store rmse values\n",
    "print('RMSE value is:', error)"
   ]
  },
  {
   "cell_type": "markdown",
   "metadata": {},
   "source": [
    "## Linear Regression and clusters"
   ]
  },
  {
   "cell_type": "code",
   "execution_count": 118,
   "metadata": {},
   "outputs": [
    {
     "data": {
      "text/html": [
       "<div>\n",
       "<style scoped>\n",
       "    .dataframe tbody tr th:only-of-type {\n",
       "        vertical-align: middle;\n",
       "    }\n",
       "\n",
       "    .dataframe tbody tr th {\n",
       "        vertical-align: top;\n",
       "    }\n",
       "\n",
       "    .dataframe thead th {\n",
       "        text-align: right;\n",
       "    }\n",
       "</style>\n",
       "<table border=\"1\" class=\"dataframe\">\n",
       "  <thead>\n",
       "    <tr style=\"text-align: right;\">\n",
       "      <th></th>\n",
       "      <th>season</th>\n",
       "      <th>yr</th>\n",
       "      <th>mnth</th>\n",
       "      <th>holiday</th>\n",
       "      <th>weekday</th>\n",
       "      <th>workingday</th>\n",
       "      <th>weathersit</th>\n",
       "      <th>temp</th>\n",
       "      <th>atemp</th>\n",
       "      <th>hum</th>\n",
       "      <th>windspeed</th>\n",
       "      <th>Cluster</th>\n",
       "    </tr>\n",
       "  </thead>\n",
       "  <tbody>\n",
       "    <tr>\n",
       "      <th>8</th>\n",
       "      <td>0.666667</td>\n",
       "      <td>0.0</td>\n",
       "      <td>0.727273</td>\n",
       "      <td>0.0</td>\n",
       "      <td>0.500000</td>\n",
       "      <td>1.0</td>\n",
       "      <td>0.0</td>\n",
       "      <td>0.765327</td>\n",
       "      <td>0.719101</td>\n",
       "      <td>0.604665</td>\n",
       "      <td>0.362376</td>\n",
       "      <td>0</td>\n",
       "    </tr>\n",
       "    <tr>\n",
       "      <th>9</th>\n",
       "      <td>1.000000</td>\n",
       "      <td>0.0</td>\n",
       "      <td>0.818182</td>\n",
       "      <td>0.0</td>\n",
       "      <td>0.166667</td>\n",
       "      <td>1.0</td>\n",
       "      <td>0.0</td>\n",
       "      <td>0.591919</td>\n",
       "      <td>0.566606</td>\n",
       "      <td>0.436005</td>\n",
       "      <td>0.382580</td>\n",
       "      <td>0</td>\n",
       "    </tr>\n",
       "    <tr>\n",
       "      <th>11</th>\n",
       "      <td>0.666667</td>\n",
       "      <td>0.0</td>\n",
       "      <td>0.636364</td>\n",
       "      <td>0.0</td>\n",
       "      <td>0.833333</td>\n",
       "      <td>1.0</td>\n",
       "      <td>0.0</td>\n",
       "      <td>0.808938</td>\n",
       "      <td>0.754729</td>\n",
       "      <td>0.199761</td>\n",
       "      <td>0.258149</td>\n",
       "      <td>0</td>\n",
       "    </tr>\n",
       "    <tr>\n",
       "      <th>13</th>\n",
       "      <td>0.333333</td>\n",
       "      <td>0.0</td>\n",
       "      <td>0.181818</td>\n",
       "      <td>0.0</td>\n",
       "      <td>0.500000</td>\n",
       "      <td>1.0</td>\n",
       "      <td>0.5</td>\n",
       "      <td>0.300135</td>\n",
       "      <td>0.286522</td>\n",
       "      <td>0.532297</td>\n",
       "      <td>0.376351</td>\n",
       "      <td>0</td>\n",
       "    </tr>\n",
       "    <tr>\n",
       "      <th>19</th>\n",
       "      <td>0.333333</td>\n",
       "      <td>0.0</td>\n",
       "      <td>0.272727</td>\n",
       "      <td>0.0</td>\n",
       "      <td>0.833333</td>\n",
       "      <td>1.0</td>\n",
       "      <td>0.5</td>\n",
       "      <td>0.344785</td>\n",
       "      <td>0.322133</td>\n",
       "      <td>0.804426</td>\n",
       "      <td>0.511650</td>\n",
       "      <td>0</td>\n",
       "    </tr>\n",
       "  </tbody>\n",
       "</table>\n",
       "</div>"
      ],
      "text/plain": [
       "      season   yr      mnth  holiday   weekday  workingday  weathersit  \\\n",
       "8   0.666667  0.0  0.727273      0.0  0.500000         1.0         0.0   \n",
       "9   1.000000  0.0  0.818182      0.0  0.166667         1.0         0.0   \n",
       "11  0.666667  0.0  0.636364      0.0  0.833333         1.0         0.0   \n",
       "13  0.333333  0.0  0.181818      0.0  0.500000         1.0         0.5   \n",
       "19  0.333333  0.0  0.272727      0.0  0.833333         1.0         0.5   \n",
       "\n",
       "        temp     atemp       hum  windspeed  Cluster  \n",
       "8   0.765327  0.719101  0.604665   0.362376        0  \n",
       "9   0.591919  0.566606  0.436005   0.382580        0  \n",
       "11  0.808938  0.754729  0.199761   0.258149        0  \n",
       "13  0.300135  0.286522  0.532297   0.376351        0  \n",
       "19  0.344785  0.322133  0.804426   0.511650        0  "
      ]
     },
     "execution_count": 118,
     "metadata": {},
     "output_type": "execute_result"
    }
   ],
   "source": [
    "cluster0_train.head()"
   ]
  },
  {
   "cell_type": "code",
   "execution_count": 131,
   "metadata": {},
   "outputs": [],
   "source": [
    "y0_test=pd.DataFrame(y_holdout)\n",
    "y0_test['Cluster']=clusters_normalized_test\n",
    "y0_test=y0_test[y0_test['Cluster']==0]\n",
    "y0_test=y0_test.drop('Cluster',axis=1)"
   ]
  },
  {
   "cell_type": "code",
   "execution_count": 132,
   "metadata": {},
   "outputs": [],
   "source": [
    "y0_train=pd.DataFrame(y_train)\n",
    "y0_train['Cluster']=clusters_normalized_train\n",
    "y0_train=y0_train[y0_train['Cluster']==0]\n",
    "y0_train=y0_train.drop('Cluster',axis=1)"
   ]
  },
  {
   "cell_type": "code",
   "execution_count": 133,
   "metadata": {},
   "outputs": [
    {
     "name": "stdout",
     "output_type": "stream",
     "text": [
      "RMSE value is: 607.5916763198994\n"
     ]
    }
   ],
   "source": [
    "linear_regression_cluster0 = linear_model.LinearRegression() \n",
    "# Train the model using the training sets \n",
    "linear_regression.fit(cluster0_train, y0_train) \n",
    "y_pred = linear_regression.predict(cluster0_test)\n",
    "error = sqrt(mean_squared_error(y0_test,y_pred)) #calculate rmse\n",
    "rmse_val.append(error) #store rmse values\n",
    "print('RMSE value is:', error)"
   ]
  },
  {
   "cell_type": "code",
   "execution_count": 134,
   "metadata": {},
   "outputs": [],
   "source": [
    "y1_test=pd.DataFrame(y_holdout)\n",
    "y1_test['Cluster']=clusters_normalized_test\n",
    "y1_test=y1_test[y1_test['Cluster']==1]\n",
    "y1_test=y1_test.drop('Cluster',axis=1)\n",
    "y1_train=pd.DataFrame(y_train)\n",
    "y1_train['Cluster']=clusters_normalized_train\n",
    "y1_train=y1_train[y1_train['Cluster']==1]\n",
    "y1_train=y1_train.drop('Cluster',axis=1)"
   ]
  },
  {
   "cell_type": "code",
   "execution_count": 135,
   "metadata": {},
   "outputs": [
    {
     "name": "stdout",
     "output_type": "stream",
     "text": [
      "RMSE value is: 1112.918650497654\n"
     ]
    }
   ],
   "source": [
    "linear_regression_cluster1 = linear_model.LinearRegression() \n",
    "# Train the model using the training sets \n",
    "linear_regression.fit(cluster1_train, y1_train) \n",
    "y_pred = linear_regression.predict(cluster1_test)\n",
    "error = sqrt(mean_squared_error(y1_test,y_pred)) #calculate rmse\n",
    "rmse_val.append(error) #store rmse values\n",
    "print('RMSE value is:', error)"
   ]
  },
  {
   "cell_type": "code",
   "execution_count": 136,
   "metadata": {},
   "outputs": [],
   "source": [
    "y2_test=pd.DataFrame(y_holdout)\n",
    "y2_test['Cluster']=clusters_normalized_test\n",
    "y2_test=y2_test[y2_test['Cluster']==2]\n",
    "y2_test=y2_test.drop('Cluster',axis=1)\n",
    "y2_train=pd.DataFrame(y_train)\n",
    "y2_train['Cluster']=clusters_normalized_train\n",
    "y2_train=y2_train[y2_train['Cluster']==2]\n",
    "y2_train=y2_train.drop('Cluster',axis=1)"
   ]
  },
  {
   "cell_type": "code",
   "execution_count": 138,
   "metadata": {},
   "outputs": [
    {
     "name": "stdout",
     "output_type": "stream",
     "text": [
      "RMSE value is: 1206.963875408544\n"
     ]
    }
   ],
   "source": [
    "linear_regression_cluster2 = linear_model.LinearRegression() \n",
    "# Train the model using the training sets \n",
    "linear_regression.fit(cluster2_train, y2_train) \n",
    "y_pred = linear_regression.predict(cluster2_test)\n",
    "error = sqrt(mean_squared_error(y2_test,y_pred)) #calculate rmse\n",
    "rmse_val.append(error) #store rmse values\n",
    "print('RMSE value is:', error)"
   ]
  },
  {
   "cell_type": "code",
   "execution_count": 139,
   "metadata": {},
   "outputs": [],
   "source": [
    "y3_test=pd.DataFrame(y_holdout)\n",
    "y3_test['Cluster']=clusters_normalized_test\n",
    "y3_test=y3_test[y3_test['Cluster']==3]\n",
    "y3_test=y3_test.drop('Cluster',axis=1)\n",
    "y3_train=pd.DataFrame(y_train)\n",
    "y3_train['Cluster']=clusters_normalized_train\n",
    "y3_train=y3_train[y3_train['Cluster']==3]\n",
    "y3_train=y3_train.drop('Cluster',axis=1)"
   ]
  },
  {
   "cell_type": "code",
   "execution_count": 140,
   "metadata": {},
   "outputs": [
    {
     "name": "stdout",
     "output_type": "stream",
     "text": [
      "RMSE value is: 1010.9488793140548\n"
     ]
    }
   ],
   "source": [
    "linear_regression_cluster3 = linear_model.LinearRegression() \n",
    "# Train the model using the training sets \n",
    "linear_regression.fit(cluster3_train, y3_train) \n",
    "y_pred = linear_regression.predict(cluster3_test)\n",
    "error = sqrt(mean_squared_error(y3_test,y_pred)) #calculate rmse\n",
    "rmse_val.append(error) #store rmse values\n",
    "print('RMSE value is:', error)"
   ]
  },
  {
   "cell_type": "code",
   "execution_count": null,
   "metadata": {},
   "outputs": [],
   "source": []
  }
 ],
 "metadata": {
  "kernelspec": {
   "display_name": "Python 3",
   "language": "python",
   "name": "python3"
  },
  "language_info": {
   "codemirror_mode": {
    "name": "ipython",
    "version": 3
   },
   "file_extension": ".py",
   "mimetype": "text/x-python",
   "name": "python",
   "nbconvert_exporter": "python",
   "pygments_lexer": "ipython3",
   "version": "3.6.5"
  }
 },
 "nbformat": 4,
 "nbformat_minor": 2
}
