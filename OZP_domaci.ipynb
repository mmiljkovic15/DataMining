{
 "cells": [
  {
   "cell_type": "code",
   "execution_count": 1,
   "metadata": {
    "collapsed": true
   },
   "outputs": [],
   "source": [
    "#ucitavanje biblioteka\n",
    "import pandas as pd\n",
    "import numpy as np\n",
    "from sklearn.preprocessing import MinMaxScaler\n",
    "from sklearn.cluster import KMeans\n",
    "from sklearn.tree import DecisionTreeRegressor\n",
    "from sklearn.model_selection import train_test_split\n",
    "from sklearn import decomposition\n",
    "import matplotlib.pyplot as plt\n",
    "%matplotlib inline\n",
    "import seaborn as sns\n",
    "sns.set(rc={'figure.figsize':(11.7,8.27)})\n",
    "from sklearn.metrics import silhouette_score\n",
    "from scipy import stats\n",
    "from sklearn.pipeline import Pipeline\n",
    "from sklearn.neighbors import KNeighborsClassifier\n",
    "from sklearn.model_selection import StratifiedKFold\n",
    "from sklearn.metrics import accuracy_score\n",
    "from sklearn.feature_selection import SelectFromModel\n",
    "from sklearn.model_selection import cross_val_score\n",
    "from sklearn import datasets, linear_model \n",
    "from sklearn.metrics import mean_squared_error, r2_score\n",
    "from sklearn import neighbors\n",
    "from math import sqrt"
   ]
  },
  {
   "cell_type": "code",
   "execution_count": 2,
   "metadata": {
    "collapsed": true
   },
   "outputs": [],
   "source": [
    "#ucitavanje dataset-a\n",
    "df = pd.read_csv('Bike Sharing.csv')"
   ]
  },
  {
   "cell_type": "code",
   "execution_count": 3,
   "metadata": {
    "scrolled": true
   },
   "outputs": [
    {
     "data": {
      "text/html": [
       "<div>\n",
       "<style scoped>\n",
       "    .dataframe tbody tr th:only-of-type {\n",
       "        vertical-align: middle;\n",
       "    }\n",
       "\n",
       "    .dataframe tbody tr th {\n",
       "        vertical-align: top;\n",
       "    }\n",
       "\n",
       "    .dataframe thead th {\n",
       "        text-align: right;\n",
       "    }\n",
       "</style>\n",
       "<table border=\"1\" class=\"dataframe\">\n",
       "  <thead>\n",
       "    <tr style=\"text-align: right;\">\n",
       "      <th></th>\n",
       "      <th>instant</th>\n",
       "      <th>dteday</th>\n",
       "      <th>season</th>\n",
       "      <th>yr</th>\n",
       "      <th>mnth</th>\n",
       "      <th>holiday</th>\n",
       "      <th>weekday</th>\n",
       "      <th>workingday</th>\n",
       "      <th>weathersit</th>\n",
       "      <th>temp</th>\n",
       "      <th>atemp</th>\n",
       "      <th>hum</th>\n",
       "      <th>windspeed</th>\n",
       "      <th>casual</th>\n",
       "      <th>registered</th>\n",
       "      <th>cnt</th>\n",
       "    </tr>\n",
       "  </thead>\n",
       "  <tbody>\n",
       "    <tr>\n",
       "      <th>0</th>\n",
       "      <td>1</td>\n",
       "      <td>2011-01-01</td>\n",
       "      <td>1</td>\n",
       "      <td>0</td>\n",
       "      <td>1</td>\n",
       "      <td>0</td>\n",
       "      <td>6</td>\n",
       "      <td>0</td>\n",
       "      <td>2</td>\n",
       "      <td>0.344167</td>\n",
       "      <td>0.363625</td>\n",
       "      <td>0.805833</td>\n",
       "      <td>0.160446</td>\n",
       "      <td>331.0</td>\n",
       "      <td>654.0</td>\n",
       "      <td>985</td>\n",
       "    </tr>\n",
       "    <tr>\n",
       "      <th>1</th>\n",
       "      <td>2</td>\n",
       "      <td>2011-01-02</td>\n",
       "      <td>1</td>\n",
       "      <td>0</td>\n",
       "      <td>1</td>\n",
       "      <td>0</td>\n",
       "      <td>0</td>\n",
       "      <td>0</td>\n",
       "      <td>2</td>\n",
       "      <td>0.363478</td>\n",
       "      <td>0.353739</td>\n",
       "      <td>0.696087</td>\n",
       "      <td>0.248539</td>\n",
       "      <td>131.0</td>\n",
       "      <td>670.0</td>\n",
       "      <td>801</td>\n",
       "    </tr>\n",
       "    <tr>\n",
       "      <th>2</th>\n",
       "      <td>3</td>\n",
       "      <td>2011-01-03</td>\n",
       "      <td>1</td>\n",
       "      <td>0</td>\n",
       "      <td>1</td>\n",
       "      <td>0</td>\n",
       "      <td>1</td>\n",
       "      <td>1</td>\n",
       "      <td>1</td>\n",
       "      <td>0.196364</td>\n",
       "      <td>0.189405</td>\n",
       "      <td>0.437273</td>\n",
       "      <td>0.248309</td>\n",
       "      <td>120.0</td>\n",
       "      <td>1229.0</td>\n",
       "      <td>1349</td>\n",
       "    </tr>\n",
       "    <tr>\n",
       "      <th>3</th>\n",
       "      <td>4</td>\n",
       "      <td>2011-01-04</td>\n",
       "      <td>1</td>\n",
       "      <td>0</td>\n",
       "      <td>1</td>\n",
       "      <td>0</td>\n",
       "      <td>2</td>\n",
       "      <td>1</td>\n",
       "      <td>1</td>\n",
       "      <td>0.200000</td>\n",
       "      <td>0.212122</td>\n",
       "      <td>0.590435</td>\n",
       "      <td>NaN</td>\n",
       "      <td>108.0</td>\n",
       "      <td>1454.0</td>\n",
       "      <td>1562</td>\n",
       "    </tr>\n",
       "    <tr>\n",
       "      <th>4</th>\n",
       "      <td>5</td>\n",
       "      <td>2011-01-05</td>\n",
       "      <td>1</td>\n",
       "      <td>0</td>\n",
       "      <td>1</td>\n",
       "      <td>0</td>\n",
       "      <td>3</td>\n",
       "      <td>1</td>\n",
       "      <td>1</td>\n",
       "      <td>0.226957</td>\n",
       "      <td>0.229270</td>\n",
       "      <td>0.436957</td>\n",
       "      <td>0.186900</td>\n",
       "      <td>82.0</td>\n",
       "      <td>1518.0</td>\n",
       "      <td>1600</td>\n",
       "    </tr>\n",
       "  </tbody>\n",
       "</table>\n",
       "</div>"
      ],
      "text/plain": [
       "   instant      dteday  season  yr  mnth  holiday  weekday  workingday  \\\n",
       "0        1  2011-01-01       1   0     1        0        6           0   \n",
       "1        2  2011-01-02       1   0     1        0        0           0   \n",
       "2        3  2011-01-03       1   0     1        0        1           1   \n",
       "3        4  2011-01-04       1   0     1        0        2           1   \n",
       "4        5  2011-01-05       1   0     1        0        3           1   \n",
       "\n",
       "   weathersit      temp     atemp       hum  windspeed  casual  registered  \\\n",
       "0           2  0.344167  0.363625  0.805833   0.160446   331.0       654.0   \n",
       "1           2  0.363478  0.353739  0.696087   0.248539   131.0       670.0   \n",
       "2           1  0.196364  0.189405  0.437273   0.248309   120.0      1229.0   \n",
       "3           1  0.200000  0.212122  0.590435        NaN   108.0      1454.0   \n",
       "4           1  0.226957  0.229270  0.436957   0.186900    82.0      1518.0   \n",
       "\n",
       "    cnt  \n",
       "0   985  \n",
       "1   801  \n",
       "2  1349  \n",
       "3  1562  \n",
       "4  1600  "
      ]
     },
     "execution_count": 3,
     "metadata": {},
     "output_type": "execute_result"
    }
   ],
   "source": [
    "df.head()"
   ]
  },
  {
   "cell_type": "code",
   "execution_count": 4,
   "metadata": {},
   "outputs": [
    {
     "data": {
      "text/plain": [
       "instant         int64\n",
       "dteday         object\n",
       "season          int64\n",
       "yr              int64\n",
       "mnth            int64\n",
       "holiday         int64\n",
       "weekday         int64\n",
       "workingday      int64\n",
       "weathersit      int64\n",
       "temp          float64\n",
       "atemp         float64\n",
       "hum           float64\n",
       "windspeed     float64\n",
       "casual        float64\n",
       "registered    float64\n",
       "cnt             int64\n",
       "dtype: object"
      ]
     },
     "execution_count": 4,
     "metadata": {},
     "output_type": "execute_result"
    }
   ],
   "source": [
    "#tipovi podataka\n",
    "df.dtypes"
   ]
  },
  {
   "cell_type": "code",
   "execution_count": 5,
   "metadata": {},
   "outputs": [
    {
     "data": {
      "text/html": [
       "<div>\n",
       "<style scoped>\n",
       "    .dataframe tbody tr th:only-of-type {\n",
       "        vertical-align: middle;\n",
       "    }\n",
       "\n",
       "    .dataframe tbody tr th {\n",
       "        vertical-align: top;\n",
       "    }\n",
       "\n",
       "    .dataframe thead th {\n",
       "        text-align: right;\n",
       "    }\n",
       "</style>\n",
       "<table border=\"1\" class=\"dataframe\">\n",
       "  <thead>\n",
       "    <tr style=\"text-align: right;\">\n",
       "      <th></th>\n",
       "      <th>instant</th>\n",
       "      <th>season</th>\n",
       "      <th>yr</th>\n",
       "      <th>mnth</th>\n",
       "      <th>holiday</th>\n",
       "      <th>weekday</th>\n",
       "      <th>workingday</th>\n",
       "      <th>weathersit</th>\n",
       "      <th>temp</th>\n",
       "      <th>atemp</th>\n",
       "      <th>hum</th>\n",
       "      <th>windspeed</th>\n",
       "      <th>casual</th>\n",
       "      <th>registered</th>\n",
       "      <th>cnt</th>\n",
       "    </tr>\n",
       "  </thead>\n",
       "  <tbody>\n",
       "    <tr>\n",
       "      <th>count</th>\n",
       "      <td>731.000000</td>\n",
       "      <td>731.000000</td>\n",
       "      <td>731.000000</td>\n",
       "      <td>731.000000</td>\n",
       "      <td>731.000000</td>\n",
       "      <td>731.000000</td>\n",
       "      <td>731.000000</td>\n",
       "      <td>731.000000</td>\n",
       "      <td>729.000000</td>\n",
       "      <td>728.000000</td>\n",
       "      <td>730.000000</td>\n",
       "      <td>728.000000</td>\n",
       "      <td>729.000000</td>\n",
       "      <td>730.000000</td>\n",
       "      <td>731.000000</td>\n",
       "    </tr>\n",
       "    <tr>\n",
       "      <th>mean</th>\n",
       "      <td>366.000000</td>\n",
       "      <td>2.496580</td>\n",
       "      <td>0.500684</td>\n",
       "      <td>6.519836</td>\n",
       "      <td>0.028728</td>\n",
       "      <td>2.997264</td>\n",
       "      <td>0.683995</td>\n",
       "      <td>1.395349</td>\n",
       "      <td>0.494953</td>\n",
       "      <td>0.474203</td>\n",
       "      <td>0.627809</td>\n",
       "      <td>0.190449</td>\n",
       "      <td>848.791495</td>\n",
       "      <td>3654.549315</td>\n",
       "      <td>4504.348837</td>\n",
       "    </tr>\n",
       "    <tr>\n",
       "      <th>std</th>\n",
       "      <td>211.165812</td>\n",
       "      <td>1.110807</td>\n",
       "      <td>0.500342</td>\n",
       "      <td>3.451913</td>\n",
       "      <td>0.167155</td>\n",
       "      <td>2.004787</td>\n",
       "      <td>0.465233</td>\n",
       "      <td>0.544894</td>\n",
       "      <td>0.182968</td>\n",
       "      <td>0.162960</td>\n",
       "      <td>0.142508</td>\n",
       "      <td>0.077456</td>\n",
       "      <td>687.415068</td>\n",
       "      <td>1560.708499</td>\n",
       "      <td>1937.211452</td>\n",
       "    </tr>\n",
       "    <tr>\n",
       "      <th>min</th>\n",
       "      <td>1.000000</td>\n",
       "      <td>1.000000</td>\n",
       "      <td>0.000000</td>\n",
       "      <td>1.000000</td>\n",
       "      <td>0.000000</td>\n",
       "      <td>0.000000</td>\n",
       "      <td>0.000000</td>\n",
       "      <td>1.000000</td>\n",
       "      <td>0.059130</td>\n",
       "      <td>0.079070</td>\n",
       "      <td>0.000000</td>\n",
       "      <td>0.022392</td>\n",
       "      <td>2.000000</td>\n",
       "      <td>20.000000</td>\n",
       "      <td>22.000000</td>\n",
       "    </tr>\n",
       "    <tr>\n",
       "      <th>25%</th>\n",
       "      <td>183.500000</td>\n",
       "      <td>2.000000</td>\n",
       "      <td>0.000000</td>\n",
       "      <td>4.000000</td>\n",
       "      <td>0.000000</td>\n",
       "      <td>1.000000</td>\n",
       "      <td>0.000000</td>\n",
       "      <td>1.000000</td>\n",
       "      <td>0.336667</td>\n",
       "      <td>0.337891</td>\n",
       "      <td>0.520000</td>\n",
       "      <td>0.134950</td>\n",
       "      <td>315.000000</td>\n",
       "      <td>2495.000000</td>\n",
       "      <td>3152.000000</td>\n",
       "    </tr>\n",
       "    <tr>\n",
       "      <th>50%</th>\n",
       "      <td>366.000000</td>\n",
       "      <td>3.000000</td>\n",
       "      <td>1.000000</td>\n",
       "      <td>7.000000</td>\n",
       "      <td>0.000000</td>\n",
       "      <td>3.000000</td>\n",
       "      <td>1.000000</td>\n",
       "      <td>1.000000</td>\n",
       "      <td>0.498333</td>\n",
       "      <td>0.485158</td>\n",
       "      <td>0.626250</td>\n",
       "      <td>0.180975</td>\n",
       "      <td>713.000000</td>\n",
       "      <td>3660.000000</td>\n",
       "      <td>4548.000000</td>\n",
       "    </tr>\n",
       "    <tr>\n",
       "      <th>75%</th>\n",
       "      <td>548.500000</td>\n",
       "      <td>3.000000</td>\n",
       "      <td>1.000000</td>\n",
       "      <td>10.000000</td>\n",
       "      <td>0.000000</td>\n",
       "      <td>5.000000</td>\n",
       "      <td>1.000000</td>\n",
       "      <td>2.000000</td>\n",
       "      <td>0.655000</td>\n",
       "      <td>0.608289</td>\n",
       "      <td>0.730313</td>\n",
       "      <td>0.233211</td>\n",
       "      <td>1097.000000</td>\n",
       "      <td>4759.750000</td>\n",
       "      <td>5956.000000</td>\n",
       "    </tr>\n",
       "    <tr>\n",
       "      <th>max</th>\n",
       "      <td>731.000000</td>\n",
       "      <td>4.000000</td>\n",
       "      <td>1.000000</td>\n",
       "      <td>12.000000</td>\n",
       "      <td>1.000000</td>\n",
       "      <td>6.000000</td>\n",
       "      <td>1.000000</td>\n",
       "      <td>3.000000</td>\n",
       "      <td>0.861667</td>\n",
       "      <td>0.840896</td>\n",
       "      <td>0.972500</td>\n",
       "      <td>0.507463</td>\n",
       "      <td>3410.000000</td>\n",
       "      <td>6946.000000</td>\n",
       "      <td>8714.000000</td>\n",
       "    </tr>\n",
       "  </tbody>\n",
       "</table>\n",
       "</div>"
      ],
      "text/plain": [
       "          instant      season          yr        mnth     holiday     weekday  \\\n",
       "count  731.000000  731.000000  731.000000  731.000000  731.000000  731.000000   \n",
       "mean   366.000000    2.496580    0.500684    6.519836    0.028728    2.997264   \n",
       "std    211.165812    1.110807    0.500342    3.451913    0.167155    2.004787   \n",
       "min      1.000000    1.000000    0.000000    1.000000    0.000000    0.000000   \n",
       "25%    183.500000    2.000000    0.000000    4.000000    0.000000    1.000000   \n",
       "50%    366.000000    3.000000    1.000000    7.000000    0.000000    3.000000   \n",
       "75%    548.500000    3.000000    1.000000   10.000000    0.000000    5.000000   \n",
       "max    731.000000    4.000000    1.000000   12.000000    1.000000    6.000000   \n",
       "\n",
       "       workingday  weathersit        temp       atemp         hum   windspeed  \\\n",
       "count  731.000000  731.000000  729.000000  728.000000  730.000000  728.000000   \n",
       "mean     0.683995    1.395349    0.494953    0.474203    0.627809    0.190449   \n",
       "std      0.465233    0.544894    0.182968    0.162960    0.142508    0.077456   \n",
       "min      0.000000    1.000000    0.059130    0.079070    0.000000    0.022392   \n",
       "25%      0.000000    1.000000    0.336667    0.337891    0.520000    0.134950   \n",
       "50%      1.000000    1.000000    0.498333    0.485158    0.626250    0.180975   \n",
       "75%      1.000000    2.000000    0.655000    0.608289    0.730313    0.233211   \n",
       "max      1.000000    3.000000    0.861667    0.840896    0.972500    0.507463   \n",
       "\n",
       "            casual   registered          cnt  \n",
       "count   729.000000   730.000000   731.000000  \n",
       "mean    848.791495  3654.549315  4504.348837  \n",
       "std     687.415068  1560.708499  1937.211452  \n",
       "min       2.000000    20.000000    22.000000  \n",
       "25%     315.000000  2495.000000  3152.000000  \n",
       "50%     713.000000  3660.000000  4548.000000  \n",
       "75%    1097.000000  4759.750000  5956.000000  \n",
       "max    3410.000000  6946.000000  8714.000000  "
      ]
     },
     "execution_count": 5,
     "metadata": {},
     "output_type": "execute_result"
    }
   ],
   "source": [
    "#deskriptivna statistika\n",
    "df.describe()"
   ]
  },
  {
   "cell_type": "code",
   "execution_count": 6,
   "metadata": {
    "scrolled": true
   },
   "outputs": [
    {
     "data": {
      "text/plain": [
       "instant       0\n",
       "dteday        0\n",
       "season        0\n",
       "yr            0\n",
       "mnth          0\n",
       "holiday       0\n",
       "weekday       0\n",
       "workingday    0\n",
       "weathersit    0\n",
       "temp          2\n",
       "atemp         3\n",
       "hum           1\n",
       "windspeed     3\n",
       "casual        2\n",
       "registered    1\n",
       "cnt           0\n",
       "dtype: int64"
      ]
     },
     "execution_count": 6,
     "metadata": {},
     "output_type": "execute_result"
    }
   ],
   "source": [
    "#provera null vrednosti\n",
    "df.isnull().sum()"
   ]
  },
  {
   "cell_type": "code",
   "execution_count": 7,
   "metadata": {},
   "outputs": [
    {
     "data": {
      "text/plain": [
       "(731, 16)"
      ]
     },
     "execution_count": 7,
     "metadata": {},
     "output_type": "execute_result"
    }
   ],
   "source": [
    "#broj redova i kolona\n",
    "df.shape"
   ]
  },
  {
   "cell_type": "code",
   "execution_count": 8,
   "metadata": {
    "collapsed": true
   },
   "outputs": [],
   "source": [
    "#izbacivanje redova u kojima bar jedna kolona ima null vrednost\n",
    "df = df.dropna(how='any')"
   ]
  },
  {
   "cell_type": "code",
   "execution_count": 9,
   "metadata": {},
   "outputs": [
    {
     "data": {
      "text/plain": [
       "(719, 16)"
      ]
     },
     "execution_count": 9,
     "metadata": {},
     "output_type": "execute_result"
    }
   ],
   "source": [
    "#broj redova i kolona nakon izbacivanja null vrednosti\n",
    "df.shape"
   ]
  },
  {
   "cell_type": "code",
   "execution_count": 10,
   "metadata": {},
   "outputs": [
    {
     "data": {
      "text/plain": [
       "Index(['instant', 'dteday', 'season', 'yr', 'mnth', 'holiday', 'weekday',\n",
       "       'workingday', 'weathersit', 'temp', 'atemp', 'hum', 'windspeed',\n",
       "       'casual', 'registered', 'cnt'],\n",
       "      dtype='object')"
      ]
     },
     "execution_count": 10,
     "metadata": {},
     "output_type": "execute_result"
    }
   ],
   "source": [
    "#nazivi kolona\n",
    "df.columns"
   ]
  },
  {
   "cell_type": "code",
   "execution_count": 11,
   "metadata": {
    "collapsed": true
   },
   "outputs": [],
   "source": [
    "#uzimanje u obzir samo numerickih podataka (izbacivanje datuma)\n",
    "df_numeric = df.select_dtypes(include = ['int64', 'float64'])"
   ]
  },
  {
   "cell_type": "code",
   "execution_count": 12,
   "metadata": {
    "scrolled": true
   },
   "outputs": [
    {
     "data": {
      "text/plain": [
       "Index(['instant', 'season', 'yr', 'mnth', 'holiday', 'weekday', 'workingday',\n",
       "       'weathersit', 'temp', 'atemp', 'hum', 'windspeed', 'casual',\n",
       "       'registered', 'cnt'],\n",
       "      dtype='object')"
      ]
     },
     "execution_count": 12,
     "metadata": {},
     "output_type": "execute_result"
    }
   ],
   "source": [
    "df_numeric.columns"
   ]
  },
  {
   "cell_type": "code",
   "execution_count": 13,
   "metadata": {
    "collapsed": true
   },
   "outputs": [],
   "source": [
    "#izbacivanje outlier-a\n",
    "z = np.abs(stats.zscore(df_numeric))\n",
    "\n",
    "threshold = 3\n",
    "df_numeric = df_numeric[(z < threshold).all(axis=1)]"
   ]
  },
  {
   "cell_type": "code",
   "execution_count": 14,
   "metadata": {},
   "outputs": [
    {
     "data": {
      "text/plain": [
       "(688, 15)"
      ]
     },
     "execution_count": 14,
     "metadata": {},
     "output_type": "execute_result"
    }
   ],
   "source": [
    "df_numeric.shape"
   ]
  },
  {
   "cell_type": "code",
   "execution_count": 15,
   "metadata": {
    "collapsed": true
   },
   "outputs": [],
   "source": [
    "#izbacivanje kolone koja je id\n",
    "y=df_numeric[['cnt']]\n",
    "y\n",
    "df_numeric = df_numeric.drop(columns=['instant', 'cnt','casual','registered'])\n"
   ]
  },
  {
   "cell_type": "code",
   "execution_count": 16,
   "metadata": {},
   "outputs": [
    {
     "data": {
      "text/html": [
       "<div>\n",
       "<style scoped>\n",
       "    .dataframe tbody tr th:only-of-type {\n",
       "        vertical-align: middle;\n",
       "    }\n",
       "\n",
       "    .dataframe tbody tr th {\n",
       "        vertical-align: top;\n",
       "    }\n",
       "\n",
       "    .dataframe thead th {\n",
       "        text-align: right;\n",
       "    }\n",
       "</style>\n",
       "<table border=\"1\" class=\"dataframe\">\n",
       "  <thead>\n",
       "    <tr style=\"text-align: right;\">\n",
       "      <th></th>\n",
       "      <th>season</th>\n",
       "      <th>yr</th>\n",
       "      <th>mnth</th>\n",
       "      <th>holiday</th>\n",
       "      <th>weekday</th>\n",
       "      <th>workingday</th>\n",
       "      <th>weathersit</th>\n",
       "      <th>temp</th>\n",
       "      <th>atemp</th>\n",
       "      <th>hum</th>\n",
       "      <th>windspeed</th>\n",
       "    </tr>\n",
       "  </thead>\n",
       "  <tbody>\n",
       "    <tr>\n",
       "      <th>0</th>\n",
       "      <td>1</td>\n",
       "      <td>0</td>\n",
       "      <td>1</td>\n",
       "      <td>0</td>\n",
       "      <td>6</td>\n",
       "      <td>0</td>\n",
       "      <td>2</td>\n",
       "      <td>0.344167</td>\n",
       "      <td>0.363625</td>\n",
       "      <td>0.805833</td>\n",
       "      <td>0.160446</td>\n",
       "    </tr>\n",
       "    <tr>\n",
       "      <th>1</th>\n",
       "      <td>1</td>\n",
       "      <td>0</td>\n",
       "      <td>1</td>\n",
       "      <td>0</td>\n",
       "      <td>0</td>\n",
       "      <td>0</td>\n",
       "      <td>2</td>\n",
       "      <td>0.363478</td>\n",
       "      <td>0.353739</td>\n",
       "      <td>0.696087</td>\n",
       "      <td>0.248539</td>\n",
       "    </tr>\n",
       "    <tr>\n",
       "      <th>2</th>\n",
       "      <td>1</td>\n",
       "      <td>0</td>\n",
       "      <td>1</td>\n",
       "      <td>0</td>\n",
       "      <td>1</td>\n",
       "      <td>1</td>\n",
       "      <td>1</td>\n",
       "      <td>0.196364</td>\n",
       "      <td>0.189405</td>\n",
       "      <td>0.437273</td>\n",
       "      <td>0.248309</td>\n",
       "    </tr>\n",
       "    <tr>\n",
       "      <th>4</th>\n",
       "      <td>1</td>\n",
       "      <td>0</td>\n",
       "      <td>1</td>\n",
       "      <td>0</td>\n",
       "      <td>3</td>\n",
       "      <td>1</td>\n",
       "      <td>1</td>\n",
       "      <td>0.226957</td>\n",
       "      <td>0.229270</td>\n",
       "      <td>0.436957</td>\n",
       "      <td>0.186900</td>\n",
       "    </tr>\n",
       "    <tr>\n",
       "      <th>5</th>\n",
       "      <td>1</td>\n",
       "      <td>0</td>\n",
       "      <td>1</td>\n",
       "      <td>0</td>\n",
       "      <td>4</td>\n",
       "      <td>1</td>\n",
       "      <td>1</td>\n",
       "      <td>0.204348</td>\n",
       "      <td>0.233209</td>\n",
       "      <td>0.518261</td>\n",
       "      <td>0.089565</td>\n",
       "    </tr>\n",
       "  </tbody>\n",
       "</table>\n",
       "</div>"
      ],
      "text/plain": [
       "   season  yr  mnth  holiday  weekday  workingday  weathersit      temp  \\\n",
       "0       1   0     1        0        6           0           2  0.344167   \n",
       "1       1   0     1        0        0           0           2  0.363478   \n",
       "2       1   0     1        0        1           1           1  0.196364   \n",
       "4       1   0     1        0        3           1           1  0.226957   \n",
       "5       1   0     1        0        4           1           1  0.204348   \n",
       "\n",
       "      atemp       hum  windspeed  \n",
       "0  0.363625  0.805833   0.160446  \n",
       "1  0.353739  0.696087   0.248539  \n",
       "2  0.189405  0.437273   0.248309  \n",
       "4  0.229270  0.436957   0.186900  \n",
       "5  0.233209  0.518261   0.089565  "
      ]
     },
     "execution_count": 16,
     "metadata": {},
     "output_type": "execute_result"
    }
   ],
   "source": [
    "df_numeric.head()"
   ]
  },
  {
   "cell_type": "code",
   "execution_count": 17,
   "metadata": {
    "collapsed": true
   },
   "outputs": [],
   "source": [
    "#normalizacija podataka\n",
    "scaler = MinMaxScaler()\n",
    "scaler.fit(df_numeric)\n",
    "df_normalized = scaler.transform(df_numeric)"
   ]
  },
  {
   "cell_type": "code",
   "execution_count": 18,
   "metadata": {
    "collapsed": true
   },
   "outputs": [],
   "source": [
    "#kastovanje dobijenih normalizovanih podataka u dataframe\n",
    "df_normalized = pd.DataFrame(df_normalized)\n",
    "df_normalized.columns = ['season', 'yr', 'mnth', 'holiday', 'weekday', 'workingday',\n",
    "       'weathersit', 'temp', 'atemp', 'hum', 'windspeed']"
   ]
  },
  {
   "cell_type": "code",
   "execution_count": 19,
   "metadata": {
    "scrolled": true
   },
   "outputs": [
    {
     "data": {
      "text/html": [
       "<div>\n",
       "<style scoped>\n",
       "    .dataframe tbody tr th:only-of-type {\n",
       "        vertical-align: middle;\n",
       "    }\n",
       "\n",
       "    .dataframe tbody tr th {\n",
       "        vertical-align: top;\n",
       "    }\n",
       "\n",
       "    .dataframe thead th {\n",
       "        text-align: right;\n",
       "    }\n",
       "</style>\n",
       "<table border=\"1\" class=\"dataframe\">\n",
       "  <thead>\n",
       "    <tr style=\"text-align: right;\">\n",
       "      <th></th>\n",
       "      <th>season</th>\n",
       "      <th>yr</th>\n",
       "      <th>mnth</th>\n",
       "      <th>holiday</th>\n",
       "      <th>weekday</th>\n",
       "      <th>workingday</th>\n",
       "      <th>weathersit</th>\n",
       "      <th>temp</th>\n",
       "      <th>atemp</th>\n",
       "      <th>hum</th>\n",
       "      <th>windspeed</th>\n",
       "    </tr>\n",
       "  </thead>\n",
       "  <tbody>\n",
       "    <tr>\n",
       "      <th>0</th>\n",
       "      <td>0.0</td>\n",
       "      <td>0.0</td>\n",
       "      <td>0.0</td>\n",
       "      <td>0.0</td>\n",
       "      <td>1.000000</td>\n",
       "      <td>0.0</td>\n",
       "      <td>0.5</td>\n",
       "      <td>0.355170</td>\n",
       "      <td>0.373517</td>\n",
       "      <td>0.760765</td>\n",
       "      <td>0.345236</td>\n",
       "    </tr>\n",
       "    <tr>\n",
       "      <th>1</th>\n",
       "      <td>0.0</td>\n",
       "      <td>0.0</td>\n",
       "      <td>0.0</td>\n",
       "      <td>0.0</td>\n",
       "      <td>0.000000</td>\n",
       "      <td>0.0</td>\n",
       "      <td>0.5</td>\n",
       "      <td>0.379232</td>\n",
       "      <td>0.360541</td>\n",
       "      <td>0.603235</td>\n",
       "      <td>0.565533</td>\n",
       "    </tr>\n",
       "    <tr>\n",
       "      <th>2</th>\n",
       "      <td>0.0</td>\n",
       "      <td>0.0</td>\n",
       "      <td>0.0</td>\n",
       "      <td>0.0</td>\n",
       "      <td>0.166667</td>\n",
       "      <td>1.0</td>\n",
       "      <td>0.0</td>\n",
       "      <td>0.171000</td>\n",
       "      <td>0.144830</td>\n",
       "      <td>0.231732</td>\n",
       "      <td>0.564958</td>\n",
       "    </tr>\n",
       "    <tr>\n",
       "      <th>3</th>\n",
       "      <td>0.0</td>\n",
       "      <td>0.0</td>\n",
       "      <td>0.0</td>\n",
       "      <td>0.0</td>\n",
       "      <td>0.500000</td>\n",
       "      <td>1.0</td>\n",
       "      <td>0.0</td>\n",
       "      <td>0.209120</td>\n",
       "      <td>0.197158</td>\n",
       "      <td>0.231278</td>\n",
       "      <td>0.411391</td>\n",
       "    </tr>\n",
       "    <tr>\n",
       "      <th>4</th>\n",
       "      <td>0.0</td>\n",
       "      <td>0.0</td>\n",
       "      <td>0.0</td>\n",
       "      <td>0.0</td>\n",
       "      <td>0.666667</td>\n",
       "      <td>1.0</td>\n",
       "      <td>0.0</td>\n",
       "      <td>0.180948</td>\n",
       "      <td>0.202329</td>\n",
       "      <td>0.347983</td>\n",
       "      <td>0.167983</td>\n",
       "    </tr>\n",
       "  </tbody>\n",
       "</table>\n",
       "</div>"
      ],
      "text/plain": [
       "   season   yr  mnth  holiday   weekday  workingday  weathersit      temp  \\\n",
       "0     0.0  0.0   0.0      0.0  1.000000         0.0         0.5  0.355170   \n",
       "1     0.0  0.0   0.0      0.0  0.000000         0.0         0.5  0.379232   \n",
       "2     0.0  0.0   0.0      0.0  0.166667         1.0         0.0  0.171000   \n",
       "3     0.0  0.0   0.0      0.0  0.500000         1.0         0.0  0.209120   \n",
       "4     0.0  0.0   0.0      0.0  0.666667         1.0         0.0  0.180948   \n",
       "\n",
       "      atemp       hum  windspeed  \n",
       "0  0.373517  0.760765   0.345236  \n",
       "1  0.360541  0.603235   0.565533  \n",
       "2  0.144830  0.231732   0.564958  \n",
       "3  0.197158  0.231278   0.411391  \n",
       "4  0.202329  0.347983   0.167983  "
      ]
     },
     "execution_count": 19,
     "metadata": {},
     "output_type": "execute_result"
    }
   ],
   "source": [
    "#normalizovani dataframe\n",
    "df_normalized.head()"
   ]
  },
  {
   "cell_type": "code",
   "execution_count": 20,
   "metadata": {
    "scrolled": false
   },
   "outputs": [
    {
     "data": {
      "text/html": [
       "<div>\n",
       "<style scoped>\n",
       "    .dataframe tbody tr th:only-of-type {\n",
       "        vertical-align: middle;\n",
       "    }\n",
       "\n",
       "    .dataframe tbody tr th {\n",
       "        vertical-align: top;\n",
       "    }\n",
       "\n",
       "    .dataframe thead th {\n",
       "        text-align: right;\n",
       "    }\n",
       "</style>\n",
       "<table border=\"1\" class=\"dataframe\">\n",
       "  <thead>\n",
       "    <tr style=\"text-align: right;\">\n",
       "      <th></th>\n",
       "      <th>season</th>\n",
       "      <th>yr</th>\n",
       "      <th>mnth</th>\n",
       "      <th>holiday</th>\n",
       "      <th>weekday</th>\n",
       "      <th>workingday</th>\n",
       "      <th>weathersit</th>\n",
       "      <th>temp</th>\n",
       "      <th>atemp</th>\n",
       "      <th>hum</th>\n",
       "      <th>windspeed</th>\n",
       "    </tr>\n",
       "  </thead>\n",
       "  <tbody>\n",
       "    <tr>\n",
       "      <th>count</th>\n",
       "      <td>688.000000</td>\n",
       "      <td>688.000000</td>\n",
       "      <td>688.000000</td>\n",
       "      <td>688.0</td>\n",
       "      <td>688.000000</td>\n",
       "      <td>688.000000</td>\n",
       "      <td>688.000000</td>\n",
       "      <td>688.000000</td>\n",
       "      <td>688.000000</td>\n",
       "      <td>688.000000</td>\n",
       "      <td>688.000000</td>\n",
       "    </tr>\n",
       "    <tr>\n",
       "      <th>mean</th>\n",
       "      <td>0.502422</td>\n",
       "      <td>0.495640</td>\n",
       "      <td>0.503039</td>\n",
       "      <td>0.0</td>\n",
       "      <td>0.500242</td>\n",
       "      <td>0.710756</td>\n",
       "      <td>0.197674</td>\n",
       "      <td>0.544385</td>\n",
       "      <td>0.519527</td>\n",
       "      <td>0.507333</td>\n",
       "      <td>0.417477</td>\n",
       "    </tr>\n",
       "    <tr>\n",
       "      <th>std</th>\n",
       "      <td>0.369018</td>\n",
       "      <td>0.500345</td>\n",
       "      <td>0.312642</td>\n",
       "      <td>0.0</td>\n",
       "      <td>0.333030</td>\n",
       "      <td>0.453741</td>\n",
       "      <td>0.271436</td>\n",
       "      <td>0.228865</td>\n",
       "      <td>0.214518</td>\n",
       "      <td>0.200347</td>\n",
       "      <td>0.191220</td>\n",
       "    </tr>\n",
       "    <tr>\n",
       "      <th>min</th>\n",
       "      <td>0.000000</td>\n",
       "      <td>0.000000</td>\n",
       "      <td>0.000000</td>\n",
       "      <td>0.0</td>\n",
       "      <td>0.000000</td>\n",
       "      <td>0.000000</td>\n",
       "      <td>0.000000</td>\n",
       "      <td>0.000000</td>\n",
       "      <td>0.000000</td>\n",
       "      <td>0.000000</td>\n",
       "      <td>0.000000</td>\n",
       "    </tr>\n",
       "    <tr>\n",
       "      <th>25%</th>\n",
       "      <td>0.333333</td>\n",
       "      <td>0.000000</td>\n",
       "      <td>0.272727</td>\n",
       "      <td>0.0</td>\n",
       "      <td>0.166667</td>\n",
       "      <td>0.000000</td>\n",
       "      <td>0.000000</td>\n",
       "      <td>0.346603</td>\n",
       "      <td>0.339738</td>\n",
       "      <td>0.350479</td>\n",
       "      <td>0.279545</td>\n",
       "    </tr>\n",
       "    <tr>\n",
       "      <th>50%</th>\n",
       "      <td>0.666667</td>\n",
       "      <td>0.000000</td>\n",
       "      <td>0.545455</td>\n",
       "      <td>0.0</td>\n",
       "      <td>0.500000</td>\n",
       "      <td>1.000000</td>\n",
       "      <td>0.000000</td>\n",
       "      <td>0.550903</td>\n",
       "      <td>0.537599</td>\n",
       "      <td>0.504187</td>\n",
       "      <td>0.392683</td>\n",
       "    </tr>\n",
       "    <tr>\n",
       "      <th>75%</th>\n",
       "      <td>0.666667</td>\n",
       "      <td>1.000000</td>\n",
       "      <td>0.750000</td>\n",
       "      <td>0.0</td>\n",
       "      <td>0.833333</td>\n",
       "      <td>1.000000</td>\n",
       "      <td>0.500000</td>\n",
       "      <td>0.743521</td>\n",
       "      <td>0.696319</td>\n",
       "      <td>0.652064</td>\n",
       "      <td>0.525898</td>\n",
       "    </tr>\n",
       "    <tr>\n",
       "      <th>max</th>\n",
       "      <td>1.000000</td>\n",
       "      <td>1.000000</td>\n",
       "      <td>1.000000</td>\n",
       "      <td>0.0</td>\n",
       "      <td>1.000000</td>\n",
       "      <td>1.000000</td>\n",
       "      <td>1.000000</td>\n",
       "      <td>1.000000</td>\n",
       "      <td>1.000000</td>\n",
       "      <td>1.000000</td>\n",
       "      <td>1.000000</td>\n",
       "    </tr>\n",
       "  </tbody>\n",
       "</table>\n",
       "</div>"
      ],
      "text/plain": [
       "           season          yr        mnth  holiday     weekday  workingday  \\\n",
       "count  688.000000  688.000000  688.000000    688.0  688.000000  688.000000   \n",
       "mean     0.502422    0.495640    0.503039      0.0    0.500242    0.710756   \n",
       "std      0.369018    0.500345    0.312642      0.0    0.333030    0.453741   \n",
       "min      0.000000    0.000000    0.000000      0.0    0.000000    0.000000   \n",
       "25%      0.333333    0.000000    0.272727      0.0    0.166667    0.000000   \n",
       "50%      0.666667    0.000000    0.545455      0.0    0.500000    1.000000   \n",
       "75%      0.666667    1.000000    0.750000      0.0    0.833333    1.000000   \n",
       "max      1.000000    1.000000    1.000000      0.0    1.000000    1.000000   \n",
       "\n",
       "       weathersit        temp       atemp         hum   windspeed  \n",
       "count  688.000000  688.000000  688.000000  688.000000  688.000000  \n",
       "mean     0.197674    0.544385    0.519527    0.507333    0.417477  \n",
       "std      0.271436    0.228865    0.214518    0.200347    0.191220  \n",
       "min      0.000000    0.000000    0.000000    0.000000    0.000000  \n",
       "25%      0.000000    0.346603    0.339738    0.350479    0.279545  \n",
       "50%      0.000000    0.550903    0.537599    0.504187    0.392683  \n",
       "75%      0.500000    0.743521    0.696319    0.652064    0.525898  \n",
       "max      1.000000    1.000000    1.000000    1.000000    1.000000  "
      ]
     },
     "execution_count": 20,
     "metadata": {},
     "output_type": "execute_result"
    }
   ],
   "source": [
    "#deskriptivna statistika normalizovanih podataka\n",
    "df_normalized.describe()"
   ]
  },
  {
   "cell_type": "code",
   "execution_count": 21,
   "metadata": {},
   "outputs": [
    {
     "data": {
      "text/plain": [
       "(688, 11)"
      ]
     },
     "execution_count": 21,
     "metadata": {},
     "output_type": "execute_result"
    }
   ],
   "source": [
    "df_normalized.shape"
   ]
  },
  {
   "cell_type": "code",
   "execution_count": 22,
   "metadata": {
    "collapsed": true
   },
   "outputs": [],
   "source": [
    "data=df_normalized\n",
    "y=y['cnt']"
   ]
  },
  {
   "cell_type": "code",
   "execution_count": 23,
   "metadata": {
    "collapsed": true
   },
   "outputs": [],
   "source": [
    "#podela dataset-a na train i test\n",
    "X_train, X_holdout, y_train, y_holdout = train_test_split(data.values, y, test_size=0.3,random_state=2018)"
   ]
  },
  {
   "cell_type": "code",
   "execution_count": 24,
   "metadata": {},
   "outputs": [
    {
     "data": {
      "text/plain": [
       "PCA(copy=True, iterated_power='auto', n_components=None, random_state=None,\n",
       "  svd_solver='auto', tol=0.0, whiten=False)"
      ]
     },
     "execution_count": 24,
     "metadata": {},
     "output_type": "execute_result"
    }
   ],
   "source": [
    "#analiza glavnih komponenti\n",
    "pca = decomposition.PCA()\n",
    "pca.fit(X_train)"
   ]
  },
  {
   "cell_type": "code",
   "execution_count": 25,
   "metadata": {
    "collapsed": true,
    "scrolled": true
   },
   "outputs": [],
   "source": [
    "explained_var = pca.explained_variance_ratio_\n",
    "cum_var = np.cumsum(explained_var)"
   ]
  },
  {
   "cell_type": "code",
   "execution_count": 26,
   "metadata": {},
   "outputs": [
    {
     "data": {
      "image/png": "[encoded data removed]",
      "text/plain": [
       "<Figure size 842.4x595.44 with 1 Axes>"
      ]
     },
     "metadata": {},
     "output_type": "display_data"
    }
   ],
   "source": [
    "#kumulativna varijansa koju objasnjavaju komponente (od 0 do 1)\n",
    "plt.plot(cum_var)\n",
    "plt.show()"
   ]
  },
  {
   "cell_type": "code",
   "execution_count": 27,
   "metadata": {
    "scrolled": true
   },
   "outputs": [
    {
     "data": {
      "image/png": "[encoded data removed]",
      "text/plain": [
       "<Figure size 842.4x595.44 with 1 Axes>"
      ]
     },
     "metadata": {},
     "output_type": "display_data"
    }
   ],
   "source": [
    "#koliko koja komponenta objasnjava varijansu\n",
    "plt.plot(pca.explained_variance_, scalex=True)\n",
    "sns.despine(offset=10, trim=True)"
   ]
  },
  {
   "cell_type": "code",
   "execution_count": 28,
   "metadata": {
    "scrolled": true
   },
   "outputs": [
    {
     "data": {
      "text/plain": [
       "array([[-3.02277082e-01,  9.04244129e-01, -2.39786133e-01,\n",
       "        -2.22044605e-16,  1.97467240e-02, -1.03974786e-01,\n",
       "        -3.21626384e-02, -7.61658133e-02, -7.35718692e-02,\n",
       "        -8.94815487e-02,  4.49178013e-02],\n",
       "       [-6.39089805e-01, -4.21456785e-01, -5.08617949e-01,\n",
       "         0.00000000e+00,  3.49722934e-02, -1.63025237e-01,\n",
       "        -1.66416583e-02, -2.36221322e-01, -2.26376031e-01,\n",
       "        -9.30348693e-02,  1.07083335e-01],\n",
       "       [ 1.57384080e-01, -2.33065616e-02,  1.36259553e-01,\n",
       "         1.11022302e-16,  1.46896852e-02, -9.76897643e-01,\n",
       "        -1.65031928e-02, -9.92385177e-03, -9.55963636e-03,\n",
       "         1.28240748e-02, -3.08044875e-02],\n",
       "       [ 3.52516534e-02,  8.37695517e-03,  7.75740952e-02,\n",
       "        -4.85722573e-17,  9.76057375e-01,  3.00945672e-02,\n",
       "         1.47194432e-01, -8.85611718e-02, -8.56703837e-02,\n",
       "         4.19158961e-02,  2.16814687e-02],\n",
       "       [ 3.90924637e-02,  5.45458801e-02,  9.27907353e-02,\n",
       "         6.93889390e-17, -1.99877683e-01,  1.34161785e-02,\n",
       "         7.56425860e-01, -3.40686396e-01, -3.16645713e-01,\n",
       "         3.97461618e-01,  1.63638547e-02],\n",
       "       [ 2.00720168e-01,  1.49003905e-02,  2.98279456e-01,\n",
       "        -1.11022302e-16, -6.36782091e-02,  8.21538377e-02,\n",
       "        -3.69247247e-01, -5.65778210e-01, -5.29727464e-01,\n",
       "        -3.34710038e-01,  1.03073196e-01]])"
      ]
     },
     "execution_count": 28,
     "metadata": {},
     "output_type": "execute_result"
    }
   ],
   "source": [
    "#vidimo da 6 komponenti objasnjavaju najveci deo varijanse, pa zato nadalje uzimamo samo tih 6 komponenti\n",
    "pca.n_components = 6\n",
    "pca.components_[0:6, :]"
   ]
  },
  {
   "cell_type": "code",
   "execution_count": 29,
   "metadata": {
    "collapsed": true
   },
   "outputs": [],
   "source": [
    "#transformisemo i train i test set\n",
    "train_pca=pca.fit_transform(X_train)\n",
    "test_pca=pca.fit_transform(X_holdout)"
   ]
  },
  {
   "cell_type": "code",
   "execution_count": 30,
   "metadata": {
    "collapsed": true
   },
   "outputs": [],
   "source": [
    "#prebacujemo ih u dataframe\n",
    "train_pca_frame=pd.DataFrame(train_pca, columns= range(1,7))\n",
    "test_pca_frame=pd.DataFrame(test_pca, columns= range(1,7))"
   ]
  },
  {
   "cell_type": "markdown",
   "metadata": {},
   "source": [
    "## Klasterovanje"
   ]
  },
  {
   "cell_type": "code",
   "execution_count": 31,
   "metadata": {
    "collapsed": true
   },
   "outputs": [],
   "source": [
    "#isprobavanje razlicith k vrednosti\n",
    "sse = {}\n",
    "for k in range(1, 10):\n",
    "    kmeans = KMeans(n_clusters=k, max_iter=100).fit(X_train)\n",
    "    cluste_labels = kmeans.labels_\n",
    "    sse[k] = kmeans.inertia_ "
   ]
  },
  {
   "cell_type": "code",
   "execution_count": 32,
   "metadata": {
    "scrolled": true
   },
   "outputs": [
    {
     "data": {
      "image/png": "[encoded data removed]",
      "text/plain": [
       "<Figure size 842.4x595.44 with 1 Axes>"
      ]
     },
     "metadata": {},
     "output_type": "display_data"
    }
   ],
   "source": [
    "#gledamo koliko su klasteri udaljeni jedni od drugih\n",
    "plt.close()\n",
    "plt.plot(list(sse.keys()), list(sse.values()))\n",
    "plt.xlabel(\"Number of clusters\")\n",
    "plt.ylabel(\"Intra Cluster Distance\")\n",
    "plt.show()"
   ]
  },
  {
   "cell_type": "code",
   "execution_count": 33,
   "metadata": {},
   "outputs": [
    {
     "data": {
      "image/png": "[encoded data removed]",
      "text/plain": [
       "<Figure size 842.4x595.44 with 1 Axes>"
      ]
     },
     "metadata": {},
     "output_type": "display_data"
    }
   ],
   "source": [
    "#gledamo silhouette score (koliko su dobro elementi rasporedjeni po klasterima)\n",
    "sse = {}\n",
    "for k in range(2, 10):\n",
    "    kmeans = KMeans(n_clusters=k, max_iter=100).fit(X_train)\n",
    "    cluster_labels = kmeans.fit_predict(X_train)\n",
    "    sse[k] = silhouette_score(X_train, cluster_labels)\n",
    "\n",
    "plt.plot(list(sse.keys()), list(sse.values()))\n",
    "plt.xlabel(\"Number of cluster\")\n",
    "plt.ylabel(\"SSE\")\n",
    "plt.show()"
   ]
  },
  {
   "cell_type": "code",
   "execution_count": 34,
   "metadata": {
    "collapsed": true
   },
   "outputs": [],
   "source": [
    "#vidimo da su elementi najbolje rasporedjeni kad imamo 4 klastera, tako da uzimamo da je k = 4 i kreiramo model\n",
    "\n",
    "kmeans_algorithm = KMeans(n_clusters = 4, max_iter = 100) \n",
    "\n",
    "cluster_model_normalized = kmeans_algorithm.fit(X_train)\n",
    "\n",
    "clusters_normalized_test = cluster_model_normalized.predict(X_holdout)\n",
    "clusters_normalized_train = cluster_model_normalized.predict(X_train)"
   ]
  },
  {
   "cell_type": "code",
   "execution_count": 35,
   "metadata": {
    "collapsed": true
   },
   "outputs": [],
   "source": [
    "train_cluster_frame=pd.DataFrame(X_train, columns= range(1,12))\n",
    "test_cluster_frame=pd.DataFrame(X_holdout, columns= range(1,12))"
   ]
  },
  {
   "cell_type": "code",
   "execution_count": 36,
   "metadata": {
    "collapsed": true
   },
   "outputs": [],
   "source": [
    "train_cluster_frame.columns=data.columns\n",
    "test_cluster_frame.columns=data.columns"
   ]
  },
  {
   "cell_type": "code",
   "execution_count": 37,
   "metadata": {},
   "outputs": [
    {
     "data": {
      "text/html": [
       "<div>\n",
       "<style scoped>\n",
       "    .dataframe tbody tr th:only-of-type {\n",
       "        vertical-align: middle;\n",
       "    }\n",
       "\n",
       "    .dataframe tbody tr th {\n",
       "        vertical-align: top;\n",
       "    }\n",
       "\n",
       "    .dataframe thead th {\n",
       "        text-align: right;\n",
       "    }\n",
       "</style>\n",
       "<table border=\"1\" class=\"dataframe\">\n",
       "  <thead>\n",
       "    <tr style=\"text-align: right;\">\n",
       "      <th></th>\n",
       "      <th>season</th>\n",
       "      <th>yr</th>\n",
       "      <th>mnth</th>\n",
       "      <th>holiday</th>\n",
       "      <th>weekday</th>\n",
       "      <th>workingday</th>\n",
       "      <th>weathersit</th>\n",
       "      <th>temp</th>\n",
       "      <th>atemp</th>\n",
       "      <th>hum</th>\n",
       "      <th>windspeed</th>\n",
       "    </tr>\n",
       "  </thead>\n",
       "  <tbody>\n",
       "    <tr>\n",
       "      <th>0</th>\n",
       "      <td>0.333333</td>\n",
       "      <td>1.0</td>\n",
       "      <td>0.272727</td>\n",
       "      <td>0.0</td>\n",
       "      <td>0.166667</td>\n",
       "      <td>1.0</td>\n",
       "      <td>0.5</td>\n",
       "      <td>0.504695</td>\n",
       "      <td>0.496998</td>\n",
       "      <td>0.422249</td>\n",
       "      <td>0.373225</td>\n",
       "    </tr>\n",
       "    <tr>\n",
       "      <th>1</th>\n",
       "      <td>0.000000</td>\n",
       "      <td>1.0</td>\n",
       "      <td>0.181818</td>\n",
       "      <td>0.0</td>\n",
       "      <td>0.833333</td>\n",
       "      <td>1.0</td>\n",
       "      <td>0.5</td>\n",
       "      <td>0.366591</td>\n",
       "      <td>0.368552</td>\n",
       "      <td>0.547249</td>\n",
       "      <td>0.306370</td>\n",
       "    </tr>\n",
       "    <tr>\n",
       "      <th>2</th>\n",
       "      <td>1.000000</td>\n",
       "      <td>1.0</td>\n",
       "      <td>0.727273</td>\n",
       "      <td>0.0</td>\n",
       "      <td>0.500000</td>\n",
       "      <td>1.0</td>\n",
       "      <td>0.0</td>\n",
       "      <td>0.717562</td>\n",
       "      <td>0.679346</td>\n",
       "      <td>0.509569</td>\n",
       "      <td>0.555183</td>\n",
       "    </tr>\n",
       "    <tr>\n",
       "      <th>3</th>\n",
       "      <td>1.000000</td>\n",
       "      <td>1.0</td>\n",
       "      <td>0.818182</td>\n",
       "      <td>0.0</td>\n",
       "      <td>1.000000</td>\n",
       "      <td>0.0</td>\n",
       "      <td>0.0</td>\n",
       "      <td>0.416433</td>\n",
       "      <td>0.409971</td>\n",
       "      <td>0.313995</td>\n",
       "      <td>0.309466</td>\n",
       "    </tr>\n",
       "    <tr>\n",
       "      <th>4</th>\n",
       "      <td>0.000000</td>\n",
       "      <td>1.0</td>\n",
       "      <td>0.000000</td>\n",
       "      <td>0.0</td>\n",
       "      <td>0.833333</td>\n",
       "      <td>1.0</td>\n",
       "      <td>0.5</td>\n",
       "      <td>0.455891</td>\n",
       "      <td>0.441457</td>\n",
       "      <td>0.668062</td>\n",
       "      <td>0.800922</td>\n",
       "    </tr>\n",
       "  </tbody>\n",
       "</table>\n",
       "</div>"
      ],
      "text/plain": [
       "     season   yr      mnth  holiday   weekday  workingday  weathersit  \\\n",
       "0  0.333333  1.0  0.272727      0.0  0.166667         1.0         0.5   \n",
       "1  0.000000  1.0  0.181818      0.0  0.833333         1.0         0.5   \n",
       "2  1.000000  1.0  0.727273      0.0  0.500000         1.0         0.0   \n",
       "3  1.000000  1.0  0.818182      0.0  1.000000         0.0         0.0   \n",
       "4  0.000000  1.0  0.000000      0.0  0.833333         1.0         0.5   \n",
       "\n",
       "       temp     atemp       hum  windspeed  \n",
       "0  0.504695  0.496998  0.422249   0.373225  \n",
       "1  0.366591  0.368552  0.547249   0.306370  \n",
       "2  0.717562  0.679346  0.509569   0.555183  \n",
       "3  0.416433  0.409971  0.313995   0.309466  \n",
       "4  0.455891  0.441457  0.668062   0.800922  "
      ]
     },
     "execution_count": 37,
     "metadata": {},
     "output_type": "execute_result"
    }
   ],
   "source": [
    "train_cluster_frame.head()"
   ]
  },
  {
   "cell_type": "code",
   "execution_count": 38,
   "metadata": {
    "collapsed": true,
    "scrolled": true
   },
   "outputs": [],
   "source": [
    "test_cluster_frame['Cluster'] = clusters_normalized_test\n",
    "train_cluster_frame['Cluster'] = clusters_normalized_train"
   ]
  },
  {
   "cell_type": "code",
   "execution_count": 39,
   "metadata": {
    "scrolled": false
   },
   "outputs": [
    {
     "data": {
      "text/html": [
       "<div>\n",
       "<style scoped>\n",
       "    .dataframe tbody tr th:only-of-type {\n",
       "        vertical-align: middle;\n",
       "    }\n",
       "\n",
       "    .dataframe tbody tr th {\n",
       "        vertical-align: top;\n",
       "    }\n",
       "\n",
       "    .dataframe thead th {\n",
       "        text-align: right;\n",
       "    }\n",
       "</style>\n",
       "<table border=\"1\" class=\"dataframe\">\n",
       "  <thead>\n",
       "    <tr style=\"text-align: right;\">\n",
       "      <th></th>\n",
       "      <th>season</th>\n",
       "      <th>yr</th>\n",
       "      <th>mnth</th>\n",
       "      <th>holiday</th>\n",
       "      <th>weekday</th>\n",
       "      <th>workingday</th>\n",
       "      <th>weathersit</th>\n",
       "      <th>temp</th>\n",
       "      <th>atemp</th>\n",
       "      <th>hum</th>\n",
       "      <th>windspeed</th>\n",
       "      <th>Cluster</th>\n",
       "    </tr>\n",
       "  </thead>\n",
       "  <tbody>\n",
       "    <tr>\n",
       "      <th>0</th>\n",
       "      <td>0.000000</td>\n",
       "      <td>0.0</td>\n",
       "      <td>0.181818</td>\n",
       "      <td>0.0</td>\n",
       "      <td>0.000000</td>\n",
       "      <td>0.0</td>\n",
       "      <td>0.5</td>\n",
       "      <td>0.395486</td>\n",
       "      <td>0.376966</td>\n",
       "      <td>0.965207</td>\n",
       "      <td>0.802472</td>\n",
       "      <td>0</td>\n",
       "    </tr>\n",
       "    <tr>\n",
       "      <th>1</th>\n",
       "      <td>1.000000</td>\n",
       "      <td>1.0</td>\n",
       "      <td>1.000000</td>\n",
       "      <td>0.0</td>\n",
       "      <td>0.000000</td>\n",
       "      <td>0.0</td>\n",
       "      <td>0.5</td>\n",
       "      <td>0.405012</td>\n",
       "      <td>0.408330</td>\n",
       "      <td>0.903709</td>\n",
       "      <td>0.339057</td>\n",
       "      <td>3</td>\n",
       "    </tr>\n",
       "    <tr>\n",
       "      <th>2</th>\n",
       "      <td>0.333333</td>\n",
       "      <td>1.0</td>\n",
       "      <td>0.272727</td>\n",
       "      <td>0.0</td>\n",
       "      <td>0.166667</td>\n",
       "      <td>1.0</td>\n",
       "      <td>0.0</td>\n",
       "      <td>0.535847</td>\n",
       "      <td>0.521862</td>\n",
       "      <td>0.059809</td>\n",
       "      <td>0.839756</td>\n",
       "      <td>1</td>\n",
       "    </tr>\n",
       "    <tr>\n",
       "      <th>3</th>\n",
       "      <td>0.333333</td>\n",
       "      <td>1.0</td>\n",
       "      <td>0.363636</td>\n",
       "      <td>0.0</td>\n",
       "      <td>0.833333</td>\n",
       "      <td>1.0</td>\n",
       "      <td>0.0</td>\n",
       "      <td>0.708216</td>\n",
       "      <td>0.671869</td>\n",
       "      <td>0.659690</td>\n",
       "      <td>0.351468</td>\n",
       "      <td>1</td>\n",
       "    </tr>\n",
       "    <tr>\n",
       "      <th>4</th>\n",
       "      <td>1.000000</td>\n",
       "      <td>1.0</td>\n",
       "      <td>0.818182</td>\n",
       "      <td>0.0</td>\n",
       "      <td>0.166667</td>\n",
       "      <td>1.0</td>\n",
       "      <td>0.5</td>\n",
       "      <td>0.575304</td>\n",
       "      <td>0.568280</td>\n",
       "      <td>0.535886</td>\n",
       "      <td>0.171081</td>\n",
       "      <td>1</td>\n",
       "    </tr>\n",
       "  </tbody>\n",
       "</table>\n",
       "</div>"
      ],
      "text/plain": [
       "     season   yr      mnth  holiday   weekday  workingday  weathersit  \\\n",
       "0  0.000000  0.0  0.181818      0.0  0.000000         0.0         0.5   \n",
       "1  1.000000  1.0  1.000000      0.0  0.000000         0.0         0.5   \n",
       "2  0.333333  1.0  0.272727      0.0  0.166667         1.0         0.0   \n",
       "3  0.333333  1.0  0.363636      0.0  0.833333         1.0         0.0   \n",
       "4  1.000000  1.0  0.818182      0.0  0.166667         1.0         0.5   \n",
       "\n",
       "       temp     atemp       hum  windspeed  Cluster  \n",
       "0  0.395486  0.376966  0.965207   0.802472        0  \n",
       "1  0.405012  0.408330  0.903709   0.339057        3  \n",
       "2  0.535847  0.521862  0.059809   0.839756        1  \n",
       "3  0.708216  0.671869  0.659690   0.351468        1  \n",
       "4  0.575304  0.568280  0.535886   0.171081        1  "
      ]
     },
     "execution_count": 39,
     "metadata": {},
     "output_type": "execute_result"
    }
   ],
   "source": [
    "test_cluster_frame.head()"
   ]
  },
  {
   "cell_type": "code",
   "execution_count": 40,
   "metadata": {
    "collapsed": true
   },
   "outputs": [],
   "source": [
    "#zapisujemo test klastere\n",
    "cluster0_test = test_cluster_frame[test_cluster_frame['Cluster']==0]\n",
    "cluster1_test = test_cluster_frame[test_cluster_frame['Cluster']==1]\n",
    "cluster2_test = test_cluster_frame[test_cluster_frame['Cluster']==2]\n",
    "cluster3_test = test_cluster_frame[test_cluster_frame['Cluster']==3]"
   ]
  },
  {
   "cell_type": "code",
   "execution_count": 41,
   "metadata": {
    "collapsed": true
   },
   "outputs": [],
   "source": [
    "#zapicujemo train klastere\n",
    "cluster0_train = train_cluster_frame[train_cluster_frame['Cluster']==0]\n",
    "cluster1_train = train_cluster_frame[train_cluster_frame['Cluster']==1]\n",
    "cluster2_train = train_cluster_frame[train_cluster_frame['Cluster']==2]\n",
    "cluster3_train = train_cluster_frame[train_cluster_frame['Cluster']==3]"
   ]
  },
  {
   "cell_type": "code",
   "execution_count": 42,
   "metadata": {
    "scrolled": true
   },
   "outputs": [
    {
     "data": {
      "text/html": [
       "<div>\n",
       "<style scoped>\n",
       "    .dataframe tbody tr th:only-of-type {\n",
       "        vertical-align: middle;\n",
       "    }\n",
       "\n",
       "    .dataframe tbody tr th {\n",
       "        vertical-align: top;\n",
       "    }\n",
       "\n",
       "    .dataframe thead th {\n",
       "        text-align: right;\n",
       "    }\n",
       "</style>\n",
       "<table border=\"1\" class=\"dataframe\">\n",
       "  <thead>\n",
       "    <tr style=\"text-align: right;\">\n",
       "      <th></th>\n",
       "      <th>season</th>\n",
       "      <th>yr</th>\n",
       "      <th>mnth</th>\n",
       "      <th>holiday</th>\n",
       "      <th>weekday</th>\n",
       "      <th>workingday</th>\n",
       "      <th>weathersit</th>\n",
       "      <th>temp</th>\n",
       "      <th>atemp</th>\n",
       "      <th>hum</th>\n",
       "      <th>windspeed</th>\n",
       "      <th>Cluster</th>\n",
       "    </tr>\n",
       "  </thead>\n",
       "  <tbody>\n",
       "    <tr>\n",
       "      <th>count</th>\n",
       "      <td>29.000000</td>\n",
       "      <td>29.0</td>\n",
       "      <td>29.000000</td>\n",
       "      <td>29.0</td>\n",
       "      <td>29.000000</td>\n",
       "      <td>29.000000</td>\n",
       "      <td>29.000000</td>\n",
       "      <td>29.000000</td>\n",
       "      <td>29.000000</td>\n",
       "      <td>29.000000</td>\n",
       "      <td>29.000000</td>\n",
       "      <td>29.0</td>\n",
       "    </tr>\n",
       "    <tr>\n",
       "      <th>mean</th>\n",
       "      <td>0.057471</td>\n",
       "      <td>0.0</td>\n",
       "      <td>0.125392</td>\n",
       "      <td>0.0</td>\n",
       "      <td>0.505747</td>\n",
       "      <td>0.793103</td>\n",
       "      <td>0.224138</td>\n",
       "      <td>0.296047</td>\n",
       "      <td>0.285315</td>\n",
       "      <td>0.473213</td>\n",
       "      <td>0.518905</td>\n",
       "      <td>0.0</td>\n",
       "    </tr>\n",
       "    <tr>\n",
       "      <th>std</th>\n",
       "      <td>0.128142</td>\n",
       "      <td>0.0</td>\n",
       "      <td>0.101389</td>\n",
       "      <td>0.0</td>\n",
       "      <td>0.313337</td>\n",
       "      <td>0.412251</td>\n",
       "      <td>0.253060</td>\n",
       "      <td>0.135016</td>\n",
       "      <td>0.135780</td>\n",
       "      <td>0.223666</td>\n",
       "      <td>0.183322</td>\n",
       "      <td>0.0</td>\n",
       "    </tr>\n",
       "    <tr>\n",
       "      <th>min</th>\n",
       "      <td>0.000000</td>\n",
       "      <td>0.0</td>\n",
       "      <td>0.000000</td>\n",
       "      <td>0.0</td>\n",
       "      <td>0.000000</td>\n",
       "      <td>0.000000</td>\n",
       "      <td>0.000000</td>\n",
       "      <td>0.094267</td>\n",
       "      <td>0.085601</td>\n",
       "      <td>0.061005</td>\n",
       "      <td>0.228680</td>\n",
       "      <td>0.0</td>\n",
       "    </tr>\n",
       "    <tr>\n",
       "      <th>25%</th>\n",
       "      <td>0.000000</td>\n",
       "      <td>0.0</td>\n",
       "      <td>0.090909</td>\n",
       "      <td>0.0</td>\n",
       "      <td>0.333333</td>\n",
       "      <td>1.000000</td>\n",
       "      <td>0.000000</td>\n",
       "      <td>0.189616</td>\n",
       "      <td>0.184596</td>\n",
       "      <td>0.314282</td>\n",
       "      <td>0.412121</td>\n",
       "      <td>0.0</td>\n",
       "    </tr>\n",
       "    <tr>\n",
       "      <th>50%</th>\n",
       "      <td>0.000000</td>\n",
       "      <td>0.0</td>\n",
       "      <td>0.090909</td>\n",
       "      <td>0.0</td>\n",
       "      <td>0.500000</td>\n",
       "      <td>1.000000</td>\n",
       "      <td>0.000000</td>\n",
       "      <td>0.294718</td>\n",
       "      <td>0.293151</td>\n",
       "      <td>0.450957</td>\n",
       "      <td>0.508554</td>\n",
       "      <td>0.0</td>\n",
       "    </tr>\n",
       "    <tr>\n",
       "      <th>75%</th>\n",
       "      <td>0.000000</td>\n",
       "      <td>0.0</td>\n",
       "      <td>0.181818</td>\n",
       "      <td>0.0</td>\n",
       "      <td>0.833333</td>\n",
       "      <td>1.000000</td>\n",
       "      <td>0.500000</td>\n",
       "      <td>0.380316</td>\n",
       "      <td>0.360541</td>\n",
       "      <td>0.605107</td>\n",
       "      <td>0.606510</td>\n",
       "      <td>0.0</td>\n",
       "    </tr>\n",
       "    <tr>\n",
       "      <th>max</th>\n",
       "      <td>0.333333</td>\n",
       "      <td>0.0</td>\n",
       "      <td>0.363636</td>\n",
       "      <td>0.0</td>\n",
       "      <td>1.000000</td>\n",
       "      <td>1.000000</td>\n",
       "      <td>0.500000</td>\n",
       "      <td>0.576343</td>\n",
       "      <td>0.568257</td>\n",
       "      <td>0.965207</td>\n",
       "      <td>0.849143</td>\n",
       "      <td>0.0</td>\n",
       "    </tr>\n",
       "  </tbody>\n",
       "</table>\n",
       "</div>"
      ],
      "text/plain": [
       "          season    yr       mnth  holiday    weekday  workingday  weathersit  \\\n",
       "count  29.000000  29.0  29.000000     29.0  29.000000   29.000000   29.000000   \n",
       "mean    0.057471   0.0   0.125392      0.0   0.505747    0.793103    0.224138   \n",
       "std     0.128142   0.0   0.101389      0.0   0.313337    0.412251    0.253060   \n",
       "min     0.000000   0.0   0.000000      0.0   0.000000    0.000000    0.000000   \n",
       "25%     0.000000   0.0   0.090909      0.0   0.333333    1.000000    0.000000   \n",
       "50%     0.000000   0.0   0.090909      0.0   0.500000    1.000000    0.000000   \n",
       "75%     0.000000   0.0   0.181818      0.0   0.833333    1.000000    0.500000   \n",
       "max     0.333333   0.0   0.363636      0.0   1.000000    1.000000    0.500000   \n",
       "\n",
       "            temp      atemp        hum  windspeed  Cluster  \n",
       "count  29.000000  29.000000  29.000000  29.000000     29.0  \n",
       "mean    0.296047   0.285315   0.473213   0.518905      0.0  \n",
       "std     0.135016   0.135780   0.223666   0.183322      0.0  \n",
       "min     0.094267   0.085601   0.061005   0.228680      0.0  \n",
       "25%     0.189616   0.184596   0.314282   0.412121      0.0  \n",
       "50%     0.294718   0.293151   0.450957   0.508554      0.0  \n",
       "75%     0.380316   0.360541   0.605107   0.606510      0.0  \n",
       "max     0.576343   0.568257   0.965207   0.849143      0.0  "
      ]
     },
     "execution_count": 42,
     "metadata": {},
     "output_type": "execute_result"
    }
   ],
   "source": [
    "#deskriptivna statistika prvog klastera\n",
    "test_cluster_frame[test_cluster_frame['Cluster']==0].describe()"
   ]
  },
  {
   "cell_type": "code",
   "execution_count": 43,
   "metadata": {
    "scrolled": true
   },
   "outputs": [
    {
     "data": {
      "text/html": [
       "<div>\n",
       "<style scoped>\n",
       "    .dataframe tbody tr th:only-of-type {\n",
       "        vertical-align: middle;\n",
       "    }\n",
       "\n",
       "    .dataframe tbody tr th {\n",
       "        vertical-align: top;\n",
       "    }\n",
       "\n",
       "    .dataframe thead th {\n",
       "        text-align: right;\n",
       "    }\n",
       "</style>\n",
       "<table border=\"1\" class=\"dataframe\">\n",
       "  <thead>\n",
       "    <tr style=\"text-align: right;\">\n",
       "      <th></th>\n",
       "      <th>season</th>\n",
       "      <th>yr</th>\n",
       "      <th>mnth</th>\n",
       "      <th>holiday</th>\n",
       "      <th>weekday</th>\n",
       "      <th>workingday</th>\n",
       "      <th>weathersit</th>\n",
       "      <th>temp</th>\n",
       "      <th>atemp</th>\n",
       "      <th>hum</th>\n",
       "      <th>windspeed</th>\n",
       "      <th>Cluster</th>\n",
       "    </tr>\n",
       "  </thead>\n",
       "  <tbody>\n",
       "    <tr>\n",
       "      <th>count</th>\n",
       "      <td>91.000000</td>\n",
       "      <td>91.0</td>\n",
       "      <td>91.000000</td>\n",
       "      <td>91.0</td>\n",
       "      <td>91.000000</td>\n",
       "      <td>91.0</td>\n",
       "      <td>91.000000</td>\n",
       "      <td>91.000000</td>\n",
       "      <td>91.000000</td>\n",
       "      <td>91.000000</td>\n",
       "      <td>91.000000</td>\n",
       "      <td>91.0</td>\n",
       "    </tr>\n",
       "    <tr>\n",
       "      <th>mean</th>\n",
       "      <td>0.560440</td>\n",
       "      <td>1.0</td>\n",
       "      <td>0.537463</td>\n",
       "      <td>0.0</td>\n",
       "      <td>0.514652</td>\n",
       "      <td>1.0</td>\n",
       "      <td>0.181319</td>\n",
       "      <td>0.562920</td>\n",
       "      <td>0.532295</td>\n",
       "      <td>0.467636</td>\n",
       "      <td>0.398095</td>\n",
       "      <td>1.0</td>\n",
       "    </tr>\n",
       "    <tr>\n",
       "      <th>std</th>\n",
       "      <td>0.368109</td>\n",
       "      <td>0.0</td>\n",
       "      <td>0.313354</td>\n",
       "      <td>0.0</td>\n",
       "      <td>0.232602</td>\n",
       "      <td>0.0</td>\n",
       "      <td>0.252944</td>\n",
       "      <td>0.228384</td>\n",
       "      <td>0.212948</td>\n",
       "      <td>0.195062</td>\n",
       "      <td>0.189806</td>\n",
       "      <td>0.0</td>\n",
       "    </tr>\n",
       "    <tr>\n",
       "      <th>min</th>\n",
       "      <td>0.000000</td>\n",
       "      <td>1.0</td>\n",
       "      <td>0.000000</td>\n",
       "      <td>0.0</td>\n",
       "      <td>0.166667</td>\n",
       "      <td>1.0</td>\n",
       "      <td>0.000000</td>\n",
       "      <td>0.197336</td>\n",
       "      <td>0.185427</td>\n",
       "      <td>0.020335</td>\n",
       "      <td>0.060663</td>\n",
       "      <td>1.0</td>\n",
       "    </tr>\n",
       "    <tr>\n",
       "      <th>25%</th>\n",
       "      <td>0.333333</td>\n",
       "      <td>1.0</td>\n",
       "      <td>0.272727</td>\n",
       "      <td>0.0</td>\n",
       "      <td>0.333333</td>\n",
       "      <td>1.0</td>\n",
       "      <td>0.000000</td>\n",
       "      <td>0.347901</td>\n",
       "      <td>0.342028</td>\n",
       "      <td>0.333733</td>\n",
       "      <td>0.272944</td>\n",
       "      <td>1.0</td>\n",
       "    </tr>\n",
       "    <tr>\n",
       "      <th>50%</th>\n",
       "      <td>0.666667</td>\n",
       "      <td>1.0</td>\n",
       "      <td>0.636364</td>\n",
       "      <td>0.0</td>\n",
       "      <td>0.500000</td>\n",
       "      <td>1.0</td>\n",
       "      <td>0.000000</td>\n",
       "      <td>0.604379</td>\n",
       "      <td>0.568280</td>\n",
       "      <td>0.460527</td>\n",
       "      <td>0.360794</td>\n",
       "      <td>1.0</td>\n",
       "    </tr>\n",
       "    <tr>\n",
       "      <th>75%</th>\n",
       "      <td>1.000000</td>\n",
       "      <td>1.0</td>\n",
       "      <td>0.818182</td>\n",
       "      <td>0.0</td>\n",
       "      <td>0.666667</td>\n",
       "      <td>1.0</td>\n",
       "      <td>0.500000</td>\n",
       "      <td>0.793882</td>\n",
       "      <td>0.738993</td>\n",
       "      <td>0.595096</td>\n",
       "      <td>0.482099</td>\n",
       "      <td>1.0</td>\n",
       "    </tr>\n",
       "    <tr>\n",
       "      <th>max</th>\n",
       "      <td>1.000000</td>\n",
       "      <td>1.0</td>\n",
       "      <td>1.000000</td>\n",
       "      <td>0.0</td>\n",
       "      <td>0.833333</td>\n",
       "      <td>1.0</td>\n",
       "      <td>1.000000</td>\n",
       "      <td>0.958464</td>\n",
       "      <td>0.895607</td>\n",
       "      <td>0.912081</td>\n",
       "      <td>0.981307</td>\n",
       "      <td>1.0</td>\n",
       "    </tr>\n",
       "  </tbody>\n",
       "</table>\n",
       "</div>"
      ],
      "text/plain": [
       "          season    yr       mnth  holiday    weekday  workingday  weathersit  \\\n",
       "count  91.000000  91.0  91.000000     91.0  91.000000        91.0   91.000000   \n",
       "mean    0.560440   1.0   0.537463      0.0   0.514652         1.0    0.181319   \n",
       "std     0.368109   0.0   0.313354      0.0   0.232602         0.0    0.252944   \n",
       "min     0.000000   1.0   0.000000      0.0   0.166667         1.0    0.000000   \n",
       "25%     0.333333   1.0   0.272727      0.0   0.333333         1.0    0.000000   \n",
       "50%     0.666667   1.0   0.636364      0.0   0.500000         1.0    0.000000   \n",
       "75%     1.000000   1.0   0.818182      0.0   0.666667         1.0    0.500000   \n",
       "max     1.000000   1.0   1.000000      0.0   0.833333         1.0    1.000000   \n",
       "\n",
       "            temp      atemp        hum  windspeed  Cluster  \n",
       "count  91.000000  91.000000  91.000000  91.000000     91.0  \n",
       "mean    0.562920   0.532295   0.467636   0.398095      1.0  \n",
       "std     0.228384   0.212948   0.195062   0.189806      0.0  \n",
       "min     0.197336   0.185427   0.020335   0.060663      1.0  \n",
       "25%     0.347901   0.342028   0.333733   0.272944      1.0  \n",
       "50%     0.604379   0.568280   0.460527   0.360794      1.0  \n",
       "75%     0.793882   0.738993   0.595096   0.482099      1.0  \n",
       "max     0.958464   0.895607   0.912081   0.981307      1.0  "
      ]
     },
     "execution_count": 43,
     "metadata": {},
     "output_type": "execute_result"
    }
   ],
   "source": [
    "#deskriptivna statistika drugog klastera\n",
    "test_cluster_frame[test_cluster_frame['Cluster']==1].describe()"
   ]
  },
  {
   "cell_type": "code",
   "execution_count": 44,
   "metadata": {
    "scrolled": true
   },
   "outputs": [
    {
     "data": {
      "text/html": [
       "<div>\n",
       "<style scoped>\n",
       "    .dataframe tbody tr th:only-of-type {\n",
       "        vertical-align: middle;\n",
       "    }\n",
       "\n",
       "    .dataframe tbody tr th {\n",
       "        vertical-align: top;\n",
       "    }\n",
       "\n",
       "    .dataframe thead th {\n",
       "        text-align: right;\n",
       "    }\n",
       "</style>\n",
       "<table border=\"1\" class=\"dataframe\">\n",
       "  <thead>\n",
       "    <tr style=\"text-align: right;\">\n",
       "      <th></th>\n",
       "      <th>season</th>\n",
       "      <th>yr</th>\n",
       "      <th>mnth</th>\n",
       "      <th>holiday</th>\n",
       "      <th>weekday</th>\n",
       "      <th>workingday</th>\n",
       "      <th>weathersit</th>\n",
       "      <th>temp</th>\n",
       "      <th>atemp</th>\n",
       "      <th>hum</th>\n",
       "      <th>windspeed</th>\n",
       "      <th>Cluster</th>\n",
       "    </tr>\n",
       "  </thead>\n",
       "  <tbody>\n",
       "    <tr>\n",
       "      <th>count</th>\n",
       "      <td>47.000000</td>\n",
       "      <td>47.0</td>\n",
       "      <td>47.000000</td>\n",
       "      <td>47.0</td>\n",
       "      <td>47.000000</td>\n",
       "      <td>47.0</td>\n",
       "      <td>47.000000</td>\n",
       "      <td>47.000000</td>\n",
       "      <td>47.000000</td>\n",
       "      <td>47.000000</td>\n",
       "      <td>47.000000</td>\n",
       "      <td>47.0</td>\n",
       "    </tr>\n",
       "    <tr>\n",
       "      <th>mean</th>\n",
       "      <td>0.695035</td>\n",
       "      <td>0.0</td>\n",
       "      <td>0.678917</td>\n",
       "      <td>0.0</td>\n",
       "      <td>0.500000</td>\n",
       "      <td>1.0</td>\n",
       "      <td>0.265957</td>\n",
       "      <td>0.649293</td>\n",
       "      <td>0.617873</td>\n",
       "      <td>0.605486</td>\n",
       "      <td>0.406165</td>\n",
       "      <td>2.0</td>\n",
       "    </tr>\n",
       "    <tr>\n",
       "      <th>std</th>\n",
       "      <td>0.285137</td>\n",
       "      <td>0.0</td>\n",
       "      <td>0.221752</td>\n",
       "      <td>0.0</td>\n",
       "      <td>0.199637</td>\n",
       "      <td>0.0</td>\n",
       "      <td>0.310173</td>\n",
       "      <td>0.184216</td>\n",
       "      <td>0.167700</td>\n",
       "      <td>0.194818</td>\n",
       "      <td>0.207975</td>\n",
       "      <td>0.0</td>\n",
       "    </tr>\n",
       "    <tr>\n",
       "      <th>min</th>\n",
       "      <td>0.000000</td>\n",
       "      <td>0.0</td>\n",
       "      <td>0.272727</td>\n",
       "      <td>0.0</td>\n",
       "      <td>0.166667</td>\n",
       "      <td>1.0</td>\n",
       "      <td>0.000000</td>\n",
       "      <td>0.315711</td>\n",
       "      <td>0.297291</td>\n",
       "      <td>0.041866</td>\n",
       "      <td>0.062226</td>\n",
       "      <td>2.0</td>\n",
       "    </tr>\n",
       "    <tr>\n",
       "      <th>25%</th>\n",
       "      <td>0.666667</td>\n",
       "      <td>0.0</td>\n",
       "      <td>0.545455</td>\n",
       "      <td>0.0</td>\n",
       "      <td>0.333333</td>\n",
       "      <td>1.0</td>\n",
       "      <td>0.000000</td>\n",
       "      <td>0.486523</td>\n",
       "      <td>0.475025</td>\n",
       "      <td>0.490431</td>\n",
       "      <td>0.262076</td>\n",
       "      <td>2.0</td>\n",
       "    </tr>\n",
       "    <tr>\n",
       "      <th>50%</th>\n",
       "      <td>0.666667</td>\n",
       "      <td>0.0</td>\n",
       "      <td>0.636364</td>\n",
       "      <td>0.0</td>\n",
       "      <td>0.500000</td>\n",
       "      <td>1.0</td>\n",
       "      <td>0.000000</td>\n",
       "      <td>0.685373</td>\n",
       "      <td>0.625197</td>\n",
       "      <td>0.604665</td>\n",
       "      <td>0.416810</td>\n",
       "      <td>2.0</td>\n",
       "    </tr>\n",
       "    <tr>\n",
       "      <th>75%</th>\n",
       "      <td>1.000000</td>\n",
       "      <td>0.0</td>\n",
       "      <td>0.909091</td>\n",
       "      <td>0.0</td>\n",
       "      <td>0.666667</td>\n",
       "      <td>1.0</td>\n",
       "      <td>0.500000</td>\n",
       "      <td>0.813092</td>\n",
       "      <td>0.749779</td>\n",
       "      <td>0.715312</td>\n",
       "      <td>0.520204</td>\n",
       "      <td>2.0</td>\n",
       "    </tr>\n",
       "    <tr>\n",
       "      <th>max</th>\n",
       "      <td>1.000000</td>\n",
       "      <td>0.0</td>\n",
       "      <td>1.000000</td>\n",
       "      <td>0.0</td>\n",
       "      <td>0.833333</td>\n",
       "      <td>1.0</td>\n",
       "      <td>1.000000</td>\n",
       "      <td>0.941851</td>\n",
       "      <td>0.980934</td>\n",
       "      <td>1.000000</td>\n",
       "      <td>1.000000</td>\n",
       "      <td>2.0</td>\n",
       "    </tr>\n",
       "  </tbody>\n",
       "</table>\n",
       "</div>"
      ],
      "text/plain": [
       "          season    yr       mnth  holiday    weekday  workingday  weathersit  \\\n",
       "count  47.000000  47.0  47.000000     47.0  47.000000        47.0   47.000000   \n",
       "mean    0.695035   0.0   0.678917      0.0   0.500000         1.0    0.265957   \n",
       "std     0.285137   0.0   0.221752      0.0   0.199637         0.0    0.310173   \n",
       "min     0.000000   0.0   0.272727      0.0   0.166667         1.0    0.000000   \n",
       "25%     0.666667   0.0   0.545455      0.0   0.333333         1.0    0.000000   \n",
       "50%     0.666667   0.0   0.636364      0.0   0.500000         1.0    0.000000   \n",
       "75%     1.000000   0.0   0.909091      0.0   0.666667         1.0    0.500000   \n",
       "max     1.000000   0.0   1.000000      0.0   0.833333         1.0    1.000000   \n",
       "\n",
       "            temp      atemp        hum  windspeed  Cluster  \n",
       "count  47.000000  47.000000  47.000000  47.000000     47.0  \n",
       "mean    0.649293   0.617873   0.605486   0.406165      2.0  \n",
       "std     0.184216   0.167700   0.194818   0.207975      0.0  \n",
       "min     0.315711   0.297291   0.041866   0.062226      2.0  \n",
       "25%     0.486523   0.475025   0.490431   0.262076      2.0  \n",
       "50%     0.685373   0.625197   0.604665   0.416810      2.0  \n",
       "75%     0.813092   0.749779   0.715312   0.520204      2.0  \n",
       "max     0.941851   0.980934   1.000000   1.000000      2.0  "
      ]
     },
     "execution_count": 44,
     "metadata": {},
     "output_type": "execute_result"
    }
   ],
   "source": [
    "#deskriptivna statistika treceg klastera\n",
    "test_cluster_frame[test_cluster_frame['Cluster']==2].describe()"
   ]
  },
  {
   "cell_type": "code",
   "execution_count": 45,
   "metadata": {},
   "outputs": [
    {
     "data": {
      "text/html": [
       "<div>\n",
       "<style scoped>\n",
       "    .dataframe tbody tr th:only-of-type {\n",
       "        vertical-align: middle;\n",
       "    }\n",
       "\n",
       "    .dataframe tbody tr th {\n",
       "        vertical-align: top;\n",
       "    }\n",
       "\n",
       "    .dataframe thead th {\n",
       "        text-align: right;\n",
       "    }\n",
       "</style>\n",
       "<table border=\"1\" class=\"dataframe\">\n",
       "  <thead>\n",
       "    <tr style=\"text-align: right;\">\n",
       "      <th></th>\n",
       "      <th>season</th>\n",
       "      <th>yr</th>\n",
       "      <th>mnth</th>\n",
       "      <th>holiday</th>\n",
       "      <th>weekday</th>\n",
       "      <th>workingday</th>\n",
       "      <th>weathersit</th>\n",
       "      <th>temp</th>\n",
       "      <th>atemp</th>\n",
       "      <th>hum</th>\n",
       "      <th>windspeed</th>\n",
       "      <th>Cluster</th>\n",
       "    </tr>\n",
       "  </thead>\n",
       "  <tbody>\n",
       "    <tr>\n",
       "      <th>count</th>\n",
       "      <td>40.000000</td>\n",
       "      <td>40.000000</td>\n",
       "      <td>40.000000</td>\n",
       "      <td>40.0</td>\n",
       "      <td>40.000000</td>\n",
       "      <td>40.0</td>\n",
       "      <td>40.000000</td>\n",
       "      <td>40.000000</td>\n",
       "      <td>40.000000</td>\n",
       "      <td>40.000000</td>\n",
       "      <td>40.000000</td>\n",
       "      <td>40.0</td>\n",
       "    </tr>\n",
       "    <tr>\n",
       "      <th>mean</th>\n",
       "      <td>0.566667</td>\n",
       "      <td>0.550000</td>\n",
       "      <td>0.568182</td>\n",
       "      <td>0.0</td>\n",
       "      <td>0.350000</td>\n",
       "      <td>0.0</td>\n",
       "      <td>0.162500</td>\n",
       "      <td>0.571475</td>\n",
       "      <td>0.547726</td>\n",
       "      <td>0.509140</td>\n",
       "      <td>0.448900</td>\n",
       "      <td>3.0</td>\n",
       "    </tr>\n",
       "    <tr>\n",
       "      <th>std</th>\n",
       "      <td>0.347560</td>\n",
       "      <td>0.503831</td>\n",
       "      <td>0.286557</td>\n",
       "      <td>0.0</td>\n",
       "      <td>0.483046</td>\n",
       "      <td>0.0</td>\n",
       "      <td>0.262813</td>\n",
       "      <td>0.200313</td>\n",
       "      <td>0.185898</td>\n",
       "      <td>0.195393</td>\n",
       "      <td>0.170924</td>\n",
       "      <td>0.0</td>\n",
       "    </tr>\n",
       "    <tr>\n",
       "      <th>min</th>\n",
       "      <td>0.000000</td>\n",
       "      <td>0.000000</td>\n",
       "      <td>0.000000</td>\n",
       "      <td>0.0</td>\n",
       "      <td>0.000000</td>\n",
       "      <td>0.0</td>\n",
       "      <td>0.000000</td>\n",
       "      <td>0.223295</td>\n",
       "      <td>0.200348</td>\n",
       "      <td>0.192584</td>\n",
       "      <td>0.183533</td>\n",
       "      <td>3.0</td>\n",
       "    </tr>\n",
       "    <tr>\n",
       "      <th>25%</th>\n",
       "      <td>0.333333</td>\n",
       "      <td>0.000000</td>\n",
       "      <td>0.363636</td>\n",
       "      <td>0.0</td>\n",
       "      <td>0.000000</td>\n",
       "      <td>0.0</td>\n",
       "      <td>0.000000</td>\n",
       "      <td>0.416693</td>\n",
       "      <td>0.408119</td>\n",
       "      <td>0.344348</td>\n",
       "      <td>0.338666</td>\n",
       "      <td>3.0</td>\n",
       "    </tr>\n",
       "    <tr>\n",
       "      <th>50%</th>\n",
       "      <td>0.666667</td>\n",
       "      <td>1.000000</td>\n",
       "      <td>0.545455</td>\n",
       "      <td>0.0</td>\n",
       "      <td>0.000000</td>\n",
       "      <td>0.0</td>\n",
       "      <td>0.000000</td>\n",
       "      <td>0.565959</td>\n",
       "      <td>0.557076</td>\n",
       "      <td>0.458434</td>\n",
       "      <td>0.421446</td>\n",
       "      <td>3.0</td>\n",
       "    </tr>\n",
       "    <tr>\n",
       "      <th>75%</th>\n",
       "      <td>1.000000</td>\n",
       "      <td>1.000000</td>\n",
       "      <td>0.818182</td>\n",
       "      <td>0.0</td>\n",
       "      <td>1.000000</td>\n",
       "      <td>0.0</td>\n",
       "      <td>0.500000</td>\n",
       "      <td>0.723273</td>\n",
       "      <td>0.677256</td>\n",
       "      <td>0.635765</td>\n",
       "      <td>0.538855</td>\n",
       "      <td>3.0</td>\n",
       "    </tr>\n",
       "    <tr>\n",
       "      <th>max</th>\n",
       "      <td>1.000000</td>\n",
       "      <td>1.000000</td>\n",
       "      <td>1.000000</td>\n",
       "      <td>0.0</td>\n",
       "      <td>1.000000</td>\n",
       "      <td>0.0</td>\n",
       "      <td>1.000000</td>\n",
       "      <td>0.951196</td>\n",
       "      <td>0.933712</td>\n",
       "      <td>0.903709</td>\n",
       "      <td>0.939315</td>\n",
       "      <td>3.0</td>\n",
       "    </tr>\n",
       "  </tbody>\n",
       "</table>\n",
       "</div>"
      ],
      "text/plain": [
       "          season         yr       mnth  holiday    weekday  workingday  \\\n",
       "count  40.000000  40.000000  40.000000     40.0  40.000000        40.0   \n",
       "mean    0.566667   0.550000   0.568182      0.0   0.350000         0.0   \n",
       "std     0.347560   0.503831   0.286557      0.0   0.483046         0.0   \n",
       "min     0.000000   0.000000   0.000000      0.0   0.000000         0.0   \n",
       "25%     0.333333   0.000000   0.363636      0.0   0.000000         0.0   \n",
       "50%     0.666667   1.000000   0.545455      0.0   0.000000         0.0   \n",
       "75%     1.000000   1.000000   0.818182      0.0   1.000000         0.0   \n",
       "max     1.000000   1.000000   1.000000      0.0   1.000000         0.0   \n",
       "\n",
       "       weathersit       temp      atemp        hum  windspeed  Cluster  \n",
       "count   40.000000  40.000000  40.000000  40.000000  40.000000     40.0  \n",
       "mean     0.162500   0.571475   0.547726   0.509140   0.448900      3.0  \n",
       "std      0.262813   0.200313   0.185898   0.195393   0.170924      0.0  \n",
       "min      0.000000   0.223295   0.200348   0.192584   0.183533      3.0  \n",
       "25%      0.000000   0.416693   0.408119   0.344348   0.338666      3.0  \n",
       "50%      0.000000   0.565959   0.557076   0.458434   0.421446      3.0  \n",
       "75%      0.500000   0.723273   0.677256   0.635765   0.538855      3.0  \n",
       "max      1.000000   0.951196   0.933712   0.903709   0.939315      3.0  "
      ]
     },
     "execution_count": 45,
     "metadata": {},
     "output_type": "execute_result"
    }
   ],
   "source": [
    "#deskriptivna statistika cetvrtog klastera\n",
    "test_cluster_frame[test_cluster_frame['Cluster']==3].describe()"
   ]
  },
  {
   "cell_type": "code",
   "execution_count": 46,
   "metadata": {},
   "outputs": [
    {
     "data": {
      "text/plain": [
       "array([[ 9.95670996e-02, -8.32667268e-16,  1.80637544e-01,\n",
       "         0.00000000e+00,  5.19480519e-01,  7.53246753e-01,\n",
       "         2.01298701e-01,  2.98871049e-01,  2.87472734e-01,\n",
       "         4.37237814e-01,  4.84236835e-01],\n",
       "       [ 4.74025974e-01,  1.00000000e+00,  4.81700118e-01,\n",
       "         0.00000000e+00,  5.04329004e-01,  1.00000000e+00,\n",
       "         1.88311688e-01,  5.64720511e-01,  5.40543645e-01,\n",
       "         4.92031418e-01,  4.12774822e-01],\n",
       "       [ 7.06896552e-01, -1.05471187e-15,  6.52037618e-01,\n",
       "         0.00000000e+00,  4.95689655e-01,  1.00000000e+00,\n",
       "         2.06896552e-01,  6.64506256e-01,  6.33802716e-01,\n",
       "         5.59896016e-01,  3.81782266e-01],\n",
       "       [ 5.59701493e-01,  5.52238806e-01,  5.61058345e-01,\n",
       "         0.00000000e+00,  5.22388060e-01,  3.33066907e-16,\n",
       "         1.90298507e-01,  5.54380709e-01,  5.28897873e-01,\n",
       "         5.19071254e-01,  4.01217490e-01]])"
      ]
     },
     "execution_count": 46,
     "metadata": {},
     "output_type": "execute_result"
    }
   ],
   "source": [
    "#centroidi\n",
    "centers_normalized = cluster_model_normalized.cluster_centers_\n",
    "centers_normalized"
   ]
  },
  {
   "cell_type": "code",
   "execution_count": 47,
   "metadata": {
    "collapsed": true
   },
   "outputs": [],
   "source": [
    "#treba prokomentarisati svaki klaster"
   ]
  },
  {
   "cell_type": "markdown",
   "metadata": {},
   "source": [
    "## Prediktivni modeli"
   ]
  },
  {
   "cell_type": "markdown",
   "metadata": {},
   "source": [
    "### Linearna regresija"
   ]
  },
  {
   "cell_type": "code",
   "execution_count": 48,
   "metadata": {},
   "outputs": [],
   "source": [
    "linear_regression = linear_model.LinearRegression() \n",
    "linear_regression.fit(X_train, y_train) #treniramo nad train setom\n",
    "y_pred = linear_regression.predict(X_holdout) #predvidjamo nad test setom"
   ]
  },
  {
   "cell_type": "code",
   "execution_count": 49,
   "metadata": {},
   "outputs": [
    {
     "name": "stdout",
     "output_type": "stream",
     "text": [
      "RMSE value is: 835.1165863335284\n"
     ]
    }
   ],
   "source": [
    "pred = linear_regression.predict(X_train)\n",
    "error = sqrt(mean_squared_error(y_train,pred)) #calculate rmse\n",
    "print('RMSE value is:', error)"
   ]
  },
  {
   "cell_type": "markdown",
   "metadata": {},
   "source": [
    "### Drvo odlucivanja"
   ]
  },
  {
   "cell_type": "code",
   "execution_count": 64,
   "metadata": {},
   "outputs": [
    {
     "name": "stdout",
     "output_type": "stream",
     "text": [
      "RMSE value on test is: 969.3352346332249\n",
      "RMSE value on train is: 0.0\n"
     ]
    }
   ],
   "source": [
    "# Fit regression model\n",
    "dt_regression = DecisionTreeRegressor()\n",
    "dt_regression.fit(X_train, y_train)\n",
    "\n",
    "\n",
    "# Predict\n",
    "y_1 = dt_regression.predict(X_holdout)\n",
    "y_2 = dt_regression.predict(X_train)\n",
    "\n",
    "error_on_test = sqrt(mean_squared_error(y_holdout,y_1))\n",
    "error_on_train = sqrt(mean_squared_error(y_train,y_2))\n",
    "print('RMSE value on test is:', error_on_test)\n",
    "print('RMSE value on train is:', error_on_train)"
   ]
  },
  {
   "cell_type": "markdown",
   "metadata": {},
   "source": [
    "### KNN"
   ]
  },
  {
   "cell_type": "code",
   "execution_count": 51,
   "metadata": {},
   "outputs": [
    {
     "name": "stdout",
     "output_type": "stream",
     "text": [
      "RMSE value for k=  1 is: 966.5985233353141\n",
      "RMSE value for k=  2 is: 922.1880512847513\n",
      "RMSE value for k=  3 is: 903.1808824302842\n",
      "RMSE value for k=  4 is: 895.2687720539435\n",
      "RMSE value for k=  5 is: 915.614179024614\n",
      "RMSE value for k=  6 is: 884.9619381142312\n",
      "RMSE value for k=  7 is: 912.7764452494748\n",
      "RMSE value for k=  8 is: 914.8806935463842\n",
      "RMSE value for k=  9 is: 929.9466301651764\n",
      "RMSE value for k=  10 is: 930.2971618119461\n",
      "RMSE value for k=  11 is: 937.9606580190534\n",
      "RMSE value for k=  12 is: 948.817232629825\n",
      "RMSE value for k=  13 is: 957.9556284648772\n",
      "RMSE value for k=  14 is: 981.3300771023843\n",
      "RMSE value for k=  15 is: 977.237374499749\n",
      "RMSE value for k=  16 is: 984.2293674766274\n",
      "RMSE value for k=  17 is: 990.4482844089985\n",
      "RMSE value for k=  18 is: 976.1462825642053\n",
      "RMSE value for k=  19 is: 984.9460127941804\n",
      "RMSE value for k=  20 is: 994.1698270780822\n"
     ]
    }
   ],
   "source": [
    "\n",
    "rmse_val = []\n",
    "for K in range(20):\n",
    "    K = K+1\n",
    "    model = neighbors.KNeighborsRegressor(n_neighbors = K)\n",
    "    model.fit(X_train, y_train) #fitujemo model\n",
    "    pred=model.predict(X_holdout) #pravimo predikcije nad test setom\n",
    "    error = sqrt(mean_squared_error(y_holdout,pred)) #racunam rmse\n",
    "    rmse_val.append(error) #sacuvaj rmse vrednosti\n",
    "    print('RMSE value for k= ' , K , 'is:', error)\n",
    "#y = train['cnt']\n",
    "#train_new = train.drop(columns=['cnt'])\n",
    "#knn.fit(train_new, y)\n",
    "#y_holdout = test['cnt']\n",
    "#test_new = test.drop(columns=['cnt'])\n",
    "#knn_pred = knn.predict(test_new)\n",
    "#print(accuracy_score(y_holdout, knn_pred)) #preciznost predikcije na test setu\n"
   ]
  },
  {
   "cell_type": "code",
   "execution_count": 52,
   "metadata": {
    "scrolled": true
   },
   "outputs": [
    {
     "data": {
      "text/plain": [
       "<matplotlib.axes._subplots.AxesSubplot at 0x1a03422a048>"
      ]
     },
     "execution_count": 52,
     "metadata": {},
     "output_type": "execute_result"
    },
    {
     "data": {
      "image/png": "[encoded data removed]",
      "text/plain": [
       "<Figure size 842.4x595.44 with 1 Axes>"
      ]
     },
     "metadata": {},
     "output_type": "display_data"
    }
   ],
   "source": [
    "#rmse vrednosti u odnosu na k\n",
    "curve = pd.DataFrame(rmse_val) #elbow curve \n",
    "curve.plot()"
   ]
  },
  {
   "cell_type": "code",
   "execution_count": 53,
   "metadata": {
    "collapsed": true
   },
   "outputs": [],
   "source": [
    "#zakljucili smo da je najbolje da je n=5\n",
    "knn = neighbors.KNeighborsRegressor(n_neighbors = 5)"
   ]
  },
  {
   "cell_type": "markdown",
   "metadata": {},
   "source": [
    "## Pipeline sa prediktivnim modelima i kros-validacijom"
   ]
  },
  {
   "cell_type": "code",
   "execution_count": 54,
   "metadata": {
    "collapsed": true
   },
   "outputs": [],
   "source": [
    "pipe1 = Pipeline([('PCA', decomposition.PCA(.98)),\n",
    "                   ('regression', linear_model.LinearRegression())])\n",
    "\n",
    "pipe2 = Pipeline([('PCA', decomposition.PCA(.98)),\n",
    "                   ('knn', neighbors.KNeighborsRegressor(n_neighbors = 5))])\n",
    "\n",
    "pipe3 = Pipeline([('PCA', decomposition.PCA(.98)),\n",
    "                   ('decision_tree', DecisionTreeRegressor(max_depth=5))])"
   ]
  },
  {
   "cell_type": "code",
   "execution_count": 55,
   "metadata": {
    "scrolled": true
   },
   "outputs": [
    {
     "name": "stdout",
     "output_type": "stream",
     "text": [
      "LR:  0.7821823759124126\n",
      "KNN:  0.7445661326569133\n",
      "DT:  0.6301718054123787\n"
     ]
    }
   ],
   "source": [
    "print(\"LR: \", cross_val_score(pipe1, X_train,y_train, scoring='r2').mean())\n",
    "print(\"KNN: \", cross_val_score(pipe2, X_train,y_train, scoring='r2').mean())\n",
    "print(\"DT: \", cross_val_score(pipe3, X_train,y_train, scoring='r2').mean())"
   ]
  },
  {
   "cell_type": "markdown",
   "metadata": {},
   "source": [
    "### Automatizovani pipeline"
   ]
  },
  {
   "cell_type": "code",
   "execution_count": 65,
   "metadata": {
    "collapsed": true
   },
   "outputs": [],
   "source": [
    "dict = {'regression':linear_model.LinearRegression(), 'knn':neighbors.KNeighborsRegressor(n_neighbors = 5),\n",
    "       'decision_tree':DecisionTreeRegressor(max_depth=5)}"
   ]
  },
  {
   "cell_type": "code",
   "execution_count": 67,
   "metadata": {
    "scrolled": true
   },
   "outputs": [
    {
     "name": "stdout",
     "output_type": "stream",
     "text": [
      "regression\n",
      "R2: 0.7821823759124126\n",
      "MSE: -763693.9716887722\n",
      "\n",
      "knn\n",
      "R2: 0.7445661326569133\n",
      "MSE: -899025.6237365425\n",
      "\n",
      "decision_tree\n",
      "R2: 0.6063088071827609\n",
      "MSE: -1338648.9502081878\n",
      "\n"
     ]
    }
   ],
   "source": [
    "for key, value in dict.items():\n",
    "    pipe = Pipeline([('PCA', decomposition.PCA(.98)),\n",
    "                    (key, value)])\n",
    "    print(key)\n",
    "    print(\"R2:\", cross_val_score(pipe, X_train,y_train, scoring='r2').mean())\n",
    "    print(\"MSE:\", cross_val_score(pipe, X_train,y_train, scoring='neg_mean_squared_error').mean())\n",
    "    print()"
   ]
  },
  {
   "cell_type": "markdown",
   "metadata": {},
   "source": [
    "## Drvo odlučivanja sa izmenjenim parametrima"
   ]
  },
  {
   "cell_type": "code",
   "execution_count": 63,
   "metadata": {},
   "outputs": [
    {
     "name": "stdout",
     "output_type": "stream",
     "text": [
      "RMSE value is: 1053.2617256712556\n"
     ]
    }
   ],
   "source": [
    "dt_regression_better = DecisionTreeRegressor(max_depth=50, min_samples_split=100, random_state=2019)\n",
    "dt_regression_better.fit(X_train, y_train)  \n",
    "pred=dt_regression_better.predict(X_holdout)\n",
    "error_new_params = sqrt(mean_squared_error(y_holdout,pred))\n",
    "print('RMSE value is:', error_new_params)"
   ]
  },
  {
   "cell_type": "markdown",
   "metadata": {},
   "source": [
    "## Linear Regression on clusters"
   ]
  },
  {
   "cell_type": "markdown",
   "metadata": {},
   "source": [
    "#### Test i train prvog klastera"
   ]
  },
  {
   "cell_type": "code",
   "execution_count": 68,
   "metadata": {
    "collapsed": true
   },
   "outputs": [],
   "source": [
    "y0_test=pd.DataFrame(y_holdout)\n",
    "y0_test['Cluster']=clusters_normalized_test\n",
    "y0_test=y0_test[y0_test['Cluster']==0]\n",
    "y0_test=y0_test.drop('Cluster',axis=1)"
   ]
  },
  {
   "cell_type": "code",
   "execution_count": 69,
   "metadata": {
    "collapsed": true
   },
   "outputs": [],
   "source": [
    "y0_train=pd.DataFrame(y_train)\n",
    "y0_train['Cluster']=clusters_normalized_train\n",
    "y0_train=y0_train[y0_train['Cluster']==0]\n",
    "y0_train=y0_train.drop('Cluster',axis=1)"
   ]
  },
  {
   "cell_type": "code",
   "execution_count": 70,
   "metadata": {},
   "outputs": [
    {
     "name": "stdout",
     "output_type": "stream",
     "text": [
      "RMSE value on train0 is: 430.14282764832984\n"
     ]
    }
   ],
   "source": [
    "#LR za train\n",
    "linear_regression = linear_model.LinearRegression() \n",
    "linear_regression.fit(X_train, y_train) \n",
    "y_pred = linear_regression.predict(cluster0_train.iloc[:, :-1])\n",
    "error_train0 = sqrt(mean_squared_error(y0_train,y_pred))\n",
    "print('RMSE value on train0 is:', error_train0)"
   ]
  },
  {
   "cell_type": "code",
   "execution_count": 71,
   "metadata": {},
   "outputs": [
    {
     "name": "stdout",
     "output_type": "stream",
     "text": [
      "RMSE value on test0 is: 532.4271978271931\n"
     ]
    }
   ],
   "source": [
    "#LR za test\n",
    "y_pred = linear_regression.predict(cluster0_test.iloc[:, :-1])\n",
    "error_test0 = sqrt(mean_squared_error(y0_test,y_pred))\n",
    "print('RMSE value on test0 is:', error_test0)"
   ]
  },
  {
   "cell_type": "markdown",
   "metadata": {},
   "source": [
    "#### Test i train drugog klastera"
   ]
  },
  {
   "cell_type": "code",
   "execution_count": 72,
   "metadata": {
    "collapsed": true
   },
   "outputs": [],
   "source": [
    "y1_test=pd.DataFrame(y_holdout)\n",
    "y1_test['Cluster']=clusters_normalized_test\n",
    "y1_test=y1_test[y1_test['Cluster']==1]\n",
    "y1_test=y1_test.drop('Cluster',axis=1)\n",
    "\n",
    "y1_train=pd.DataFrame(y_train)\n",
    "y1_train['Cluster']=clusters_normalized_train\n",
    "y1_train=y1_train[y1_train['Cluster']==1]\n",
    "y1_train=y1_train.drop('Cluster',axis=1)"
   ]
  },
  {
   "cell_type": "code",
   "execution_count": 73,
   "metadata": {
    "scrolled": true
   },
   "outputs": [
    {
     "name": "stdout",
     "output_type": "stream",
     "text": [
      "RMSE value on train1 is: 893.4123551899621\n",
      "RMSE value on test1 is: 911.6051817124694\n"
     ]
    }
   ],
   "source": [
    "#LR za train\n",
    "y_pred = linear_regression.predict(cluster1_train.iloc[:, :-1])\n",
    "error_train1 = sqrt(mean_squared_error(y1_train,y_pred))\n",
    "print('RMSE value on train1 is:', error_train1)\n",
    "\n",
    "#LR za test\n",
    "y_pred = linear_regression.predict(cluster1_test.iloc[:, :-1])\n",
    "error_test1 = sqrt(mean_squared_error(y1_test,y_pred))\n",
    "print('RMSE value on test1 is:', error_test1)"
   ]
  },
  {
   "cell_type": "markdown",
   "metadata": {},
   "source": [
    "#### Train i test treceg klastera"
   ]
  },
  {
   "cell_type": "code",
   "execution_count": 74,
   "metadata": {
    "collapsed": true
   },
   "outputs": [],
   "source": [
    "y2_test=pd.DataFrame(y_holdout)\n",
    "y2_test['Cluster']=clusters_normalized_test\n",
    "y2_test=y2_test[y2_test['Cluster']==2]\n",
    "y2_test=y2_test.drop('Cluster',axis=1)\n",
    "\n",
    "y2_train=pd.DataFrame(y_train)\n",
    "y2_train['Cluster']=clusters_normalized_train\n",
    "y2_train=y2_train[y2_train['Cluster']==2]\n",
    "y2_train=y2_train.drop('Cluster',axis=1)"
   ]
  },
  {
   "cell_type": "code",
   "execution_count": 75,
   "metadata": {
    "scrolled": true
   },
   "outputs": [
    {
     "name": "stdout",
     "output_type": "stream",
     "text": [
      "RMSE value on train2 is: 734.3094228137469\n",
      "RMSE value on test2 is: 706.6241470240416\n"
     ]
    }
   ],
   "source": [
    "#LR za train\n",
    "y_pred = linear_regression.predict(cluster2_train.iloc[:,:-1])\n",
    "error_train2 = sqrt(mean_squared_error(y2_train,y_pred))\n",
    "print('RMSE value on train2 is:', error_train2)\n",
    "\n",
    "#LR za test\n",
    "y_pred = linear_regression.predict(cluster2_test.iloc[:,:-1])\n",
    "error_test2 = sqrt(mean_squared_error(y2_test,y_pred))\n",
    "print('RMSE value on test2 is:', error_test2)"
   ]
  },
  {
   "cell_type": "markdown",
   "metadata": {},
   "source": [
    "#### Train i test cetvrtog klastera"
   ]
  },
  {
   "cell_type": "code",
   "execution_count": 76,
   "metadata": {
    "collapsed": true
   },
   "outputs": [],
   "source": [
    "y3_test=pd.DataFrame(y_holdout)\n",
    "y3_test['Cluster']=clusters_normalized_test\n",
    "y3_test=y3_test[y3_test['Cluster']==3]\n",
    "y3_test=y3_test.drop('Cluster',axis=1)\n",
    "\n",
    "y3_train=pd.DataFrame(y_train)\n",
    "y3_train['Cluster']=clusters_normalized_train\n",
    "y3_train=y3_train[y3_train['Cluster']==3]\n",
    "y3_train=y3_train.drop('Cluster',axis=1)"
   ]
  },
  {
   "cell_type": "code",
   "execution_count": 77,
   "metadata": {},
   "outputs": [
    {
     "name": "stdout",
     "output_type": "stream",
     "text": [
      "RMSE value on train3 is: 1006.4832231611188\n",
      "RMSE value on test3 is: 1188.2131549663045\n"
     ]
    }
   ],
   "source": [
    "#LR za train\n",
    "y_pred = linear_regression.predict(cluster3_train.iloc[:,:-1])\n",
    "error_train3 = sqrt(mean_squared_error(y3_train,y_pred))\n",
    "print('RMSE value on train3 is:', error_train3)\n",
    "\n",
    "#LR za test\n",
    "y_pred = linear_regression.predict(cluster3_test.iloc[:,:-1])\n",
    "error_test3 = sqrt(mean_squared_error(y3_test,y_pred))\n",
    "print('RMSE value on test3 is:', error_test3)"
   ]
  },
  {
   "cell_type": "code",
   "execution_count": 78,
   "metadata": {
    "collapsed": true
   },
   "outputs": [],
   "source": [
    "errors = pd.DataFrame({'dataset': ['error_on_train','error_on_test', 'error_new_params', 'error_train0', 'error_test0', 'error_train1', 'error_test1', 'error_train2', 'error_test2', 'error_train3', 'error_test3' ],\n",
    "                      'RMSE':[error_on_train, error_on_test, error_new_params,error_train0, error_test0, error_train1, error_test1, error_train2, error_test2, error_train3, error_test3]})"
   ]
  },
  {
   "cell_type": "code",
   "execution_count": 81,
   "metadata": {},
   "outputs": [
    {
     "data": {
      "text/html": [
       "<div>\n",
       "<style scoped>\n",
       "    .dataframe tbody tr th:only-of-type {\n",
       "        vertical-align: middle;\n",
       "    }\n",
       "\n",
       "    .dataframe tbody tr th {\n",
       "        vertical-align: top;\n",
       "    }\n",
       "\n",
       "    .dataframe thead th {\n",
       "        text-align: right;\n",
       "    }\n",
       "</style>\n",
       "<table border=\"1\" class=\"dataframe\">\n",
       "  <thead>\n",
       "    <tr style=\"text-align: right;\">\n",
       "      <th></th>\n",
       "      <th>dataset</th>\n",
       "      <th>RMSE</th>\n",
       "    </tr>\n",
       "  </thead>\n",
       "  <tbody>\n",
       "    <tr>\n",
       "      <th>0</th>\n",
       "      <td>error_on_train</td>\n",
       "      <td>0.000000</td>\n",
       "    </tr>\n",
       "    <tr>\n",
       "      <th>1</th>\n",
       "      <td>error_on_test</td>\n",
       "      <td>969.335235</td>\n",
       "    </tr>\n",
       "    <tr>\n",
       "      <th>2</th>\n",
       "      <td>error_new_params</td>\n",
       "      <td>1053.261726</td>\n",
       "    </tr>\n",
       "    <tr>\n",
       "      <th>3</th>\n",
       "      <td>error_train0</td>\n",
       "      <td>430.142828</td>\n",
       "    </tr>\n",
       "    <tr>\n",
       "      <th>4</th>\n",
       "      <td>error_test0</td>\n",
       "      <td>532.427198</td>\n",
       "    </tr>\n",
       "    <tr>\n",
       "      <th>5</th>\n",
       "      <td>error_train1</td>\n",
       "      <td>893.412355</td>\n",
       "    </tr>\n",
       "    <tr>\n",
       "      <th>6</th>\n",
       "      <td>error_test1</td>\n",
       "      <td>911.605182</td>\n",
       "    </tr>\n",
       "    <tr>\n",
       "      <th>7</th>\n",
       "      <td>error_train2</td>\n",
       "      <td>734.309423</td>\n",
       "    </tr>\n",
       "    <tr>\n",
       "      <th>8</th>\n",
       "      <td>error_test2</td>\n",
       "      <td>706.624147</td>\n",
       "    </tr>\n",
       "    <tr>\n",
       "      <th>9</th>\n",
       "      <td>error_train3</td>\n",
       "      <td>1006.483223</td>\n",
       "    </tr>\n",
       "    <tr>\n",
       "      <th>10</th>\n",
       "      <td>error_test3</td>\n",
       "      <td>1188.213155</td>\n",
       "    </tr>\n",
       "  </tbody>\n",
       "</table>\n",
       "</div>"
      ],
      "text/plain": [
       "             dataset         RMSE\n",
       "0     error_on_train     0.000000\n",
       "1      error_on_test   969.335235\n",
       "2   error_new_params  1053.261726\n",
       "3       error_train0   430.142828\n",
       "4        error_test0   532.427198\n",
       "5       error_train1   893.412355\n",
       "6        error_test1   911.605182\n",
       "7       error_train2   734.309423\n",
       "8        error_test2   706.624147\n",
       "9       error_train3  1006.483223\n",
       "10       error_test3  1188.213155"
      ]
     },
     "execution_count": 81,
     "metadata": {},
     "output_type": "execute_result"
    }
   ],
   "source": [
    "errors"
   ]
  },
  {
   "cell_type": "code",
   "execution_count": 82,
   "metadata": {
    "collapsed": true
   },
   "outputs": [],
   "source": [
    "#vidimo da je greska na trening setu 0, a na test setu 969, sto govori da je nas model overfitt-ovan\n",
    "\n",
    "#takodje, vidimo da se sa promenjenim parametrima greska povecava, sto znaci da model bolje radi sa default-nim parametrima\n",
    "\n",
    "#dalje vidimo da je greska najmanja kada se model pokrece nad prvim klasterom"
   ]
  },
  {
   "cell_type": "code",
   "execution_count": null,
   "metadata": {
    "collapsed": true
   },
   "outputs": [],
   "source": []
  }
 ],
 "metadata": {
  "kernelspec": {
   "display_name": "Python 3",
   "language": "python",
   "name": "python3"
  },
  "language_info": {
   "codemirror_mode": {
    "name": "ipython",
    "version": 3
   },
   "file_extension": ".py",
   "mimetype": "text/x-python",
   "name": "python",
   "nbconvert_exporter": "python",
   "pygments_lexer": "ipython3",
   "version": "3.6.3"
  }
 },
 "nbformat": 4,
 "nbformat_minor": 2
}
