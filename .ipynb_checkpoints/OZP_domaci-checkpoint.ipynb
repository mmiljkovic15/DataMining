{
 "cells": [
  {
   "cell_type": "code",
   "execution_count": 70,
   "metadata": {
    "collapsed": true
   },
   "outputs": [],
   "source": [
    "#ucitavanje biblioteka\n",
    "import pandas as pd\n",
    "import numpy as np\n",
    "from sklearn.preprocessing import MinMaxScaler\n",
    "from sklearn.cluster import KMeans\n",
    "from sklearn.model_selection import train_test_split\n",
    "from sklearn import decomposition\n",
    "import matplotlib.pyplot as plt\n",
    "%matplotlib inline\n",
    "import seaborn as sns\n",
    "sns.set(rc={'figure.figsize':(11.7,8.27)})\n",
    "from sklearn.metrics import silhouette_score\n",
    "from scipy import stats\n",
    "from sklearn.pipeline import Pipeline\n",
    "from sklearn.neighbors import KNeighborsClassifier\n",
    "from sklearn.model_selection import StratifiedKFold\n",
    "from sklearn.metrics import accuracy_score"
   ]
  },
  {
   "cell_type": "code",
   "execution_count": 39,
   "metadata": {
    "collapsed": true
   },
   "outputs": [],
   "source": [
    "#ucitavanje dataset-a\n",
    "df = pd.read_csv('Bike Sharing.csv')"
   ]
  },
  {
   "cell_type": "code",
   "execution_count": 40,
   "metadata": {
    "scrolled": true
   },
   "outputs": [
    {
     "data": {
      "text/html": [
       "<div>\n",
       "<style scoped>\n",
       "    .dataframe tbody tr th:only-of-type {\n",
       "        vertical-align: middle;\n",
       "    }\n",
       "\n",
       "    .dataframe tbody tr th {\n",
       "        vertical-align: top;\n",
       "    }\n",
       "\n",
       "    .dataframe thead th {\n",
       "        text-align: right;\n",
       "    }\n",
       "</style>\n",
       "<table border=\"1\" class=\"dataframe\">\n",
       "  <thead>\n",
       "    <tr style=\"text-align: right;\">\n",
       "      <th></th>\n",
       "      <th>instant</th>\n",
       "      <th>dteday</th>\n",
       "      <th>season</th>\n",
       "      <th>yr</th>\n",
       "      <th>mnth</th>\n",
       "      <th>holiday</th>\n",
       "      <th>weekday</th>\n",
       "      <th>workingday</th>\n",
       "      <th>weathersit</th>\n",
       "      <th>temp</th>\n",
       "      <th>atemp</th>\n",
       "      <th>hum</th>\n",
       "      <th>windspeed</th>\n",
       "      <th>casual</th>\n",
       "      <th>registered</th>\n",
       "      <th>cnt</th>\n",
       "    </tr>\n",
       "  </thead>\n",
       "  <tbody>\n",
       "    <tr>\n",
       "      <th>0</th>\n",
       "      <td>1</td>\n",
       "      <td>2011-01-01</td>\n",
       "      <td>1</td>\n",
       "      <td>0</td>\n",
       "      <td>1</td>\n",
       "      <td>0</td>\n",
       "      <td>6</td>\n",
       "      <td>0</td>\n",
       "      <td>2</td>\n",
       "      <td>0.344167</td>\n",
       "      <td>0.363625</td>\n",
       "      <td>0.805833</td>\n",
       "      <td>0.160446</td>\n",
       "      <td>331.0</td>\n",
       "      <td>654.0</td>\n",
       "      <td>985</td>\n",
       "    </tr>\n",
       "    <tr>\n",
       "      <th>1</th>\n",
       "      <td>2</td>\n",
       "      <td>2011-01-02</td>\n",
       "      <td>1</td>\n",
       "      <td>0</td>\n",
       "      <td>1</td>\n",
       "      <td>0</td>\n",
       "      <td>0</td>\n",
       "      <td>0</td>\n",
       "      <td>2</td>\n",
       "      <td>0.363478</td>\n",
       "      <td>0.353739</td>\n",
       "      <td>0.696087</td>\n",
       "      <td>0.248539</td>\n",
       "      <td>131.0</td>\n",
       "      <td>670.0</td>\n",
       "      <td>801</td>\n",
       "    </tr>\n",
       "    <tr>\n",
       "      <th>2</th>\n",
       "      <td>3</td>\n",
       "      <td>2011-01-03</td>\n",
       "      <td>1</td>\n",
       "      <td>0</td>\n",
       "      <td>1</td>\n",
       "      <td>0</td>\n",
       "      <td>1</td>\n",
       "      <td>1</td>\n",
       "      <td>1</td>\n",
       "      <td>0.196364</td>\n",
       "      <td>0.189405</td>\n",
       "      <td>0.437273</td>\n",
       "      <td>0.248309</td>\n",
       "      <td>120.0</td>\n",
       "      <td>1229.0</td>\n",
       "      <td>1349</td>\n",
       "    </tr>\n",
       "    <tr>\n",
       "      <th>3</th>\n",
       "      <td>4</td>\n",
       "      <td>2011-01-04</td>\n",
       "      <td>1</td>\n",
       "      <td>0</td>\n",
       "      <td>1</td>\n",
       "      <td>0</td>\n",
       "      <td>2</td>\n",
       "      <td>1</td>\n",
       "      <td>1</td>\n",
       "      <td>0.200000</td>\n",
       "      <td>0.212122</td>\n",
       "      <td>0.590435</td>\n",
       "      <td>NaN</td>\n",
       "      <td>108.0</td>\n",
       "      <td>1454.0</td>\n",
       "      <td>1562</td>\n",
       "    </tr>\n",
       "    <tr>\n",
       "      <th>4</th>\n",
       "      <td>5</td>\n",
       "      <td>2011-01-05</td>\n",
       "      <td>1</td>\n",
       "      <td>0</td>\n",
       "      <td>1</td>\n",
       "      <td>0</td>\n",
       "      <td>3</td>\n",
       "      <td>1</td>\n",
       "      <td>1</td>\n",
       "      <td>0.226957</td>\n",
       "      <td>0.229270</td>\n",
       "      <td>0.436957</td>\n",
       "      <td>0.186900</td>\n",
       "      <td>82.0</td>\n",
       "      <td>1518.0</td>\n",
       "      <td>1600</td>\n",
       "    </tr>\n",
       "  </tbody>\n",
       "</table>\n",
       "</div>"
      ],
      "text/plain": [
       "   instant      dteday  season  yr  mnth  holiday  weekday  workingday  \\\n",
       "0        1  2011-01-01       1   0     1        0        6           0   \n",
       "1        2  2011-01-02       1   0     1        0        0           0   \n",
       "2        3  2011-01-03       1   0     1        0        1           1   \n",
       "3        4  2011-01-04       1   0     1        0        2           1   \n",
       "4        5  2011-01-05       1   0     1        0        3           1   \n",
       "\n",
       "   weathersit      temp     atemp       hum  windspeed  casual  registered  \\\n",
       "0           2  0.344167  0.363625  0.805833   0.160446   331.0       654.0   \n",
       "1           2  0.363478  0.353739  0.696087   0.248539   131.0       670.0   \n",
       "2           1  0.196364  0.189405  0.437273   0.248309   120.0      1229.0   \n",
       "3           1  0.200000  0.212122  0.590435        NaN   108.0      1454.0   \n",
       "4           1  0.226957  0.229270  0.436957   0.186900    82.0      1518.0   \n",
       "\n",
       "    cnt  \n",
       "0   985  \n",
       "1   801  \n",
       "2  1349  \n",
       "3  1562  \n",
       "4  1600  "
      ]
     },
     "execution_count": 40,
     "metadata": {},
     "output_type": "execute_result"
    }
   ],
   "source": [
    "df.head()"
   ]
  },
  {
   "cell_type": "code",
   "execution_count": 41,
   "metadata": {},
   "outputs": [
    {
     "data": {
      "text/plain": [
       "instant         int64\n",
       "dteday         object\n",
       "season          int64\n",
       "yr              int64\n",
       "mnth            int64\n",
       "holiday         int64\n",
       "weekday         int64\n",
       "workingday      int64\n",
       "weathersit      int64\n",
       "temp          float64\n",
       "atemp         float64\n",
       "hum           float64\n",
       "windspeed     float64\n",
       "casual        float64\n",
       "registered    float64\n",
       "cnt             int64\n",
       "dtype: object"
      ]
     },
     "execution_count": 41,
     "metadata": {},
     "output_type": "execute_result"
    }
   ],
   "source": [
    "#tipovi podataka\n",
    "df.dtypes"
   ]
  },
  {
   "cell_type": "code",
   "execution_count": 42,
   "metadata": {},
   "outputs": [
    {
     "data": {
      "text/html": [
       "<div>\n",
       "<style scoped>\n",
       "    .dataframe tbody tr th:only-of-type {\n",
       "        vertical-align: middle;\n",
       "    }\n",
       "\n",
       "    .dataframe tbody tr th {\n",
       "        vertical-align: top;\n",
       "    }\n",
       "\n",
       "    .dataframe thead th {\n",
       "        text-align: right;\n",
       "    }\n",
       "</style>\n",
       "<table border=\"1\" class=\"dataframe\">\n",
       "  <thead>\n",
       "    <tr style=\"text-align: right;\">\n",
       "      <th></th>\n",
       "      <th>instant</th>\n",
       "      <th>season</th>\n",
       "      <th>yr</th>\n",
       "      <th>mnth</th>\n",
       "      <th>holiday</th>\n",
       "      <th>weekday</th>\n",
       "      <th>workingday</th>\n",
       "      <th>weathersit</th>\n",
       "      <th>temp</th>\n",
       "      <th>atemp</th>\n",
       "      <th>hum</th>\n",
       "      <th>windspeed</th>\n",
       "      <th>casual</th>\n",
       "      <th>registered</th>\n",
       "      <th>cnt</th>\n",
       "    </tr>\n",
       "  </thead>\n",
       "  <tbody>\n",
       "    <tr>\n",
       "      <th>count</th>\n",
       "      <td>731.000000</td>\n",
       "      <td>731.000000</td>\n",
       "      <td>731.000000</td>\n",
       "      <td>731.000000</td>\n",
       "      <td>731.000000</td>\n",
       "      <td>731.000000</td>\n",
       "      <td>731.000000</td>\n",
       "      <td>731.000000</td>\n",
       "      <td>729.000000</td>\n",
       "      <td>728.000000</td>\n",
       "      <td>730.000000</td>\n",
       "      <td>728.000000</td>\n",
       "      <td>729.000000</td>\n",
       "      <td>730.000000</td>\n",
       "      <td>731.000000</td>\n",
       "    </tr>\n",
       "    <tr>\n",
       "      <th>mean</th>\n",
       "      <td>366.000000</td>\n",
       "      <td>2.496580</td>\n",
       "      <td>0.500684</td>\n",
       "      <td>6.519836</td>\n",
       "      <td>0.028728</td>\n",
       "      <td>2.997264</td>\n",
       "      <td>0.683995</td>\n",
       "      <td>1.395349</td>\n",
       "      <td>0.494953</td>\n",
       "      <td>0.474203</td>\n",
       "      <td>0.627809</td>\n",
       "      <td>0.190449</td>\n",
       "      <td>848.791495</td>\n",
       "      <td>3654.549315</td>\n",
       "      <td>4504.348837</td>\n",
       "    </tr>\n",
       "    <tr>\n",
       "      <th>std</th>\n",
       "      <td>211.165812</td>\n",
       "      <td>1.110807</td>\n",
       "      <td>0.500342</td>\n",
       "      <td>3.451913</td>\n",
       "      <td>0.167155</td>\n",
       "      <td>2.004787</td>\n",
       "      <td>0.465233</td>\n",
       "      <td>0.544894</td>\n",
       "      <td>0.182968</td>\n",
       "      <td>0.162960</td>\n",
       "      <td>0.142508</td>\n",
       "      <td>0.077456</td>\n",
       "      <td>687.415068</td>\n",
       "      <td>1560.708499</td>\n",
       "      <td>1937.211452</td>\n",
       "    </tr>\n",
       "    <tr>\n",
       "      <th>min</th>\n",
       "      <td>1.000000</td>\n",
       "      <td>1.000000</td>\n",
       "      <td>0.000000</td>\n",
       "      <td>1.000000</td>\n",
       "      <td>0.000000</td>\n",
       "      <td>0.000000</td>\n",
       "      <td>0.000000</td>\n",
       "      <td>1.000000</td>\n",
       "      <td>0.059130</td>\n",
       "      <td>0.079070</td>\n",
       "      <td>0.000000</td>\n",
       "      <td>0.022392</td>\n",
       "      <td>2.000000</td>\n",
       "      <td>20.000000</td>\n",
       "      <td>22.000000</td>\n",
       "    </tr>\n",
       "    <tr>\n",
       "      <th>25%</th>\n",
       "      <td>183.500000</td>\n",
       "      <td>2.000000</td>\n",
       "      <td>0.000000</td>\n",
       "      <td>4.000000</td>\n",
       "      <td>0.000000</td>\n",
       "      <td>1.000000</td>\n",
       "      <td>0.000000</td>\n",
       "      <td>1.000000</td>\n",
       "      <td>0.336667</td>\n",
       "      <td>0.337891</td>\n",
       "      <td>0.520000</td>\n",
       "      <td>0.134950</td>\n",
       "      <td>315.000000</td>\n",
       "      <td>2495.000000</td>\n",
       "      <td>3152.000000</td>\n",
       "    </tr>\n",
       "    <tr>\n",
       "      <th>50%</th>\n",
       "      <td>366.000000</td>\n",
       "      <td>3.000000</td>\n",
       "      <td>1.000000</td>\n",
       "      <td>7.000000</td>\n",
       "      <td>0.000000</td>\n",
       "      <td>3.000000</td>\n",
       "      <td>1.000000</td>\n",
       "      <td>1.000000</td>\n",
       "      <td>0.498333</td>\n",
       "      <td>0.485158</td>\n",
       "      <td>0.626250</td>\n",
       "      <td>0.180975</td>\n",
       "      <td>713.000000</td>\n",
       "      <td>3660.000000</td>\n",
       "      <td>4548.000000</td>\n",
       "    </tr>\n",
       "    <tr>\n",
       "      <th>75%</th>\n",
       "      <td>548.500000</td>\n",
       "      <td>3.000000</td>\n",
       "      <td>1.000000</td>\n",
       "      <td>10.000000</td>\n",
       "      <td>0.000000</td>\n",
       "      <td>5.000000</td>\n",
       "      <td>1.000000</td>\n",
       "      <td>2.000000</td>\n",
       "      <td>0.655000</td>\n",
       "      <td>0.608289</td>\n",
       "      <td>0.730313</td>\n",
       "      <td>0.233211</td>\n",
       "      <td>1097.000000</td>\n",
       "      <td>4759.750000</td>\n",
       "      <td>5956.000000</td>\n",
       "    </tr>\n",
       "    <tr>\n",
       "      <th>max</th>\n",
       "      <td>731.000000</td>\n",
       "      <td>4.000000</td>\n",
       "      <td>1.000000</td>\n",
       "      <td>12.000000</td>\n",
       "      <td>1.000000</td>\n",
       "      <td>6.000000</td>\n",
       "      <td>1.000000</td>\n",
       "      <td>3.000000</td>\n",
       "      <td>0.861667</td>\n",
       "      <td>0.840896</td>\n",
       "      <td>0.972500</td>\n",
       "      <td>0.507463</td>\n",
       "      <td>3410.000000</td>\n",
       "      <td>6946.000000</td>\n",
       "      <td>8714.000000</td>\n",
       "    </tr>\n",
       "  </tbody>\n",
       "</table>\n",
       "</div>"
      ],
      "text/plain": [
       "          instant      season          yr        mnth     holiday     weekday  \\\n",
       "count  731.000000  731.000000  731.000000  731.000000  731.000000  731.000000   \n",
       "mean   366.000000    2.496580    0.500684    6.519836    0.028728    2.997264   \n",
       "std    211.165812    1.110807    0.500342    3.451913    0.167155    2.004787   \n",
       "min      1.000000    1.000000    0.000000    1.000000    0.000000    0.000000   \n",
       "25%    183.500000    2.000000    0.000000    4.000000    0.000000    1.000000   \n",
       "50%    366.000000    3.000000    1.000000    7.000000    0.000000    3.000000   \n",
       "75%    548.500000    3.000000    1.000000   10.000000    0.000000    5.000000   \n",
       "max    731.000000    4.000000    1.000000   12.000000    1.000000    6.000000   \n",
       "\n",
       "       workingday  weathersit        temp       atemp         hum   windspeed  \\\n",
       "count  731.000000  731.000000  729.000000  728.000000  730.000000  728.000000   \n",
       "mean     0.683995    1.395349    0.494953    0.474203    0.627809    0.190449   \n",
       "std      0.465233    0.544894    0.182968    0.162960    0.142508    0.077456   \n",
       "min      0.000000    1.000000    0.059130    0.079070    0.000000    0.022392   \n",
       "25%      0.000000    1.000000    0.336667    0.337891    0.520000    0.134950   \n",
       "50%      1.000000    1.000000    0.498333    0.485158    0.626250    0.180975   \n",
       "75%      1.000000    2.000000    0.655000    0.608289    0.730313    0.233211   \n",
       "max      1.000000    3.000000    0.861667    0.840896    0.972500    0.507463   \n",
       "\n",
       "            casual   registered          cnt  \n",
       "count   729.000000   730.000000   731.000000  \n",
       "mean    848.791495  3654.549315  4504.348837  \n",
       "std     687.415068  1560.708499  1937.211452  \n",
       "min       2.000000    20.000000    22.000000  \n",
       "25%     315.000000  2495.000000  3152.000000  \n",
       "50%     713.000000  3660.000000  4548.000000  \n",
       "75%    1097.000000  4759.750000  5956.000000  \n",
       "max    3410.000000  6946.000000  8714.000000  "
      ]
     },
     "execution_count": 42,
     "metadata": {},
     "output_type": "execute_result"
    }
   ],
   "source": [
    "#deskriptivna statistika\n",
    "df.describe()"
   ]
  },
  {
   "cell_type": "code",
   "execution_count": 43,
   "metadata": {
    "scrolled": true
   },
   "outputs": [
    {
     "data": {
      "text/plain": [
       "instant       0\n",
       "dteday        0\n",
       "season        0\n",
       "yr            0\n",
       "mnth          0\n",
       "holiday       0\n",
       "weekday       0\n",
       "workingday    0\n",
       "weathersit    0\n",
       "temp          2\n",
       "atemp         3\n",
       "hum           1\n",
       "windspeed     3\n",
       "casual        2\n",
       "registered    1\n",
       "cnt           0\n",
       "dtype: int64"
      ]
     },
     "execution_count": 43,
     "metadata": {},
     "output_type": "execute_result"
    }
   ],
   "source": [
    "#provera null vrednosti\n",
    "df.isnull().sum()"
   ]
  },
  {
   "cell_type": "code",
   "execution_count": 44,
   "metadata": {},
   "outputs": [
    {
     "data": {
      "text/plain": [
       "(731, 16)"
      ]
     },
     "execution_count": 44,
     "metadata": {},
     "output_type": "execute_result"
    }
   ],
   "source": [
    "#broj redova i kolona\n",
    "df.shape"
   ]
  },
  {
   "cell_type": "code",
   "execution_count": 45,
   "metadata": {
    "collapsed": true
   },
   "outputs": [],
   "source": [
    "#izbacivanje redova u kojima bar jedna kolona ima null vrednost\n",
    "df = df.dropna(how='any')"
   ]
  },
  {
   "cell_type": "code",
   "execution_count": 46,
   "metadata": {},
   "outputs": [
    {
     "data": {
      "text/plain": [
       "(719, 16)"
      ]
     },
     "execution_count": 46,
     "metadata": {},
     "output_type": "execute_result"
    }
   ],
   "source": [
    "#broj redova i kolona nakon izbacivanja null vrednosti\n",
    "df.shape"
   ]
  },
  {
   "cell_type": "code",
   "execution_count": 47,
   "metadata": {},
   "outputs": [
    {
     "data": {
      "text/plain": [
       "Index(['instant', 'dteday', 'season', 'yr', 'mnth', 'holiday', 'weekday',\n",
       "       'workingday', 'weathersit', 'temp', 'atemp', 'hum', 'windspeed',\n",
       "       'casual', 'registered', 'cnt'],\n",
       "      dtype='object')"
      ]
     },
     "execution_count": 47,
     "metadata": {},
     "output_type": "execute_result"
    }
   ],
   "source": [
    "#nazivi kolona\n",
    "df.columns"
   ]
  },
  {
   "cell_type": "code",
   "execution_count": 48,
   "metadata": {
    "collapsed": true
   },
   "outputs": [],
   "source": [
    "#uzimanje u obzir samo numerickih podataka (izbacivanje datuma)\n",
    "df_numeric = df.select_dtypes(include = ['int64', 'float64'])"
   ]
  },
  {
   "cell_type": "code",
   "execution_count": 49,
   "metadata": {
    "collapsed": true
   },
   "outputs": [],
   "source": [
    "#izbacivanje kolone koja je id\n",
    "df_numeric = df_numeric.drop(df.columns[0], axis=1)"
   ]
  },
  {
   "cell_type": "code",
   "execution_count": 50,
   "metadata": {
    "collapsed": true
   },
   "outputs": [],
   "source": [
    "#normalizacija podataka\n",
    "scaler = MinMaxScaler()\n",
    "scaler.fit(df_numeric)\n",
    "df_normalized = scaler.transform(df_numeric)"
   ]
  },
  {
   "cell_type": "code",
   "execution_count": 51,
   "metadata": {
    "collapsed": true
   },
   "outputs": [],
   "source": [
    "#kastovanje dobijenih normalizovanih podataka u dataframe\n",
    "df_normalized = pd.DataFrame(df_normalized)\n",
    "df_normalized.columns = ['season', 'yr', 'mnth', 'holiday', 'weekday', 'workingday',\n",
    "       'weathersit', 'temp', 'atemp', 'hum', 'windspeed', 'casual',\n",
    "       'registered', 'cnt']"
   ]
  },
  {
   "cell_type": "code",
   "execution_count": 52,
   "metadata": {
    "scrolled": true
   },
   "outputs": [
    {
     "data": {
      "text/html": [
       "<div>\n",
       "<style scoped>\n",
       "    .dataframe tbody tr th:only-of-type {\n",
       "        vertical-align: middle;\n",
       "    }\n",
       "\n",
       "    .dataframe tbody tr th {\n",
       "        vertical-align: top;\n",
       "    }\n",
       "\n",
       "    .dataframe thead th {\n",
       "        text-align: right;\n",
       "    }\n",
       "</style>\n",
       "<table border=\"1\" class=\"dataframe\">\n",
       "  <thead>\n",
       "    <tr style=\"text-align: right;\">\n",
       "      <th></th>\n",
       "      <th>season</th>\n",
       "      <th>yr</th>\n",
       "      <th>mnth</th>\n",
       "      <th>holiday</th>\n",
       "      <th>weekday</th>\n",
       "      <th>workingday</th>\n",
       "      <th>weathersit</th>\n",
       "      <th>temp</th>\n",
       "      <th>atemp</th>\n",
       "      <th>hum</th>\n",
       "      <th>windspeed</th>\n",
       "      <th>casual</th>\n",
       "      <th>registered</th>\n",
       "      <th>cnt</th>\n",
       "    </tr>\n",
       "  </thead>\n",
       "  <tbody>\n",
       "    <tr>\n",
       "      <th>0</th>\n",
       "      <td>0.0</td>\n",
       "      <td>0.0</td>\n",
       "      <td>0.0</td>\n",
       "      <td>0.0</td>\n",
       "      <td>1.000000</td>\n",
       "      <td>0.0</td>\n",
       "      <td>0.5</td>\n",
       "      <td>0.355170</td>\n",
       "      <td>0.373517</td>\n",
       "      <td>0.828620</td>\n",
       "      <td>0.284606</td>\n",
       "      <td>0.096538</td>\n",
       "      <td>0.091539</td>\n",
       "      <td>0.110792</td>\n",
       "    </tr>\n",
       "    <tr>\n",
       "      <th>1</th>\n",
       "      <td>0.0</td>\n",
       "      <td>0.0</td>\n",
       "      <td>0.0</td>\n",
       "      <td>0.0</td>\n",
       "      <td>0.000000</td>\n",
       "      <td>0.0</td>\n",
       "      <td>0.5</td>\n",
       "      <td>0.379232</td>\n",
       "      <td>0.360541</td>\n",
       "      <td>0.715771</td>\n",
       "      <td>0.466215</td>\n",
       "      <td>0.037852</td>\n",
       "      <td>0.093849</td>\n",
       "      <td>0.089623</td>\n",
       "    </tr>\n",
       "    <tr>\n",
       "      <th>2</th>\n",
       "      <td>0.0</td>\n",
       "      <td>0.0</td>\n",
       "      <td>0.0</td>\n",
       "      <td>0.0</td>\n",
       "      <td>0.166667</td>\n",
       "      <td>1.0</td>\n",
       "      <td>0.0</td>\n",
       "      <td>0.171000</td>\n",
       "      <td>0.144830</td>\n",
       "      <td>0.449638</td>\n",
       "      <td>0.465740</td>\n",
       "      <td>0.034624</td>\n",
       "      <td>0.174560</td>\n",
       "      <td>0.152669</td>\n",
       "    </tr>\n",
       "    <tr>\n",
       "      <th>3</th>\n",
       "      <td>0.0</td>\n",
       "      <td>0.0</td>\n",
       "      <td>0.0</td>\n",
       "      <td>0.0</td>\n",
       "      <td>0.500000</td>\n",
       "      <td>1.0</td>\n",
       "      <td>0.0</td>\n",
       "      <td>0.209120</td>\n",
       "      <td>0.197158</td>\n",
       "      <td>0.449313</td>\n",
       "      <td>0.339143</td>\n",
       "      <td>0.023474</td>\n",
       "      <td>0.216286</td>\n",
       "      <td>0.181546</td>\n",
       "    </tr>\n",
       "    <tr>\n",
       "      <th>4</th>\n",
       "      <td>0.0</td>\n",
       "      <td>0.0</td>\n",
       "      <td>0.0</td>\n",
       "      <td>0.0</td>\n",
       "      <td>0.666667</td>\n",
       "      <td>1.0</td>\n",
       "      <td>0.0</td>\n",
       "      <td>0.180948</td>\n",
       "      <td>0.202329</td>\n",
       "      <td>0.532916</td>\n",
       "      <td>0.138482</td>\n",
       "      <td>0.025235</td>\n",
       "      <td>0.216286</td>\n",
       "      <td>0.182237</td>\n",
       "    </tr>\n",
       "  </tbody>\n",
       "</table>\n",
       "</div>"
      ],
      "text/plain": [
       "   season   yr  mnth  holiday   weekday  workingday  weathersit      temp  \\\n",
       "0     0.0  0.0   0.0      0.0  1.000000         0.0         0.5  0.355170   \n",
       "1     0.0  0.0   0.0      0.0  0.000000         0.0         0.5  0.379232   \n",
       "2     0.0  0.0   0.0      0.0  0.166667         1.0         0.0  0.171000   \n",
       "3     0.0  0.0   0.0      0.0  0.500000         1.0         0.0  0.209120   \n",
       "4     0.0  0.0   0.0      0.0  0.666667         1.0         0.0  0.180948   \n",
       "\n",
       "      atemp       hum  windspeed    casual  registered       cnt  \n",
       "0  0.373517  0.828620   0.284606  0.096538    0.091539  0.110792  \n",
       "1  0.360541  0.715771   0.466215  0.037852    0.093849  0.089623  \n",
       "2  0.144830  0.449638   0.465740  0.034624    0.174560  0.152669  \n",
       "3  0.197158  0.449313   0.339143  0.023474    0.216286  0.181546  \n",
       "4  0.202329  0.532916   0.138482  0.025235    0.216286  0.182237  "
      ]
     },
     "execution_count": 52,
     "metadata": {},
     "output_type": "execute_result"
    }
   ],
   "source": [
    "#normalizovani dataframe\n",
    "df_normalized.head()"
   ]
  },
  {
   "cell_type": "code",
   "execution_count": 53,
   "metadata": {
    "scrolled": false
   },
   "outputs": [
    {
     "data": {
      "text/html": [
       "<div>\n",
       "<style scoped>\n",
       "    .dataframe tbody tr th:only-of-type {\n",
       "        vertical-align: middle;\n",
       "    }\n",
       "\n",
       "    .dataframe tbody tr th {\n",
       "        vertical-align: top;\n",
       "    }\n",
       "\n",
       "    .dataframe thead th {\n",
       "        text-align: right;\n",
       "    }\n",
       "</style>\n",
       "<table border=\"1\" class=\"dataframe\">\n",
       "  <thead>\n",
       "    <tr style=\"text-align: right;\">\n",
       "      <th></th>\n",
       "      <th>season</th>\n",
       "      <th>yr</th>\n",
       "      <th>mnth</th>\n",
       "      <th>holiday</th>\n",
       "      <th>weekday</th>\n",
       "      <th>workingday</th>\n",
       "      <th>weathersit</th>\n",
       "      <th>temp</th>\n",
       "      <th>atemp</th>\n",
       "      <th>hum</th>\n",
       "      <th>windspeed</th>\n",
       "      <th>casual</th>\n",
       "      <th>registered</th>\n",
       "      <th>cnt</th>\n",
       "    </tr>\n",
       "  </thead>\n",
       "  <tbody>\n",
       "    <tr>\n",
       "      <th>count</th>\n",
       "      <td>719.000000</td>\n",
       "      <td>719.000000</td>\n",
       "      <td>719.000000</td>\n",
       "      <td>719.000000</td>\n",
       "      <td>719.000000</td>\n",
       "      <td>719.000000</td>\n",
       "      <td>719.000000</td>\n",
       "      <td>719.000000</td>\n",
       "      <td>719.000000</td>\n",
       "      <td>719.000000</td>\n",
       "      <td>719.000000</td>\n",
       "      <td>719.000000</td>\n",
       "      <td>719.000000</td>\n",
       "      <td>719.000000</td>\n",
       "    </tr>\n",
       "    <tr>\n",
       "      <th>mean</th>\n",
       "      <td>0.498841</td>\n",
       "      <td>0.500695</td>\n",
       "      <td>0.502086</td>\n",
       "      <td>0.029207</td>\n",
       "      <td>0.499073</td>\n",
       "      <td>0.682893</td>\n",
       "      <td>0.195410</td>\n",
       "      <td>0.543935</td>\n",
       "      <td>0.519079</td>\n",
       "      <td>0.644195</td>\n",
       "      <td>0.346362</td>\n",
       "      <td>0.248585</td>\n",
       "      <td>0.525740</td>\n",
       "      <td>0.516389</td>\n",
       "    </tr>\n",
       "    <tr>\n",
       "      <th>std</th>\n",
       "      <td>0.370229</td>\n",
       "      <td>0.500348</td>\n",
       "      <td>0.313515</td>\n",
       "      <td>0.168504</td>\n",
       "      <td>0.334259</td>\n",
       "      <td>0.465673</td>\n",
       "      <td>0.271165</td>\n",
       "      <td>0.228397</td>\n",
       "      <td>0.214190</td>\n",
       "      <td>0.145946</td>\n",
       "      <td>0.160441</td>\n",
       "      <td>0.201115</td>\n",
       "      <td>0.225935</td>\n",
       "      <td>0.223257</td>\n",
       "    </tr>\n",
       "    <tr>\n",
       "      <th>min</th>\n",
       "      <td>0.000000</td>\n",
       "      <td>0.000000</td>\n",
       "      <td>0.000000</td>\n",
       "      <td>0.000000</td>\n",
       "      <td>0.000000</td>\n",
       "      <td>0.000000</td>\n",
       "      <td>0.000000</td>\n",
       "      <td>0.000000</td>\n",
       "      <td>0.000000</td>\n",
       "      <td>0.000000</td>\n",
       "      <td>0.000000</td>\n",
       "      <td>0.000000</td>\n",
       "      <td>0.000000</td>\n",
       "      <td>0.000000</td>\n",
       "    </tr>\n",
       "    <tr>\n",
       "      <th>25%</th>\n",
       "      <td>0.333333</td>\n",
       "      <td>0.000000</td>\n",
       "      <td>0.272727</td>\n",
       "      <td>0.000000</td>\n",
       "      <td>0.166667</td>\n",
       "      <td>0.000000</td>\n",
       "      <td>0.000000</td>\n",
       "      <td>0.346343</td>\n",
       "      <td>0.339674</td>\n",
       "      <td>0.533848</td>\n",
       "      <td>0.230786</td>\n",
       "      <td>0.091989</td>\n",
       "      <td>0.357638</td>\n",
       "      <td>0.360101</td>\n",
       "    </tr>\n",
       "    <tr>\n",
       "      <th>50%</th>\n",
       "      <td>0.666667</td>\n",
       "      <td>1.000000</td>\n",
       "      <td>0.545455</td>\n",
       "      <td>0.000000</td>\n",
       "      <td>0.500000</td>\n",
       "      <td>1.000000</td>\n",
       "      <td>0.000000</td>\n",
       "      <td>0.549345</td>\n",
       "      <td>0.536771</td>\n",
       "      <td>0.643102</td>\n",
       "      <td>0.326928</td>\n",
       "      <td>0.211561</td>\n",
       "      <td>0.526567</td>\n",
       "      <td>0.521284</td>\n",
       "    </tr>\n",
       "    <tr>\n",
       "      <th>75%</th>\n",
       "      <td>0.666667</td>\n",
       "      <td>1.000000</td>\n",
       "      <td>0.818182</td>\n",
       "      <td>0.000000</td>\n",
       "      <td>0.833333</td>\n",
       "      <td>1.000000</td>\n",
       "      <td>0.500000</td>\n",
       "      <td>0.743521</td>\n",
       "      <td>0.696732</td>\n",
       "      <td>0.750214</td>\n",
       "      <td>0.434622</td>\n",
       "      <td>0.321743</td>\n",
       "      <td>0.689503</td>\n",
       "      <td>0.685573</td>\n",
       "    </tr>\n",
       "    <tr>\n",
       "      <th>max</th>\n",
       "      <td>1.000000</td>\n",
       "      <td>1.000000</td>\n",
       "      <td>1.000000</td>\n",
       "      <td>1.000000</td>\n",
       "      <td>1.000000</td>\n",
       "      <td>1.000000</td>\n",
       "      <td>1.000000</td>\n",
       "      <td>1.000000</td>\n",
       "      <td>1.000000</td>\n",
       "      <td>1.000000</td>\n",
       "      <td>1.000000</td>\n",
       "      <td>1.000000</td>\n",
       "      <td>1.000000</td>\n",
       "      <td>1.000000</td>\n",
       "    </tr>\n",
       "  </tbody>\n",
       "</table>\n",
       "</div>"
      ],
      "text/plain": [
       "           season          yr        mnth     holiday     weekday  workingday  \\\n",
       "count  719.000000  719.000000  719.000000  719.000000  719.000000  719.000000   \n",
       "mean     0.498841    0.500695    0.502086    0.029207    0.499073    0.682893   \n",
       "std      0.370229    0.500348    0.313515    0.168504    0.334259    0.465673   \n",
       "min      0.000000    0.000000    0.000000    0.000000    0.000000    0.000000   \n",
       "25%      0.333333    0.000000    0.272727    0.000000    0.166667    0.000000   \n",
       "50%      0.666667    1.000000    0.545455    0.000000    0.500000    1.000000   \n",
       "75%      0.666667    1.000000    0.818182    0.000000    0.833333    1.000000   \n",
       "max      1.000000    1.000000    1.000000    1.000000    1.000000    1.000000   \n",
       "\n",
       "       weathersit        temp       atemp         hum   windspeed      casual  \\\n",
       "count  719.000000  719.000000  719.000000  719.000000  719.000000  719.000000   \n",
       "mean     0.195410    0.543935    0.519079    0.644195    0.346362    0.248585   \n",
       "std      0.271165    0.228397    0.214190    0.145946    0.160441    0.201115   \n",
       "min      0.000000    0.000000    0.000000    0.000000    0.000000    0.000000   \n",
       "25%      0.000000    0.346343    0.339674    0.533848    0.230786    0.091989   \n",
       "50%      0.000000    0.549345    0.536771    0.643102    0.326928    0.211561   \n",
       "75%      0.500000    0.743521    0.696732    0.750214    0.434622    0.321743   \n",
       "max      1.000000    1.000000    1.000000    1.000000    1.000000    1.000000   \n",
       "\n",
       "       registered         cnt  \n",
       "count  719.000000  719.000000  \n",
       "mean     0.525740    0.516389  \n",
       "std      0.225935    0.223257  \n",
       "min      0.000000    0.000000  \n",
       "25%      0.357638    0.360101  \n",
       "50%      0.526567    0.521284  \n",
       "75%      0.689503    0.685573  \n",
       "max      1.000000    1.000000  "
      ]
     },
     "execution_count": 53,
     "metadata": {},
     "output_type": "execute_result"
    }
   ],
   "source": [
    "#deskriptivna statistika normalizovanih podataka\n",
    "df_normalized.describe()"
   ]
  },
  {
   "cell_type": "code",
   "execution_count": 54,
   "metadata": {},
   "outputs": [
    {
     "data": {
      "text/plain": [
       "(719, 14)"
      ]
     },
     "execution_count": 54,
     "metadata": {},
     "output_type": "execute_result"
    }
   ],
   "source": [
    "df_normalized.shape"
   ]
  },
  {
   "cell_type": "code",
   "execution_count": 55,
   "metadata": {
    "collapsed": true
   },
   "outputs": [],
   "source": [
    "#izbacivanje outlier-a\n",
    "z = np.abs(stats.zscore(df_normalized))\n",
    "\n",
    "threshold = 3\n",
    "df_normalized = df_normalized[(z < threshold).all(axis=1)]"
   ]
  },
  {
   "cell_type": "code",
   "execution_count": 56,
   "metadata": {},
   "outputs": [
    {
     "data": {
      "text/plain": [
       "(688, 14)"
      ]
     },
     "execution_count": 56,
     "metadata": {},
     "output_type": "execute_result"
    }
   ],
   "source": [
    "df_normalized.shape"
   ]
  },
  {
   "cell_type": "code",
   "execution_count": 57,
   "metadata": {
    "collapsed": true
   },
   "outputs": [],
   "source": [
    "#podela dataset-a na train i test\n",
    "train, test = train_test_split(df_normalized, test_size=0.3)"
   ]
  },
  {
   "cell_type": "code",
   "execution_count": 58,
   "metadata": {},
   "outputs": [
    {
     "data": {
      "text/plain": [
       "PCA(copy=True, iterated_power='auto', n_components=None, random_state=None,\n",
       "  svd_solver='auto', tol=0.0, whiten=False)"
      ]
     },
     "execution_count": 58,
     "metadata": {},
     "output_type": "execute_result"
    }
   ],
   "source": [
    "#analiza glavnih komponenti\n",
    "pca = decomposition.PCA()\n",
    "pca.fit(train)"
   ]
  },
  {
   "cell_type": "code",
   "execution_count": 59,
   "metadata": {
    "collapsed": true,
    "scrolled": true
   },
   "outputs": [],
   "source": [
    "explained_var = pca.explained_variance_ratio_\n",
    "cum_var = np.cumsum(explained_var)"
   ]
  },
  {
   "cell_type": "code",
   "execution_count": 60,
   "metadata": {},
   "outputs": [
    {
     "data": {
      "image/png": "[encoded data removed]",
      "text/plain": [
       "<Figure size 842.4x595.44 with 1 Axes>"
      ]
     },
     "metadata": {},
     "output_type": "display_data"
    }
   ],
   "source": [
    "#kumulativna varijansa koju objasnjavaju komponente (od 0 do 1)\n",
    "plt.plot(cum_var)\n",
    "plt.show()"
   ]
  },
  {
   "cell_type": "code",
   "execution_count": 61,
   "metadata": {
    "scrolled": true
   },
   "outputs": [
    {
     "data": {
      "image/png": "[encoded data removed]",
      "text/plain": [
       "<Figure size 842.4x595.44 with 1 Axes>"
      ]
     },
     "metadata": {},
     "output_type": "display_data"
    }
   ],
   "source": [
    "#koliko koja komponenta objasnjava varijansu\n",
    "plt.plot(pca.explained_variance_, scalex=True)\n",
    "sns.despine(offset=10, trim=True)"
   ]
  },
  {
   "cell_type": "code",
   "execution_count": 62,
   "metadata": {
    "scrolled": true
   },
   "outputs": [
    {
     "data": {
      "text/plain": [
       "array([[-2.48581330e-01, -7.65247956e-01, -1.71074752e-01,\n",
       "         2.22044605e-16, -8.79441166e-03, -1.00454887e-01,\n",
       "         6.82601917e-02, -1.65756386e-01, -1.56874097e-01,\n",
       "         2.28440169e-02,  3.38196520e-02, -1.45964683e-01,\n",
       "        -3.48358671e-01, -3.34811298e-01],\n",
       "       [-6.30815638e-01,  4.89331659e-01, -4.96539627e-01,\n",
       "         5.55111512e-17,  8.53777409e-03, -4.22609698e-02,\n",
       "        -7.46086783e-03, -2.10317964e-01, -2.02773359e-01,\n",
       "        -7.78117505e-02,  8.44839183e-02, -6.19998781e-02,\n",
       "        -7.16982790e-02, -8.14401594e-02],\n",
       "       [ 6.66623680e-02,  8.64871868e-02,  7.52867633e-02,\n",
       "         9.36750677e-17, -3.19870758e-02, -9.59026344e-01,\n",
       "        -3.00373105e-02, -9.23837863e-03, -1.00788775e-02,\n",
       "         4.27608639e-04,  5.64769153e-03,  2.25454687e-01,\n",
       "        -9.79552325e-02,  1.03441824e-02],\n",
       "       [ 2.68381012e-01,  2.84612950e-01,  3.57582712e-01,\n",
       "        -0.00000000e+00, -6.09873648e-02,  2.10760319e-02,\n",
       "         4.48319100e-01, -4.23190508e-01, -3.97131426e-01,\n",
       "         1.24851787e-01,  4.67353452e-02, -2.67275962e-01,\n",
       "        -1.71809475e-01, -2.41696836e-01],\n",
       "       [ 7.78552659e-03, -6.69215196e-03,  3.30055140e-02,\n",
       "        -1.56125113e-16,  9.95422918e-01, -2.82181363e-02,\n",
       "         5.69974204e-02, -4.09181121e-02, -4.05845497e-02,\n",
       "        -1.11488639e-02,  1.65241437e-04,  1.67037239e-02,\n",
       "         6.14430581e-03,  1.14452086e-02],\n",
       "       [-1.15864659e-01,  1.20527278e-02, -1.89831176e-01,\n",
       "        -1.11022302e-16, -9.21272297e-03, -2.75951466e-02,\n",
       "         7.84415804e-01,  3.42294691e-01,  3.20519893e-01,\n",
       "         3.22777741e-01, -1.80416366e-02,  9.38258682e-02,\n",
       "        -2.89628984e-02,  1.37093333e-02]])"
      ]
     },
     "execution_count": 62,
     "metadata": {},
     "output_type": "execute_result"
    }
   ],
   "source": [
    "#vidimo da 6 komponenti objasnjavaju najveci deo varijanse, pa zato nadalje uzimamo samo tih 6 komponenti\n",
    "pca.n_components = 6\n",
    "pca.components_[0:6, :]"
   ]
  },
  {
   "cell_type": "code",
   "execution_count": 63,
   "metadata": {
    "collapsed": true
   },
   "outputs": [],
   "source": [
    "#transformisemo i train i test set\n",
    "train_pca=pca.fit_transform(train)\n",
    "test_pca=pca.fit_transform(test)"
   ]
  },
  {
   "cell_type": "code",
   "execution_count": 64,
   "metadata": {
    "collapsed": true
   },
   "outputs": [],
   "source": [
    "#prebacujemo ih u dataframe\n",
    "train_pca_frame=pd.DataFrame(train_pca, columns= range(1,7), index = train.index)\n",
    "test_pca_frame=pd.DataFrame(test_pca, columns= range(1,7), index = test.index)"
   ]
  },
  {
   "cell_type": "markdown",
   "metadata": {},
   "source": [
    "## Klasterovanje"
   ]
  },
  {
   "cell_type": "code",
   "execution_count": 65,
   "metadata": {
    "collapsed": true
   },
   "outputs": [],
   "source": [
    "#isprobavanje razlicith k vrednosti\n",
    "sse = {}\n",
    "for k in range(1, 10):\n",
    "    kmeans = KMeans(n_clusters=k, max_iter=100).fit(train)\n",
    "    cluste_labels = kmeans.labels_\n",
    "    sse[k] = kmeans.inertia_ "
   ]
  },
  {
   "cell_type": "code",
   "execution_count": 66,
   "metadata": {
    "scrolled": true
   },
   "outputs": [
    {
     "data": {
      "image/png": "[encoded data removed]",
      "text/plain": [
       "<Figure size 842.4x595.44 with 1 Axes>"
      ]
     },
     "metadata": {},
     "output_type": "display_data"
    }
   ],
   "source": [
    "#gledamo koliko su klasteri udaljeni jedni od drugih\n",
    "plt.close()\n",
    "plt.plot(list(sse.keys()), list(sse.values()))\n",
    "plt.xlabel(\"Number of clusters\")\n",
    "plt.ylabel(\"Intra Cluster Distance\")\n",
    "plt.show()"
   ]
  },
  {
   "cell_type": "code",
   "execution_count": 67,
   "metadata": {},
   "outputs": [
    {
     "data": {
      "image/png": "[encoded data removed]",
      "text/plain": [
       "<Figure size 842.4x595.44 with 1 Axes>"
      ]
     },
     "metadata": {},
     "output_type": "display_data"
    }
   ],
   "source": [
    "#gledamo silhouette score (koliko su dobro elementi rasporedjeni po klasterima)\n",
    "sse = {}\n",
    "for k in range(2, 10):\n",
    "    kmeans = KMeans(n_clusters=k, max_iter=100).fit(train)\n",
    "    cluster_labels = kmeans.fit_predict(train)\n",
    "    sse[k] = silhouette_score(train, cluster_labels)\n",
    "\n",
    "plt.plot(list(sse.keys()), list(sse.values()))\n",
    "plt.xlabel(\"Number of cluster\")\n",
    "plt.ylabel(\"SSE\")\n",
    "plt.show()"
   ]
  },
  {
   "cell_type": "code",
   "execution_count": 68,
   "metadata": {},
   "outputs": [],
   "source": [
    "#vidimo da su elementi najbolje rasporedjeni kad imamo 7 klastera, tako da uzimamo da je k = 6 i kreiramo model\n",
    "\n",
    "kmeans_algorithm = KMeans(n_clusters = 7, max_iter = 100) \n",
    "\n",
    "cluster_model_normalized = kmeans_algorithm.fit(train)\n",
    "\n",
    "clusters_normalized_test = cluster_model_normalized.predict(test)\n",
    "clusters_normalized_train = cluster_model_normalized.predict(train)"
   ]
  },
  {
   "cell_type": "code",
   "execution_count": 69,
   "metadata": {
    "scrolled": true
   },
   "outputs": [
    {
     "name": "stderr",
     "output_type": "stream",
     "text": [
      "C:\\Users\\Marija.Miljkovic\\Anaconda3\\lib\\site-packages\\ipykernel_launcher.py:1: SettingWithCopyWarning: \n",
      "A value is trying to be set on a copy of a slice from a DataFrame.\n",
      "Try using .loc[row_indexer,col_indexer] = value instead\n",
      "\n",
      "See the caveats in the documentation: http://pandas.pydata.org/pandas-docs/stable/indexing.html#indexing-view-versus-copy\n",
      "  \"\"\"Entry point for launching an IPython kernel.\n",
      "C:\\Users\\Marija.Miljkovic\\Anaconda3\\lib\\site-packages\\ipykernel_launcher.py:2: SettingWithCopyWarning: \n",
      "A value is trying to be set on a copy of a slice from a DataFrame.\n",
      "Try using .loc[row_indexer,col_indexer] = value instead\n",
      "\n",
      "See the caveats in the documentation: http://pandas.pydata.org/pandas-docs/stable/indexing.html#indexing-view-versus-copy\n",
      "  \n"
     ]
    }
   ],
   "source": [
    "test['Cluster'] = clusters_normalized_test\n",
    "train['Cluster'] = clusters_normalized_train"
   ]
  },
  {
   "cell_type": "code",
   "execution_count": 33,
   "metadata": {
    "scrolled": true
   },
   "outputs": [
    {
     "data": {
      "text/html": [
       "<div>\n",
       "<style scoped>\n",
       "    .dataframe tbody tr th:only-of-type {\n",
       "        vertical-align: middle;\n",
       "    }\n",
       "\n",
       "    .dataframe tbody tr th {\n",
       "        vertical-align: top;\n",
       "    }\n",
       "\n",
       "    .dataframe thead th {\n",
       "        text-align: right;\n",
       "    }\n",
       "</style>\n",
       "<table border=\"1\" class=\"dataframe\">\n",
       "  <thead>\n",
       "    <tr style=\"text-align: right;\">\n",
       "      <th></th>\n",
       "      <th>season</th>\n",
       "      <th>yr</th>\n",
       "      <th>mnth</th>\n",
       "      <th>holiday</th>\n",
       "      <th>weekday</th>\n",
       "      <th>workingday</th>\n",
       "      <th>weathersit</th>\n",
       "      <th>temp</th>\n",
       "      <th>atemp</th>\n",
       "      <th>hum</th>\n",
       "      <th>windspeed</th>\n",
       "      <th>casual</th>\n",
       "      <th>registered</th>\n",
       "      <th>cnt</th>\n",
       "      <th>Cluster</th>\n",
       "    </tr>\n",
       "  </thead>\n",
       "  <tbody>\n",
       "    <tr>\n",
       "      <th>503</th>\n",
       "      <td>0.333333</td>\n",
       "      <td>1.0</td>\n",
       "      <td>0.363636</td>\n",
       "      <td>0.0</td>\n",
       "      <td>1.000000</td>\n",
       "      <td>0.0</td>\n",
       "      <td>0.0</td>\n",
       "      <td>0.789210</td>\n",
       "      <td>0.739836</td>\n",
       "      <td>0.753213</td>\n",
       "      <td>0.364071</td>\n",
       "      <td>0.837148</td>\n",
       "      <td>0.528588</td>\n",
       "      <td>0.749425</td>\n",
       "      <td>1</td>\n",
       "    </tr>\n",
       "    <tr>\n",
       "      <th>314</th>\n",
       "      <td>1.000000</td>\n",
       "      <td>0.0</td>\n",
       "      <td>0.909091</td>\n",
       "      <td>0.0</td>\n",
       "      <td>0.500000</td>\n",
       "      <td>1.0</td>\n",
       "      <td>1.0</td>\n",
       "      <td>0.495350</td>\n",
       "      <td>0.489506</td>\n",
       "      <td>0.956298</td>\n",
       "      <td>0.235919</td>\n",
       "      <td>0.041960</td>\n",
       "      <td>0.238522</td>\n",
       "      <td>0.206512</td>\n",
       "      <td>5</td>\n",
       "    </tr>\n",
       "    <tr>\n",
       "      <th>215</th>\n",
       "      <td>0.666667</td>\n",
       "      <td>0.0</td>\n",
       "      <td>0.636364</td>\n",
       "      <td>0.0</td>\n",
       "      <td>0.166667</td>\n",
       "      <td>1.0</td>\n",
       "      <td>0.0</td>\n",
       "      <td>0.879548</td>\n",
       "      <td>0.819364</td>\n",
       "      <td>0.608826</td>\n",
       "      <td>0.350017</td>\n",
       "      <td>0.247653</td>\n",
       "      <td>0.499567</td>\n",
       "      <td>0.495168</td>\n",
       "      <td>5</td>\n",
       "    </tr>\n",
       "    <tr>\n",
       "      <th>199</th>\n",
       "      <td>0.666667</td>\n",
       "      <td>0.0</td>\n",
       "      <td>0.545455</td>\n",
       "      <td>0.0</td>\n",
       "      <td>1.000000</td>\n",
       "      <td>0.0</td>\n",
       "      <td>0.0</td>\n",
       "      <td>0.984424</td>\n",
       "      <td>0.951946</td>\n",
       "      <td>0.514139</td>\n",
       "      <td>0.224357</td>\n",
       "      <td>0.289026</td>\n",
       "      <td>0.328906</td>\n",
       "      <td>0.375403</td>\n",
       "      <td>6</td>\n",
       "    </tr>\n",
       "    <tr>\n",
       "      <th>330</th>\n",
       "      <td>1.000000</td>\n",
       "      <td>0.0</td>\n",
       "      <td>1.000000</td>\n",
       "      <td>0.0</td>\n",
       "      <td>1.000000</td>\n",
       "      <td>0.0</td>\n",
       "      <td>0.0</td>\n",
       "      <td>0.299097</td>\n",
       "      <td>0.303920</td>\n",
       "      <td>0.630249</td>\n",
       "      <td>0.151301</td>\n",
       "      <td>0.206573</td>\n",
       "      <td>0.416979</td>\n",
       "      <td>0.413254</td>\n",
       "      <td>6</td>\n",
       "    </tr>\n",
       "  </tbody>\n",
       "</table>\n",
       "</div>"
      ],
      "text/plain": [
       "       season   yr      mnth  holiday   weekday  workingday  weathersit  \\\n",
       "503  0.333333  1.0  0.363636      0.0  1.000000         0.0         0.0   \n",
       "314  1.000000  0.0  0.909091      0.0  0.500000         1.0         1.0   \n",
       "215  0.666667  0.0  0.636364      0.0  0.166667         1.0         0.0   \n",
       "199  0.666667  0.0  0.545455      0.0  1.000000         0.0         0.0   \n",
       "330  1.000000  0.0  1.000000      0.0  1.000000         0.0         0.0   \n",
       "\n",
       "         temp     atemp       hum  windspeed    casual  registered       cnt  \\\n",
       "503  0.789210  0.739836  0.753213   0.364071  0.837148    0.528588  0.749425   \n",
       "314  0.495350  0.489506  0.956298   0.235919  0.041960    0.238522  0.206512   \n",
       "215  0.879548  0.819364  0.608826   0.350017  0.247653    0.499567  0.495168   \n",
       "199  0.984424  0.951946  0.514139   0.224357  0.289026    0.328906  0.375403   \n",
       "330  0.299097  0.303920  0.630249   0.151301  0.206573    0.416979  0.413254   \n",
       "\n",
       "     Cluster  \n",
       "503        1  \n",
       "314        5  \n",
       "215        5  \n",
       "199        6  \n",
       "330        6  "
      ]
     },
     "execution_count": 33,
     "metadata": {},
     "output_type": "execute_result"
    }
   ],
   "source": [
    "test.head()"
   ]
  },
  {
   "cell_type": "code",
   "execution_count": 34,
   "metadata": {},
   "outputs": [
    {
     "data": {
      "text/html": [
       "<div>\n",
       "<style scoped>\n",
       "    .dataframe tbody tr th:only-of-type {\n",
       "        vertical-align: middle;\n",
       "    }\n",
       "\n",
       "    .dataframe tbody tr th {\n",
       "        vertical-align: top;\n",
       "    }\n",
       "\n",
       "    .dataframe thead th {\n",
       "        text-align: right;\n",
       "    }\n",
       "</style>\n",
       "<table border=\"1\" class=\"dataframe\">\n",
       "  <thead>\n",
       "    <tr style=\"text-align: right;\">\n",
       "      <th></th>\n",
       "      <th>season</th>\n",
       "      <th>yr</th>\n",
       "      <th>mnth</th>\n",
       "      <th>holiday</th>\n",
       "      <th>weekday</th>\n",
       "      <th>workingday</th>\n",
       "      <th>weathersit</th>\n",
       "      <th>temp</th>\n",
       "      <th>atemp</th>\n",
       "      <th>hum</th>\n",
       "      <th>windspeed</th>\n",
       "      <th>casual</th>\n",
       "      <th>registered</th>\n",
       "      <th>cnt</th>\n",
       "      <th>Cluster</th>\n",
       "    </tr>\n",
       "  </thead>\n",
       "  <tbody>\n",
       "    <tr>\n",
       "      <th>count</th>\n",
       "      <td>19.000000</td>\n",
       "      <td>19.0</td>\n",
       "      <td>19.000000</td>\n",
       "      <td>19.0</td>\n",
       "      <td>19.000000</td>\n",
       "      <td>19.0</td>\n",
       "      <td>19.000000</td>\n",
       "      <td>19.000000</td>\n",
       "      <td>19.000000</td>\n",
       "      <td>19.000000</td>\n",
       "      <td>19.000000</td>\n",
       "      <td>19.000000</td>\n",
       "      <td>19.000000</td>\n",
       "      <td>19.000000</td>\n",
       "      <td>19.0</td>\n",
       "    </tr>\n",
       "    <tr>\n",
       "      <th>mean</th>\n",
       "      <td>0.122807</td>\n",
       "      <td>0.0</td>\n",
       "      <td>0.157895</td>\n",
       "      <td>0.0</td>\n",
       "      <td>0.552632</td>\n",
       "      <td>1.0</td>\n",
       "      <td>0.289474</td>\n",
       "      <td>0.306850</td>\n",
       "      <td>0.290698</td>\n",
       "      <td>0.619511</td>\n",
       "      <td>0.430708</td>\n",
       "      <td>0.063427</td>\n",
       "      <td>0.245308</td>\n",
       "      <td>0.220336</td>\n",
       "      <td>0.0</td>\n",
       "    </tr>\n",
       "    <tr>\n",
       "      <th>std</th>\n",
       "      <td>0.165198</td>\n",
       "      <td>0.0</td>\n",
       "      <td>0.099780</td>\n",
       "      <td>0.0</td>\n",
       "      <td>0.208260</td>\n",
       "      <td>0.0</td>\n",
       "      <td>0.303488</td>\n",
       "      <td>0.133469</td>\n",
       "      <td>0.134669</td>\n",
       "      <td>0.174817</td>\n",
       "      <td>0.172312</td>\n",
       "      <td>0.059373</td>\n",
       "      <td>0.068122</td>\n",
       "      <td>0.073019</td>\n",
       "      <td>0.0</td>\n",
       "    </tr>\n",
       "    <tr>\n",
       "      <th>min</th>\n",
       "      <td>0.000000</td>\n",
       "      <td>0.0</td>\n",
       "      <td>0.000000</td>\n",
       "      <td>0.0</td>\n",
       "      <td>0.166667</td>\n",
       "      <td>1.0</td>\n",
       "      <td>0.000000</td>\n",
       "      <td>0.094267</td>\n",
       "      <td>0.085601</td>\n",
       "      <td>0.323051</td>\n",
       "      <td>0.147857</td>\n",
       "      <td>0.002054</td>\n",
       "      <td>0.094427</td>\n",
       "      <td>0.076047</td>\n",
       "      <td>0.0</td>\n",
       "    </tr>\n",
       "    <tr>\n",
       "      <th>25%</th>\n",
       "      <td>0.000000</td>\n",
       "      <td>0.0</td>\n",
       "      <td>0.090909</td>\n",
       "      <td>0.0</td>\n",
       "      <td>0.333333</td>\n",
       "      <td>1.0</td>\n",
       "      <td>0.000000</td>\n",
       "      <td>0.202054</td>\n",
       "      <td>0.205201</td>\n",
       "      <td>0.510786</td>\n",
       "      <td>0.322408</td>\n",
       "      <td>0.024648</td>\n",
       "      <td>0.210439</td>\n",
       "      <td>0.174643</td>\n",
       "      <td>0.0</td>\n",
       "    </tr>\n",
       "    <tr>\n",
       "      <th>50%</th>\n",
       "      <td>0.000000</td>\n",
       "      <td>0.0</td>\n",
       "      <td>0.181818</td>\n",
       "      <td>0.0</td>\n",
       "      <td>0.500000</td>\n",
       "      <td>1.0</td>\n",
       "      <td>0.500000</td>\n",
       "      <td>0.290790</td>\n",
       "      <td>0.275813</td>\n",
       "      <td>0.555699</td>\n",
       "      <td>0.421803</td>\n",
       "      <td>0.049883</td>\n",
       "      <td>0.232169</td>\n",
       "      <td>0.203981</td>\n",
       "      <td>0.0</td>\n",
       "    </tr>\n",
       "    <tr>\n",
       "      <th>75%</th>\n",
       "      <td>0.333333</td>\n",
       "      <td>0.0</td>\n",
       "      <td>0.227273</td>\n",
       "      <td>0.0</td>\n",
       "      <td>0.666667</td>\n",
       "      <td>1.0</td>\n",
       "      <td>0.500000</td>\n",
       "      <td>0.394109</td>\n",
       "      <td>0.370616</td>\n",
       "      <td>0.754070</td>\n",
       "      <td>0.512581</td>\n",
       "      <td>0.074824</td>\n",
       "      <td>0.280465</td>\n",
       "      <td>0.259664</td>\n",
       "      <td>0.0</td>\n",
       "    </tr>\n",
       "    <tr>\n",
       "      <th>max</th>\n",
       "      <td>0.333333</td>\n",
       "      <td>0.0</td>\n",
       "      <td>0.363636</td>\n",
       "      <td>0.0</td>\n",
       "      <td>0.833333</td>\n",
       "      <td>1.0</td>\n",
       "      <td>1.000000</td>\n",
       "      <td>0.599187</td>\n",
       "      <td>0.587981</td>\n",
       "      <td>0.944301</td>\n",
       "      <td>0.753859</td>\n",
       "      <td>0.258803</td>\n",
       "      <td>0.392434</td>\n",
       "      <td>0.373332</td>\n",
       "      <td>0.0</td>\n",
       "    </tr>\n",
       "  </tbody>\n",
       "</table>\n",
       "</div>"
      ],
      "text/plain": [
       "          season    yr       mnth  holiday    weekday  workingday  weathersit  \\\n",
       "count  19.000000  19.0  19.000000     19.0  19.000000        19.0   19.000000   \n",
       "mean    0.122807   0.0   0.157895      0.0   0.552632         1.0    0.289474   \n",
       "std     0.165198   0.0   0.099780      0.0   0.208260         0.0    0.303488   \n",
       "min     0.000000   0.0   0.000000      0.0   0.166667         1.0    0.000000   \n",
       "25%     0.000000   0.0   0.090909      0.0   0.333333         1.0    0.000000   \n",
       "50%     0.000000   0.0   0.181818      0.0   0.500000         1.0    0.500000   \n",
       "75%     0.333333   0.0   0.227273      0.0   0.666667         1.0    0.500000   \n",
       "max     0.333333   0.0   0.363636      0.0   0.833333         1.0    1.000000   \n",
       "\n",
       "            temp      atemp        hum  windspeed     casual  registered  \\\n",
       "count  19.000000  19.000000  19.000000  19.000000  19.000000   19.000000   \n",
       "mean    0.306850   0.290698   0.619511   0.430708   0.063427    0.245308   \n",
       "std     0.133469   0.134669   0.174817   0.172312   0.059373    0.068122   \n",
       "min     0.094267   0.085601   0.323051   0.147857   0.002054    0.094427   \n",
       "25%     0.202054   0.205201   0.510786   0.322408   0.024648    0.210439   \n",
       "50%     0.290790   0.275813   0.555699   0.421803   0.049883    0.232169   \n",
       "75%     0.394109   0.370616   0.754070   0.512581   0.074824    0.280465   \n",
       "max     0.599187   0.587981   0.944301   0.753859   0.258803    0.392434   \n",
       "\n",
       "             cnt  Cluster  \n",
       "count  19.000000     19.0  \n",
       "mean    0.220336      0.0  \n",
       "std     0.073019      0.0  \n",
       "min     0.076047      0.0  \n",
       "25%     0.174643      0.0  \n",
       "50%     0.203981      0.0  \n",
       "75%     0.259664      0.0  \n",
       "max     0.373332      0.0  "
      ]
     },
     "execution_count": 34,
     "metadata": {},
     "output_type": "execute_result"
    }
   ],
   "source": [
    "#deskriptivna statistika prvog klastera\n",
    "test[test['Cluster']==0].describe()"
   ]
  },
  {
   "cell_type": "code",
   "execution_count": 35,
   "metadata": {},
   "outputs": [
    {
     "data": {
      "text/plain": [
       "array([[ 9.28961749e-02, -4.99600361e-16,  2.10134128e-01,\n",
       "         0.00000000e+00,  5.08196721e-01,  1.00000000e+00,\n",
       "         2.13114754e-01,  3.03227392e-01,  2.92638082e-01,\n",
       "         6.10693615e-01,  4.02606853e-01,  6.46646271e-02,\n",
       "         2.54034453e-01,  2.27774928e-01],\n",
       "       [ 6.73611111e-01,  1.00000000e+00,  6.09848485e-01,\n",
       "         0.00000000e+00,  4.16666667e-01, -5.55111512e-16,\n",
       "         2.18750000e-01,  6.38126161e-01,  6.08760988e-01,\n",
       "         6.56419623e-01,  3.44847371e-01,  5.81823406e-01,\n",
       "         6.01516628e-01,  7.07427328e-01],\n",
       "       [ 7.37179487e-01,  1.00000000e+00,  6.72202797e-01,\n",
       "         0.00000000e+00,  5.20833333e-01,  1.00000000e+00,\n",
       "         1.68269231e-01,  6.56725589e-01,  6.23701711e-01,\n",
       "         6.47076053e-01,  3.05886217e-01,  2.56311507e-01,\n",
       "         8.03949444e-01,  7.41102561e-01],\n",
       "       [ 5.18518519e-02,  4.22222222e-01,  1.81818182e-01,\n",
       "         0.00000000e+00,  4.66666667e-01, -6.66133815e-16,\n",
       "         2.22222222e-01,  2.76075099e-01,  2.62544768e-01,\n",
       "         6.02384827e-01,  4.13859759e-01,  1.40988524e-01,\n",
       "         2.27115218e-01,  2.36250447e-01],\n",
       "       [ 1.18644068e-01,  1.00000000e+00,  2.17257319e-01,\n",
       "         0.00000000e+00,  4.91525424e-01,  1.00000000e+00,\n",
       "         2.62711864e-01,  4.24360738e-01,  4.12900256e-01,\n",
       "         6.42822884e-01,  3.46681377e-01,  1.43769396e-01,\n",
       "         5.58154730e-01,  5.01121234e-01],\n",
       "       [ 7.02064897e-01,  5.55111512e-16,  6.57280772e-01,\n",
       "         0.00000000e+00,  5.00000000e-01,  1.00000000e+00,\n",
       "         2.16814159e-01,  6.49845716e-01,  6.20736244e-01,\n",
       "         7.00651273e-01,  3.23164261e-01,  1.71989904e-01,\n",
       "         5.12082214e-01,  4.75474345e-01],\n",
       "       [ 6.99346405e-01, -3.33066907e-16,  6.61319073e-01,\n",
       "         0.00000000e+00,  5.29411765e-01, -5.55111512e-16,\n",
       "         1.47058824e-01,  6.01497473e-01,  5.76105450e-01,\n",
       "         6.75901245e-01,  3.31371734e-01,  4.10383872e-01,\n",
       "         3.87740427e-01,  4.69866363e-01]])"
      ]
     },
     "execution_count": 35,
     "metadata": {},
     "output_type": "execute_result"
    }
   ],
   "source": [
    "centers_normalized = cluster_model_normalized.cluster_centers_\n",
    "centers_normalized"
   ]
  },
  {
   "cell_type": "code",
   "execution_count": null,
   "metadata": {
    "collapsed": true
   },
   "outputs": [],
   "source": [
    "#treba prokomentarisati svaki klaster"
   ]
  },
  {
   "cell_type": "code",
   "execution_count": null,
   "metadata": {
    "collapsed": true
   },
   "outputs": [],
   "source": [
    "#pitanja: sta se predvidja, ukupan broj bicikala? Da li taj broj treba da se normalizuje i udje u klasterovanje ili ne?\n",
    "# Da li broj klastera treba da bude atribut za klasifikaciju?\n"
   ]
  },
  {
   "cell_type": "markdown",
   "metadata": {},
   "source": [
    "## Prediktivni modeli"
   ]
  },
  {
   "cell_type": "markdown",
   "metadata": {},
   "source": [
    "### Linearna regresija"
   ]
  },
  {
   "cell_type": "code",
   "execution_count": null,
   "metadata": {
    "collapsed": true
   },
   "outputs": [],
   "source": []
  },
  {
   "cell_type": "markdown",
   "metadata": {},
   "source": [
    "### Drvo odlucivanja"
   ]
  },
  {
   "cell_type": "code",
   "execution_count": null,
   "metadata": {
    "collapsed": true
   },
   "outputs": [],
   "source": []
  },
  {
   "cell_type": "code",
   "execution_count": 71,
   "metadata": {},
   "outputs": [
    {
     "data": {
      "text/plain": [
       "Index(['season', 'yr', 'mnth', 'holiday', 'weekday', 'workingday',\n",
       "       'weathersit', 'temp', 'atemp', 'hum', 'windspeed', 'casual',\n",
       "       'registered', 'cnt', 'Cluster'],\n",
       "      dtype='object')"
      ]
     },
     "execution_count": 71,
     "metadata": {},
     "output_type": "execute_result"
    }
   ],
   "source": [
    "test.columns"
   ]
  },
  {
   "cell_type": "markdown",
   "metadata": {},
   "source": [
    "### KNN"
   ]
  },
  {
   "cell_type": "code",
   "execution_count": 73,
   "metadata": {},
   "outputs": [
    {
     "ename": "ValueError",
     "evalue": "Unknown label type: 'continuous'",
     "output_type": "error",
     "traceback": [
      "\u001b[1;31m---------------------------------------------------------------------------\u001b[0m",
      "\u001b[1;31mValueError\u001b[0m                                Traceback (most recent call last)",
      "\u001b[1;32m<ipython-input-73-cede755c5948>\u001b[0m in \u001b[0;36m<module>\u001b[1;34m()\u001b[0m\n\u001b[0;32m      4\u001b[0m \u001b[0mtrain_new\u001b[0m \u001b[1;33m=\u001b[0m \u001b[0mtrain\u001b[0m\u001b[1;33m.\u001b[0m\u001b[0mdrop\u001b[0m\u001b[1;33m(\u001b[0m\u001b[0mcolumns\u001b[0m\u001b[1;33m=\u001b[0m\u001b[1;33m[\u001b[0m\u001b[1;34m'cnt'\u001b[0m\u001b[1;33m]\u001b[0m\u001b[1;33m)\u001b[0m\u001b[1;33m\u001b[0m\u001b[0m\n\u001b[0;32m      5\u001b[0m \u001b[1;33m\u001b[0m\u001b[0m\n\u001b[1;32m----> 6\u001b[1;33m \u001b[0mknn\u001b[0m\u001b[1;33m.\u001b[0m\u001b[0mfit\u001b[0m\u001b[1;33m(\u001b[0m\u001b[0mtrain_new\u001b[0m\u001b[1;33m,\u001b[0m \u001b[0my\u001b[0m\u001b[1;33m)\u001b[0m\u001b[1;33m\u001b[0m\u001b[0m\n\u001b[0m\u001b[0;32m      7\u001b[0m \u001b[0my_holdout\u001b[0m \u001b[1;33m=\u001b[0m \u001b[0mtest\u001b[0m\u001b[1;33m[\u001b[0m\u001b[1;34m'cnt'\u001b[0m\u001b[1;33m]\u001b[0m\u001b[1;33m\u001b[0m\u001b[0m\n\u001b[0;32m      8\u001b[0m \u001b[0mtest_new\u001b[0m \u001b[1;33m=\u001b[0m \u001b[0mtest\u001b[0m\u001b[1;33m.\u001b[0m\u001b[0mdrop\u001b[0m\u001b[1;33m(\u001b[0m\u001b[0mcolumns\u001b[0m\u001b[1;33m=\u001b[0m\u001b[1;33m[\u001b[0m\u001b[1;34m'cnt'\u001b[0m\u001b[1;33m]\u001b[0m\u001b[1;33m)\u001b[0m\u001b[1;33m\u001b[0m\u001b[0m\n",
      "\u001b[1;32m~\\Anaconda3\\lib\\site-packages\\sklearn\\neighbors\\base.py\u001b[0m in \u001b[0;36mfit\u001b[1;34m(self, X, y)\u001b[0m\n\u001b[0;32m    777\u001b[0m             \u001b[0mself\u001b[0m\u001b[1;33m.\u001b[0m\u001b[0moutputs_2d_\u001b[0m \u001b[1;33m=\u001b[0m \u001b[1;32mTrue\u001b[0m\u001b[1;33m\u001b[0m\u001b[0m\n\u001b[0;32m    778\u001b[0m \u001b[1;33m\u001b[0m\u001b[0m\n\u001b[1;32m--> 779\u001b[1;33m         \u001b[0mcheck_classification_targets\u001b[0m\u001b[1;33m(\u001b[0m\u001b[0my\u001b[0m\u001b[1;33m)\u001b[0m\u001b[1;33m\u001b[0m\u001b[0m\n\u001b[0m\u001b[0;32m    780\u001b[0m         \u001b[0mself\u001b[0m\u001b[1;33m.\u001b[0m\u001b[0mclasses_\u001b[0m \u001b[1;33m=\u001b[0m \u001b[1;33m[\u001b[0m\u001b[1;33m]\u001b[0m\u001b[1;33m\u001b[0m\u001b[0m\n\u001b[0;32m    781\u001b[0m         \u001b[0mself\u001b[0m\u001b[1;33m.\u001b[0m\u001b[0m_y\u001b[0m \u001b[1;33m=\u001b[0m \u001b[0mnp\u001b[0m\u001b[1;33m.\u001b[0m\u001b[0mempty\u001b[0m\u001b[1;33m(\u001b[0m\u001b[0my\u001b[0m\u001b[1;33m.\u001b[0m\u001b[0mshape\u001b[0m\u001b[1;33m,\u001b[0m \u001b[0mdtype\u001b[0m\u001b[1;33m=\u001b[0m\u001b[0mnp\u001b[0m\u001b[1;33m.\u001b[0m\u001b[0mint\u001b[0m\u001b[1;33m)\u001b[0m\u001b[1;33m\u001b[0m\u001b[0m\n",
      "\u001b[1;32m~\\Anaconda3\\lib\\site-packages\\sklearn\\utils\\multiclass.py\u001b[0m in \u001b[0;36mcheck_classification_targets\u001b[1;34m(y)\u001b[0m\n\u001b[0;32m    170\u001b[0m     if y_type not in ['binary', 'multiclass', 'multiclass-multioutput',\n\u001b[0;32m    171\u001b[0m                       'multilabel-indicator', 'multilabel-sequences']:\n\u001b[1;32m--> 172\u001b[1;33m         \u001b[1;32mraise\u001b[0m \u001b[0mValueError\u001b[0m\u001b[1;33m(\u001b[0m\u001b[1;34m\"Unknown label type: %r\"\u001b[0m \u001b[1;33m%\u001b[0m \u001b[0my_type\u001b[0m\u001b[1;33m)\u001b[0m\u001b[1;33m\u001b[0m\u001b[0m\n\u001b[0m\u001b[0;32m    173\u001b[0m \u001b[1;33m\u001b[0m\u001b[0m\n\u001b[0;32m    174\u001b[0m \u001b[1;33m\u001b[0m\u001b[0m\n",
      "\u001b[1;31mValueError\u001b[0m: Unknown label type: 'continuous'"
     ]
    }
   ],
   "source": [
    "knn = KNeighborsClassifier()\n",
    "\n",
    "y = train['cnt']\n",
    "train_new = train.drop(columns=['cnt'])\n",
    "\n",
    "knn.fit(train_new, y)\n",
    "y_holdout = test['cnt']\n",
    "test_new = test.drop(columns=['cnt'])\n",
    "\n",
    "knn_pred = knn.predict(test_new)\n",
    "\n",
    "print(accuracy_score(y_holdout, knn_pred)) #preciznost predikcije na test setu"
   ]
  },
  {
   "cell_type": "code",
   "execution_count": null,
   "metadata": {
    "collapsed": true
   },
   "outputs": [],
   "source": []
  }
 ],
 "metadata": {
  "kernelspec": {
   "display_name": "Python 3",
   "language": "python",
   "name": "python3"
  },
  "language_info": {
   "codemirror_mode": {
    "name": "ipython",
    "version": 3
   },
   "file_extension": ".py",
   "mimetype": "text/x-python",
   "name": "python",
   "nbconvert_exporter": "python",
   "pygments_lexer": "ipython3",
   "version": "3.6.3"
  }
 },
 "nbformat": 4,
 "nbformat_minor": 2
}
